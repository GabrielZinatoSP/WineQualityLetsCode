{
 "cells": [
  {
   "cell_type": "markdown",
   "id": "a7333695",
   "metadata": {},
   "source": [
    "# Data Science Degree - Let's Code - Statistics Module \n",
    "\n",
    "## Project A - Analysis of the dataset \"Wine Quality\""
   ]
  },
  {
   "cell_type": "markdown",
   "id": "287ff267",
   "metadata": {},
   "source": [
    "### Introduction"
   ]
  },
  {
   "cell_type": "markdown",
   "id": "1e1c57c0",
   "metadata": {
    "ExecuteTime": {
     "end_time": "2021-10-27T13:51:00.835165Z",
     "start_time": "2021-10-27T13:50:59.943274Z"
    }
   },
   "source": [
    "The Dataset is avaialable at:\n",
    "    https://archive.ics.uci.edu/ml/datasets/Wine+Quality"
   ]
  },
  {
   "cell_type": "markdown",
   "id": "e5720c22",
   "metadata": {},
   "source": [
    "Data Set Information:\n",
    "\n",
    "The two datasets are related to red and white variants of the Portuguese \"Vinho Verde\" wine. For more details, consult: [Web Link] or the reference [Cortez et al., 2009]. Due to privacy and logistic issues, only physicochemical (inputs) and sensory (the output) variables are available (e.g. there is no data about grape types, wine brand, wine selling price, etc.).\n",
    "\n",
    "These datasets can be viewed as classification or regression tasks. The classes are ordered and not balanced (e.g. there are many more normal wines than excellent or poor ones). Outlier detection algorithms could be used to detect the few excellent or poor wines. Also, we are not sure if all input variables are relevant. So it could be interesting to test feature selection methods.\n",
    "\n",
    "\n",
    "Attribute Information:\n",
    "\n",
    "Input variables (based on physicochemical tests): <br>\n",
    "- 1 - fixed acidity\n",
    "- 2 - volatile acidity\n",
    "- 3 - citric acid\n",
    "- 4 - residual sugar\n",
    "- 5 - chlorides\n",
    "- 6 - free sulfur dioxide\n",
    "- 7 - total sulfur dioxide\n",
    "- 8 - density\n",
    "- 9 - pH\n",
    "- 10 - sulphates\n",
    "- 11 - alcohol\n",
    "\n",
    "Output variable (based on sensory data): <br>\n",
    "- 12 - quality (score between 0 and 10)"
   ]
  },
  {
   "cell_type": "markdown",
   "id": "890ca0bb",
   "metadata": {},
   "source": [
    "### Step 1\n",
    "\n",
    "**EDA - Exploratory Data Analysis**\n",
    "\n",
    "- Analysis of the measures of position, dispersion, correlation - histograms, boxplots, etc...\n",
    "- Removal of outliers, in case it is necessary (explaining the option chosen)\n",
    "\n",
    "\n",
    "\n",
    "### Step 2\n",
    "\n",
    "**Linear Regression**\n",
    "\n",
    "- Write an algorithm to estimate the variable “Quality” based on the other physicochemical characteristics of the wines\n",
    "- Comment on the techniques used and the results obtained. Explain what you conclude about the usage of this method. \n",
    "\n",
    "### Step 3\n",
    "\n",
    "**Logistic Regression**\n",
    "\n",
    "- Knowing the wines in which Quality >= 6 are considered wines with a good quality, write an algorithm which classifies the wines in \"Good\" or \"Bad\" according to their physicochemical characteristics;\n",
    "- Comment on the techniques used and the results obtained. Explain what you conclude about the usage of this method."
   ]
  },
  {
   "cell_type": "markdown",
   "id": "65101667",
   "metadata": {
    "ExecuteTime": {
     "end_time": "2021-11-12T16:45:56.996126Z",
     "start_time": "2021-11-12T16:45:56.632125Z"
    }
   },
   "source": [
    "__________________________"
   ]
  },
  {
   "cell_type": "markdown",
   "id": "131e9fa3",
   "metadata": {},
   "source": [
    "# Step 1 - Loading the data and Exploratory Data Analysis"
   ]
  },
  {
   "cell_type": "markdown",
   "id": "38708817",
   "metadata": {},
   "source": [
    "- Importing the libraries used in this project:"
   ]
  },
  {
   "cell_type": "code",
   "execution_count": 1,
   "id": "e45fbd95",
   "metadata": {
    "ExecuteTime": {
     "end_time": "2021-12-08T19:48:55.933873Z",
     "start_time": "2021-12-08T19:48:50.818874Z"
    }
   },
   "outputs": [],
   "source": [
    "import numpy as np\n",
    "import pandas as pd\n",
    "import matplotlib.pyplot as plt\n",
    "import seaborn as sns\n",
    "import scipy.stats as stats\n",
    "from sklearn.model_selection import train_test_split\n",
    "from sklearn.preprocessing import StandardScaler\n",
    "from sklearn.linear_model import LinearRegression, RidgeCV, LassoCV, ElasticNetCV, LogisticRegression\n",
    "from sklearn.metrics import r2_score, mean_absolute_error, mean_squared_error\n",
    "from sklearn.metrics import confusion_matrix, accuracy_score, precision_score, recall_score, f1_score\n",
    "from sklearn.metrics import roc_curve, roc_auc_score\n",
    "from mlxtend.plotting import plot_confusion_matrix"
   ]
  },
  {
   "cell_type": "markdown",
   "id": "628ed339",
   "metadata": {},
   "source": [
    "- Reading the data:"
   ]
  },
  {
   "cell_type": "code",
   "execution_count": 2,
   "id": "d30315ff",
   "metadata": {
    "ExecuteTime": {
     "end_time": "2021-12-08T19:48:55.981875Z",
     "start_time": "2021-12-08T19:48:55.935874Z"
    }
   },
   "outputs": [],
   "source": [
    "dfred=pd.read_csv(\"winequality-red.csv\",sep=\";\")\n",
    "dfwhite=pd.read_csv(\"winequality-white.csv\",sep=\";\")"
   ]
  },
  {
   "cell_type": "markdown",
   "id": "bec19a76",
   "metadata": {},
   "source": [
    "- Firstly, we'll check if there are any missing data, the type of the variables and wether or not there are duplicated data."
   ]
  },
  {
   "cell_type": "code",
   "execution_count": 3,
   "id": "8b44d722",
   "metadata": {
    "ExecuteTime": {
     "end_time": "2021-12-08T19:48:56.043873Z",
     "start_time": "2021-12-08T19:48:55.983874Z"
    }
   },
   "outputs": [
    {
     "name": "stdout",
     "output_type": "stream",
     "text": [
      "*-*-*-*-*-*-*-*-*-*-*-*-*\n",
      "Data about the red wines:\n",
      "*-*-*-*-*-*-*-*-*-*-*-*-*\n",
      "\n",
      "<class 'pandas.core.frame.DataFrame'>\n",
      "RangeIndex: 1599 entries, 0 to 1598\n",
      "Data columns (total 12 columns):\n",
      " #   Column                Non-Null Count  Dtype  \n",
      "---  ------                --------------  -----  \n",
      " 0   fixed acidity         1599 non-null   float64\n",
      " 1   volatile acidity      1599 non-null   float64\n",
      " 2   citric acid           1599 non-null   float64\n",
      " 3   residual sugar        1599 non-null   float64\n",
      " 4   chlorides             1599 non-null   float64\n",
      " 5   free sulfur dioxide   1599 non-null   float64\n",
      " 6   total sulfur dioxide  1599 non-null   float64\n",
      " 7   density               1599 non-null   float64\n",
      " 8   pH                    1599 non-null   float64\n",
      " 9   sulphates             1599 non-null   float64\n",
      " 10  alcohol               1599 non-null   float64\n",
      " 11  quality               1599 non-null   int64  \n",
      "dtypes: float64(11), int64(1)\n",
      "memory usage: 150.0 KB\n",
      "\n",
      "*-*-*-*-*-*-*-*-*-*-*-*-*\n",
      "Duplicated data:  240 \n",
      "*-*-*-*-*-*-*-*-*-*-*-*-*\n",
      "\n",
      "*-*-*-*-*-*-*-*-*-*-*-*-*-*\n",
      "Data about the white wines:\n",
      "*-*-*-*-*-*-*-*-*-*-*-*-*-*\n",
      "\n",
      "<class 'pandas.core.frame.DataFrame'>\n",
      "RangeIndex: 4898 entries, 0 to 4897\n",
      "Data columns (total 12 columns):\n",
      " #   Column                Non-Null Count  Dtype  \n",
      "---  ------                --------------  -----  \n",
      " 0   fixed acidity         4898 non-null   float64\n",
      " 1   volatile acidity      4898 non-null   float64\n",
      " 2   citric acid           4898 non-null   float64\n",
      " 3   residual sugar        4898 non-null   float64\n",
      " 4   chlorides             4898 non-null   float64\n",
      " 5   free sulfur dioxide   4898 non-null   float64\n",
      " 6   total sulfur dioxide  4898 non-null   float64\n",
      " 7   density               4898 non-null   float64\n",
      " 8   pH                    4898 non-null   float64\n",
      " 9   sulphates             4898 non-null   float64\n",
      " 10  alcohol               4898 non-null   float64\n",
      " 11  quality               4898 non-null   int64  \n",
      "dtypes: float64(11), int64(1)\n",
      "memory usage: 459.3 KB\n",
      "\n",
      "*-*-*-*-*-*-*-*-*-*-*\n",
      "Duplicated data: 937 \n",
      "*-*-*-*-*-*-*-*-*-*-*\n"
     ]
    }
   ],
   "source": [
    "print(\"*-*-*-*-*-*-*-*-*-*-*-*-*\\nData about the red wines:\\n*-*-*-*-*-*-*-*-*-*-*-*-*\\n\")\n",
    "dfred.info()\n",
    "print(\"\\n*-*-*-*-*-*-*-*-*-*-*-*-*\\nDuplicated data: \",dfred.duplicated().sum(),\"\\n*-*-*-*-*-*-*-*-*-*-*-*-*\\n\")\n",
    "print(\"*-*-*-*-*-*-*-*-*-*-*-*-*-*\\nData about the white wines:\\n*-*-*-*-*-*-*-*-*-*-*-*-*-*\\n\")\n",
    "dfwhite.info()\n",
    "print(\"\\n*-*-*-*-*-*-*-*-*-*-*\\nDuplicated data:\",dfwhite.duplicated().sum(),\"\\n*-*-*-*-*-*-*-*-*-*-*\")"
   ]
  },
  {
   "cell_type": "markdown",
   "id": "97b5ca15",
   "metadata": {},
   "source": [
    "- There are no missing data and there are only quantitative variables, the majority of which are continuous quantitative variables while only \"quality\", which will be out target variable, is a discrete quantitative variable. \n",
    "- However, there are duplicated data on both datasets, which I chose to remove in order to avoid any bias in the model."
   ]
  },
  {
   "cell_type": "code",
   "execution_count": 4,
   "id": "7c4f91cb",
   "metadata": {
    "ExecuteTime": {
     "end_time": "2021-12-08T19:48:56.073874Z",
     "start_time": "2021-12-08T19:48:56.045874Z"
    }
   },
   "outputs": [],
   "source": [
    "dfred2=dfred.drop_duplicates()\n",
    "dfwhite2=dfwhite.drop_duplicates()"
   ]
  },
  {
   "cell_type": "markdown",
   "id": "8fcf92ad",
   "metadata": {},
   "source": [
    "- Let's calculate some dispersion and position measures for these variables and observe the behavior of the target variable, \"quality\":"
   ]
  },
  {
   "cell_type": "code",
   "execution_count": 5,
   "id": "086dbd50",
   "metadata": {
    "ExecuteTime": {
     "end_time": "2021-12-08T19:48:56.214874Z",
     "start_time": "2021-12-08T19:48:56.075874Z"
    }
   },
   "outputs": [
    {
     "name": "stdout",
     "output_type": "stream",
     "text": [
      "*-*-*-*-*-*-*-*-*-*-*-*-*-*-*-*-*-*-*-*-*-*-*-*-*-*-*-*-*-*-*-*-*-*-*-*-*-*-*-*-*-*-*-*\n",
      "Observing the target variable, we have the following quantity of each different score:\n",
      "*-*-*-*-*-*-*-*-*-*-*-*-*-*-*-*-*-*-*-*-*-*-*-*-*-*-*-*-*-*-*-*-*-*-*-*-*-*-*-*-*-*-*-*\n",
      "\n",
      "*-*-*-*-*-*\n",
      "Red wines:\n",
      "*-*-*-*-*-*\n"
     ]
    },
    {
     "data": {
      "text/plain": [
       "5    577\n",
       "6    535\n",
       "7    167\n",
       "4     53\n",
       "8     17\n",
       "3     10\n",
       "Name: quality, dtype: int64"
      ]
     },
     "metadata": {},
     "output_type": "display_data"
    },
    {
     "name": "stdout",
     "output_type": "stream",
     "text": [
      "*-*-*-*-*-*-*\n",
      "White wines:\n",
      "*-*-*-*-*-*-*\n"
     ]
    },
    {
     "data": {
      "text/plain": [
       "6    1788\n",
       "5    1175\n",
       "7     689\n",
       "4     153\n",
       "8     131\n",
       "3      20\n",
       "9       5\n",
       "Name: quality, dtype: int64"
      ]
     },
     "metadata": {},
     "output_type": "display_data"
    },
    {
     "name": "stdout",
     "output_type": "stream",
     "text": [
      "*-*-*-*-*-*-*-*-*-*-*-*-*-*-*-*-*-*-*-*-*-*-*-*-*-*-*-*-*-*-*-*-*-*\n",
      "Position Measures of the red wines data and the Standard Deviation:\n",
      "*-*-*-*-*-*-*-*-*-*-*-*-*-*-*-*-*-*-*-*-*-*-*-*-*-*-*-*-*-*-*-*-*-*\n"
     ]
    },
    {
     "data": {
      "text/html": [
       "<div>\n",
       "<style scoped>\n",
       "    .dataframe tbody tr th:only-of-type {\n",
       "        vertical-align: middle;\n",
       "    }\n",
       "\n",
       "    .dataframe tbody tr th {\n",
       "        vertical-align: top;\n",
       "    }\n",
       "\n",
       "    .dataframe thead th {\n",
       "        text-align: right;\n",
       "    }\n",
       "</style>\n",
       "<table border=\"1\" class=\"dataframe\">\n",
       "  <thead>\n",
       "    <tr style=\"text-align: right;\">\n",
       "      <th></th>\n",
       "      <th>fixed acidity</th>\n",
       "      <th>volatile acidity</th>\n",
       "      <th>citric acid</th>\n",
       "      <th>residual sugar</th>\n",
       "      <th>chlorides</th>\n",
       "      <th>free sulfur dioxide</th>\n",
       "      <th>total sulfur dioxide</th>\n",
       "      <th>density</th>\n",
       "      <th>pH</th>\n",
       "      <th>sulphates</th>\n",
       "      <th>alcohol</th>\n",
       "      <th>quality</th>\n",
       "    </tr>\n",
       "  </thead>\n",
       "  <tbody>\n",
       "    <tr>\n",
       "      <th>count</th>\n",
       "      <td>1359.000000</td>\n",
       "      <td>1359.000000</td>\n",
       "      <td>1359.000000</td>\n",
       "      <td>1359.000000</td>\n",
       "      <td>1359.000000</td>\n",
       "      <td>1359.000000</td>\n",
       "      <td>1359.000000</td>\n",
       "      <td>1359.000000</td>\n",
       "      <td>1359.000000</td>\n",
       "      <td>1359.000000</td>\n",
       "      <td>1359.000000</td>\n",
       "      <td>1359.000000</td>\n",
       "    </tr>\n",
       "    <tr>\n",
       "      <th>mean</th>\n",
       "      <td>8.310596</td>\n",
       "      <td>0.529478</td>\n",
       "      <td>0.272333</td>\n",
       "      <td>2.523400</td>\n",
       "      <td>0.088124</td>\n",
       "      <td>15.893304</td>\n",
       "      <td>46.825975</td>\n",
       "      <td>0.996709</td>\n",
       "      <td>3.309787</td>\n",
       "      <td>0.658705</td>\n",
       "      <td>10.432315</td>\n",
       "      <td>5.623252</td>\n",
       "    </tr>\n",
       "    <tr>\n",
       "      <th>std</th>\n",
       "      <td>1.736990</td>\n",
       "      <td>0.183031</td>\n",
       "      <td>0.195537</td>\n",
       "      <td>1.352314</td>\n",
       "      <td>0.049377</td>\n",
       "      <td>10.447270</td>\n",
       "      <td>33.408946</td>\n",
       "      <td>0.001869</td>\n",
       "      <td>0.155036</td>\n",
       "      <td>0.170667</td>\n",
       "      <td>1.082065</td>\n",
       "      <td>0.823578</td>\n",
       "    </tr>\n",
       "    <tr>\n",
       "      <th>min</th>\n",
       "      <td>4.600000</td>\n",
       "      <td>0.120000</td>\n",
       "      <td>0.000000</td>\n",
       "      <td>0.900000</td>\n",
       "      <td>0.012000</td>\n",
       "      <td>1.000000</td>\n",
       "      <td>6.000000</td>\n",
       "      <td>0.990070</td>\n",
       "      <td>2.740000</td>\n",
       "      <td>0.330000</td>\n",
       "      <td>8.400000</td>\n",
       "      <td>3.000000</td>\n",
       "    </tr>\n",
       "    <tr>\n",
       "      <th>25%</th>\n",
       "      <td>7.100000</td>\n",
       "      <td>0.390000</td>\n",
       "      <td>0.090000</td>\n",
       "      <td>1.900000</td>\n",
       "      <td>0.070000</td>\n",
       "      <td>7.000000</td>\n",
       "      <td>22.000000</td>\n",
       "      <td>0.995600</td>\n",
       "      <td>3.210000</td>\n",
       "      <td>0.550000</td>\n",
       "      <td>9.500000</td>\n",
       "      <td>5.000000</td>\n",
       "    </tr>\n",
       "    <tr>\n",
       "      <th>50%</th>\n",
       "      <td>7.900000</td>\n",
       "      <td>0.520000</td>\n",
       "      <td>0.260000</td>\n",
       "      <td>2.200000</td>\n",
       "      <td>0.079000</td>\n",
       "      <td>14.000000</td>\n",
       "      <td>38.000000</td>\n",
       "      <td>0.996700</td>\n",
       "      <td>3.310000</td>\n",
       "      <td>0.620000</td>\n",
       "      <td>10.200000</td>\n",
       "      <td>6.000000</td>\n",
       "    </tr>\n",
       "    <tr>\n",
       "      <th>75%</th>\n",
       "      <td>9.200000</td>\n",
       "      <td>0.640000</td>\n",
       "      <td>0.430000</td>\n",
       "      <td>2.600000</td>\n",
       "      <td>0.091000</td>\n",
       "      <td>21.000000</td>\n",
       "      <td>63.000000</td>\n",
       "      <td>0.997820</td>\n",
       "      <td>3.400000</td>\n",
       "      <td>0.730000</td>\n",
       "      <td>11.100000</td>\n",
       "      <td>6.000000</td>\n",
       "    </tr>\n",
       "    <tr>\n",
       "      <th>max</th>\n",
       "      <td>15.900000</td>\n",
       "      <td>1.580000</td>\n",
       "      <td>1.000000</td>\n",
       "      <td>15.500000</td>\n",
       "      <td>0.611000</td>\n",
       "      <td>72.000000</td>\n",
       "      <td>289.000000</td>\n",
       "      <td>1.003690</td>\n",
       "      <td>4.010000</td>\n",
       "      <td>2.000000</td>\n",
       "      <td>14.900000</td>\n",
       "      <td>8.000000</td>\n",
       "    </tr>\n",
       "  </tbody>\n",
       "</table>\n",
       "</div>"
      ],
      "text/plain": [
       "       fixed acidity  volatile acidity  citric acid  residual sugar  \\\n",
       "count    1359.000000       1359.000000  1359.000000     1359.000000   \n",
       "mean        8.310596          0.529478     0.272333        2.523400   \n",
       "std         1.736990          0.183031     0.195537        1.352314   \n",
       "min         4.600000          0.120000     0.000000        0.900000   \n",
       "25%         7.100000          0.390000     0.090000        1.900000   \n",
       "50%         7.900000          0.520000     0.260000        2.200000   \n",
       "75%         9.200000          0.640000     0.430000        2.600000   \n",
       "max        15.900000          1.580000     1.000000       15.500000   \n",
       "\n",
       "         chlorides  free sulfur dioxide  total sulfur dioxide      density  \\\n",
       "count  1359.000000          1359.000000           1359.000000  1359.000000   \n",
       "mean      0.088124            15.893304             46.825975     0.996709   \n",
       "std       0.049377            10.447270             33.408946     0.001869   \n",
       "min       0.012000             1.000000              6.000000     0.990070   \n",
       "25%       0.070000             7.000000             22.000000     0.995600   \n",
       "50%       0.079000            14.000000             38.000000     0.996700   \n",
       "75%       0.091000            21.000000             63.000000     0.997820   \n",
       "max       0.611000            72.000000            289.000000     1.003690   \n",
       "\n",
       "                pH    sulphates      alcohol      quality  \n",
       "count  1359.000000  1359.000000  1359.000000  1359.000000  \n",
       "mean      3.309787     0.658705    10.432315     5.623252  \n",
       "std       0.155036     0.170667     1.082065     0.823578  \n",
       "min       2.740000     0.330000     8.400000     3.000000  \n",
       "25%       3.210000     0.550000     9.500000     5.000000  \n",
       "50%       3.310000     0.620000    10.200000     6.000000  \n",
       "75%       3.400000     0.730000    11.100000     6.000000  \n",
       "max       4.010000     2.000000    14.900000     8.000000  "
      ]
     },
     "metadata": {},
     "output_type": "display_data"
    },
    {
     "name": "stdout",
     "output_type": "stream",
     "text": [
      "*-*-*-*-*-*-*-*-*-*-*-*-*-*-*-*-*-*-*-*-*-*-*-*-*-*-*-*-*-*-*-*-*-*-*\n",
      "Position Measures of the white wines data and the Standard Deviation:\n",
      "*-*-*-*-*-*-*-*-*-*-*-*-*-*-*-*-*-*-*-*-*-*-*-*-*-*-*-*-*-*-*-*-*-*-*\n"
     ]
    },
    {
     "data": {
      "text/html": [
       "<div>\n",
       "<style scoped>\n",
       "    .dataframe tbody tr th:only-of-type {\n",
       "        vertical-align: middle;\n",
       "    }\n",
       "\n",
       "    .dataframe tbody tr th {\n",
       "        vertical-align: top;\n",
       "    }\n",
       "\n",
       "    .dataframe thead th {\n",
       "        text-align: right;\n",
       "    }\n",
       "</style>\n",
       "<table border=\"1\" class=\"dataframe\">\n",
       "  <thead>\n",
       "    <tr style=\"text-align: right;\">\n",
       "      <th></th>\n",
       "      <th>fixed acidity</th>\n",
       "      <th>volatile acidity</th>\n",
       "      <th>citric acid</th>\n",
       "      <th>residual sugar</th>\n",
       "      <th>chlorides</th>\n",
       "      <th>free sulfur dioxide</th>\n",
       "      <th>total sulfur dioxide</th>\n",
       "      <th>density</th>\n",
       "      <th>pH</th>\n",
       "      <th>sulphates</th>\n",
       "      <th>alcohol</th>\n",
       "      <th>quality</th>\n",
       "    </tr>\n",
       "  </thead>\n",
       "  <tbody>\n",
       "    <tr>\n",
       "      <th>count</th>\n",
       "      <td>3961.000000</td>\n",
       "      <td>3961.000000</td>\n",
       "      <td>3961.000000</td>\n",
       "      <td>3961.000000</td>\n",
       "      <td>3961.000000</td>\n",
       "      <td>3961.000000</td>\n",
       "      <td>3961.000000</td>\n",
       "      <td>3961.000000</td>\n",
       "      <td>3961.000000</td>\n",
       "      <td>3961.000000</td>\n",
       "      <td>3961.000000</td>\n",
       "      <td>3961.000000</td>\n",
       "    </tr>\n",
       "    <tr>\n",
       "      <th>mean</th>\n",
       "      <td>6.839346</td>\n",
       "      <td>0.280538</td>\n",
       "      <td>0.334332</td>\n",
       "      <td>5.914819</td>\n",
       "      <td>0.045905</td>\n",
       "      <td>34.889169</td>\n",
       "      <td>137.193512</td>\n",
       "      <td>0.993790</td>\n",
       "      <td>3.195458</td>\n",
       "      <td>0.490351</td>\n",
       "      <td>10.589358</td>\n",
       "      <td>5.854835</td>\n",
       "    </tr>\n",
       "    <tr>\n",
       "      <th>std</th>\n",
       "      <td>0.866860</td>\n",
       "      <td>0.103437</td>\n",
       "      <td>0.122446</td>\n",
       "      <td>4.861646</td>\n",
       "      <td>0.023103</td>\n",
       "      <td>17.210021</td>\n",
       "      <td>43.129065</td>\n",
       "      <td>0.002905</td>\n",
       "      <td>0.151546</td>\n",
       "      <td>0.113523</td>\n",
       "      <td>1.217076</td>\n",
       "      <td>0.890683</td>\n",
       "    </tr>\n",
       "    <tr>\n",
       "      <th>min</th>\n",
       "      <td>3.800000</td>\n",
       "      <td>0.080000</td>\n",
       "      <td>0.000000</td>\n",
       "      <td>0.600000</td>\n",
       "      <td>0.009000</td>\n",
       "      <td>2.000000</td>\n",
       "      <td>9.000000</td>\n",
       "      <td>0.987110</td>\n",
       "      <td>2.720000</td>\n",
       "      <td>0.220000</td>\n",
       "      <td>8.000000</td>\n",
       "      <td>3.000000</td>\n",
       "    </tr>\n",
       "    <tr>\n",
       "      <th>25%</th>\n",
       "      <td>6.300000</td>\n",
       "      <td>0.210000</td>\n",
       "      <td>0.270000</td>\n",
       "      <td>1.600000</td>\n",
       "      <td>0.035000</td>\n",
       "      <td>23.000000</td>\n",
       "      <td>106.000000</td>\n",
       "      <td>0.991620</td>\n",
       "      <td>3.090000</td>\n",
       "      <td>0.410000</td>\n",
       "      <td>9.500000</td>\n",
       "      <td>5.000000</td>\n",
       "    </tr>\n",
       "    <tr>\n",
       "      <th>50%</th>\n",
       "      <td>6.800000</td>\n",
       "      <td>0.260000</td>\n",
       "      <td>0.320000</td>\n",
       "      <td>4.700000</td>\n",
       "      <td>0.042000</td>\n",
       "      <td>33.000000</td>\n",
       "      <td>133.000000</td>\n",
       "      <td>0.993500</td>\n",
       "      <td>3.180000</td>\n",
       "      <td>0.480000</td>\n",
       "      <td>10.400000</td>\n",
       "      <td>6.000000</td>\n",
       "    </tr>\n",
       "    <tr>\n",
       "      <th>75%</th>\n",
       "      <td>7.300000</td>\n",
       "      <td>0.330000</td>\n",
       "      <td>0.390000</td>\n",
       "      <td>8.900000</td>\n",
       "      <td>0.050000</td>\n",
       "      <td>45.000000</td>\n",
       "      <td>166.000000</td>\n",
       "      <td>0.995710</td>\n",
       "      <td>3.290000</td>\n",
       "      <td>0.550000</td>\n",
       "      <td>11.400000</td>\n",
       "      <td>6.000000</td>\n",
       "    </tr>\n",
       "    <tr>\n",
       "      <th>max</th>\n",
       "      <td>14.200000</td>\n",
       "      <td>1.100000</td>\n",
       "      <td>1.660000</td>\n",
       "      <td>65.800000</td>\n",
       "      <td>0.346000</td>\n",
       "      <td>289.000000</td>\n",
       "      <td>440.000000</td>\n",
       "      <td>1.038980</td>\n",
       "      <td>3.820000</td>\n",
       "      <td>1.080000</td>\n",
       "      <td>14.200000</td>\n",
       "      <td>9.000000</td>\n",
       "    </tr>\n",
       "  </tbody>\n",
       "</table>\n",
       "</div>"
      ],
      "text/plain": [
       "       fixed acidity  volatile acidity  citric acid  residual sugar  \\\n",
       "count    3961.000000       3961.000000  3961.000000     3961.000000   \n",
       "mean        6.839346          0.280538     0.334332        5.914819   \n",
       "std         0.866860          0.103437     0.122446        4.861646   \n",
       "min         3.800000          0.080000     0.000000        0.600000   \n",
       "25%         6.300000          0.210000     0.270000        1.600000   \n",
       "50%         6.800000          0.260000     0.320000        4.700000   \n",
       "75%         7.300000          0.330000     0.390000        8.900000   \n",
       "max        14.200000          1.100000     1.660000       65.800000   \n",
       "\n",
       "         chlorides  free sulfur dioxide  total sulfur dioxide      density  \\\n",
       "count  3961.000000          3961.000000           3961.000000  3961.000000   \n",
       "mean      0.045905            34.889169            137.193512     0.993790   \n",
       "std       0.023103            17.210021             43.129065     0.002905   \n",
       "min       0.009000             2.000000              9.000000     0.987110   \n",
       "25%       0.035000            23.000000            106.000000     0.991620   \n",
       "50%       0.042000            33.000000            133.000000     0.993500   \n",
       "75%       0.050000            45.000000            166.000000     0.995710   \n",
       "max       0.346000           289.000000            440.000000     1.038980   \n",
       "\n",
       "                pH    sulphates      alcohol      quality  \n",
       "count  3961.000000  3961.000000  3961.000000  3961.000000  \n",
       "mean      3.195458     0.490351    10.589358     5.854835  \n",
       "std       0.151546     0.113523     1.217076     0.890683  \n",
       "min       2.720000     0.220000     8.000000     3.000000  \n",
       "25%       3.090000     0.410000     9.500000     5.000000  \n",
       "50%       3.180000     0.480000    10.400000     6.000000  \n",
       "75%       3.290000     0.550000    11.400000     6.000000  \n",
       "max       3.820000     1.080000    14.200000     9.000000  "
      ]
     },
     "metadata": {},
     "output_type": "display_data"
    }
   ],
   "source": [
    "print(\"*-*-*-*-*-*-*-*-*-*-*-*-*-*-*-*-*-*-*-*-*-*-*-*-*-*-*-*-*-*-*-*-*-*-*-*-*-*-*-*-*-*-*-*\\nObserving the target variable, we have the following quantity of each different score:\\n*-*-*-*-*-*-*-*-*-*-*-*-*-*-*-*-*-*-*-*-*-*-*-*-*-*-*-*-*-*-*-*-*-*-*-*-*-*-*-*-*-*-*-*\\n\")\n",
    "print(\"*-*-*-*-*-*\\nRed wines:\\n*-*-*-*-*-*\")\n",
    "display(dfred2[\"quality\"].value_counts())\n",
    "print(\"*-*-*-*-*-*-*\\nWhite wines:\\n*-*-*-*-*-*-*\")\n",
    "display(dfwhite2[\"quality\"].value_counts())\n",
    "\n",
    "print(\"*-*-*-*-*-*-*-*-*-*-*-*-*-*-*-*-*-*-*-*-*-*-*-*-*-*-*-*-*-*-*-*-*-*\\nPosition Measures of the red wines data and the Standard Deviation:\\n*-*-*-*-*-*-*-*-*-*-*-*-*-*-*-*-*-*-*-*-*-*-*-*-*-*-*-*-*-*-*-*-*-*\")\n",
    "display(dfred2.describe())\n",
    "print(\"*-*-*-*-*-*-*-*-*-*-*-*-*-*-*-*-*-*-*-*-*-*-*-*-*-*-*-*-*-*-*-*-*-*-*\\nPosition Measures of the white wines data and the Standard Deviation:\\n*-*-*-*-*-*-*-*-*-*-*-*-*-*-*-*-*-*-*-*-*-*-*-*-*-*-*-*-*-*-*-*-*-*-*\")\n",
    "display(dfwhite2.describe())"
   ]
  },
  {
   "cell_type": "markdown",
   "id": "1bbfa941",
   "metadata": {},
   "source": [
    "- On both DataFrames, the target variable does not have a uniform distribution: there are many more wines with scores 5 and 6 (over half of the data) than wines with other scores. "
   ]
  },
  {
   "cell_type": "code",
   "execution_count": 6,
   "id": "ea052ede",
   "metadata": {
    "ExecuteTime": {
     "end_time": "2021-12-08T19:48:56.245875Z",
     "start_time": "2021-12-08T19:48:56.216874Z"
    }
   },
   "outputs": [
    {
     "name": "stdout",
     "output_type": "stream",
     "text": [
      "*-*-*-*-*-*-*-*-*-*-*-*-*-*-*-*-*-*-*-*-*-*-*-*-*-*-*-*-*-*-*-*-*-*\n",
      "Descriptive statistics for the \"quality\" variable for the red wines\n",
      "*-*-*-*-*-*-*-*-*-*-*-*-*-*-*-*-*-*-*-*-*-*-*-*-*-*-*-*-*-*-*-*-*-*\n",
      "Mean:  5.6232523914643116\n",
      "Standard Deviation:  0.8235780017165619\n",
      "Minimum:  3.0\n",
      "Q1:  5.0\n",
      "Q2(Median):  6.0\n",
      "Q3:  6.0\n",
      "Maximum:  8.0\n",
      "IQR:  1.0\n",
      "Skewness:  0.19240658731658308\n",
      "Mode:  5\n",
      "\n",
      "*-*-*-*-*-*-*-*-*-*-*-*-*-*-*-*-*-*-*-*-*-*-*-*-*-*-*-*-*-*-*-*-*-*-*\n",
      "Descriptive statistics for the \"quality\" variable for the white wines\n",
      "*-*-*-*-*-*-*-*-*-*-*-*-*-*-*-*-*-*-*-*-*-*-*-*-*-*-*-*-*-*-*-*-*-*-*\n",
      "Mean:  5.854834637717748\n",
      "Standard Deviation:  0.8906826794808556\n",
      "Minimum:  3.0\n",
      "Q1:  5.0\n",
      "Q2(Median):  6.0\n",
      "Q3:  6.0\n",
      "Maximum:  9.0\n",
      "IQR:  1.0\n",
      "Skewness:  0.11200403450750412\n",
      "Mode:  6\n"
     ]
    }
   ],
   "source": [
    "print(\"*-*-*-*-*-*-*-*-*-*-*-*-*-*-*-*-*-*-*-*-*-*-*-*-*-*-*-*-*-*-*-*-*-*\\nDescriptive statistics for the \\\"quality\\\" variable for the red wines\\n*-*-*-*-*-*-*-*-*-*-*-*-*-*-*-*-*-*-*-*-*-*-*-*-*-*-*-*-*-*-*-*-*-*\")\n",
    "\n",
    "dfr_tdescribe=dfred2[\"quality\"].describe()\n",
    "lista=[\"Count: \",\"Mean: \",\"Standard Deviation: \", \"Minimum: \", \"Q1: \",\"Q2(Median): \",\"Q3: \",\"Maximum: \"]\n",
    "x=list(zip(lista,dfr_tdescribe))\n",
    "for i in range(1,8):\n",
    "    print(x[i][0],x[i][1])\n",
    "#Interquartile range:\n",
    "IQRred=(dfred2[\"quality\"].quantile(0.75)-dfred2[\"quality\"].quantile(0.25))\n",
    "print(\"IQR: \",IQRred)\n",
    "#Skewness:\n",
    "print(\"Skewness: \",dfred2[\"quality\"].skew()) #Skewed to the right\n",
    "#Mode:\n",
    "print(\"Mode: \",dfred2[\"quality\"].mode()[0])\n",
    "\n",
    "print(\"\\n*-*-*-*-*-*-*-*-*-*-*-*-*-*-*-*-*-*-*-*-*-*-*-*-*-*-*-*-*-*-*-*-*-*-*\\nDescriptive statistics for the \\\"quality\\\" variable for the white wines\\n*-*-*-*-*-*-*-*-*-*-*-*-*-*-*-*-*-*-*-*-*-*-*-*-*-*-*-*-*-*-*-*-*-*-*\")\n",
    "dfw_tdescribe=dfwhite2[\"quality\"].describe()\n",
    "lista=[\"Count: \",\"Mean: \",\"Standard Deviation: \", \"Minimum: \", \"Q1: \",\"Q2(Median): \",\"Q3: \",\"Maximum: \"]\n",
    "x=list(zip(lista,dfw_tdescribe))\n",
    "for i in range(1,8):\n",
    "    print(x[i][0],x[i][1])\n",
    "#Interquartile range:\n",
    "IQRwhite=(dfwhite2[\"quality\"].quantile(0.75)-dfwhite2[\"quality\"].quantile(0.25))\n",
    "print(\"IQR: \",IQRwhite)\n",
    "#Skewness:\n",
    "print(\"Skewness: \",dfwhite2[\"quality\"].skew()) #Skewed to the right\n",
    "#Mode:\n",
    "print(\"Mode: \",dfwhite2[\"quality\"].mode()[0])"
   ]
  },
  {
   "cell_type": "markdown",
   "id": "8ac692a2",
   "metadata": {},
   "source": [
    "- Let's see the distribution of the data of the \"quality\" variable:"
   ]
  },
  {
   "cell_type": "code",
   "execution_count": 7,
   "id": "c47f64e6",
   "metadata": {
    "ExecuteTime": {
     "end_time": "2021-12-08T19:48:56.869874Z",
     "start_time": "2021-12-08T19:48:56.247875Z"
    }
   },
   "outputs": [
    {
     "data": {
      "image/png": "[encoded data removed]",
      "text/plain": [
       "<Figure size 864x432 with 1 Axes>"
      ]
     },
     "metadata": {
      "needs_background": "light"
     },
     "output_type": "display_data"
    },
    {
     "data": {
      "image/png": "[encoded data removed]",
      "text/plain": [
       "<Figure size 864x432 with 1 Axes>"
      ]
     },
     "metadata": {},
     "output_type": "display_data"
    }
   ],
   "source": [
    "#For the red wines:\n",
    "\n",
    "plt.figure(figsize=(12, 6))\n",
    "sns.set(font_scale=1.5)\n",
    "boxplot = sns.boxplot(x=\"quality\",data=dfred2)\n",
    "boxplot.axes.set_title(\"Boxplot of the quality of the red wines\")\n",
    "boxplot.set_xlabel(\"Quality\")\n",
    "boxplot.set_ylabel(\"\")\n",
    "plt.show()\n",
    "\n",
    "#For the white wines:\n",
    "\n",
    "plt.figure(figsize=(12, 6))\n",
    "sns.set(font_scale=1.5)\n",
    "boxplot = sns.boxplot(x=\"quality\",data=dfwhite2)\n",
    "boxplot.axes.set_title(\"Boxplot of the quality of the white wines\")\n",
    "boxplot.set_xlabel(\"Quality\")\n",
    "boxplot.set_ylabel(\"\")\n",
    "plt.show()"
   ]
  },
  {
   "cell_type": "markdown",
   "id": "a9b123c2",
   "metadata": {},
   "source": [
    "- In both boxplots, there are outliers which are over the upper and lower limits of the plot.\n",
    "- Let's count these data:"
   ]
  },
  {
   "cell_type": "code",
   "execution_count": 8,
   "id": "8cc4edb9",
   "metadata": {
    "ExecuteTime": {
     "end_time": "2021-12-08T19:48:56.916873Z",
     "start_time": "2021-12-08T19:48:56.873875Z"
    }
   },
   "outputs": [
    {
     "name": "stdout",
     "output_type": "stream",
     "text": [
      "Outliers in the data of the red wines: 27 lines, which represent 1.9867549668874174 % of the data.\n",
      "Outliers in the data of the white wines: 156 lines, which represent 3.938399394092401 % of the data\n"
     ]
    }
   ],
   "source": [
    "outliersred=0\n",
    "outlierswhite=0\n",
    "i=\"quality\"\n",
    "#For the red wines:\n",
    "#Lower limit:\n",
    "q_low = dfred2[i].quantile(0.25)-(1.5*(dfred2[i].quantile(0.75)-dfred2[i].quantile(0.25)))\n",
    "\n",
    "#Upper limit:\n",
    "q_hi  = dfred2[i].quantile(0.75)+(1.5*(dfred2[i].quantile(0.75)-dfred2[i].quantile(0.25)))\n",
    "\n",
    "#Summing the data which are under the lower limit and above the upper limit:\n",
    "outliersred+=dfred2[dfred2[i]<q_low].shape[0]+dfred2[dfred2[i]>q_hi].shape[0]\n",
    "#For the white wines:\n",
    "#Lower limit\n",
    "q_low = dfwhite2[i].quantile(0.25)-(1.5*(dfwhite2[i].quantile(0.75)-dfwhite2[i].quantile(0.25)))\n",
    "\n",
    "#Upper Limit\n",
    "q_hi  = dfwhite2[i].quantile(0.75)+(1.5*(dfwhite2[i].quantile(0.75)-dfwhite2[i].quantile(0.25)))\n",
    "\n",
    "#Summing the data which are under the lower limit and above the upper limit:\n",
    "outlierswhite+=dfwhite2[dfwhite2[i]<q_low].shape[0]+dfwhite2[dfwhite2[i]>q_hi].shape[0]\n",
    "\n",
    "#Printing the results:\n",
    "print(\"Outliers in the data of the red wines:\",outliersred, \"lines, which represent\",(outliersred/dfred2.shape[0])*100,\"% of the data.\")\n",
    "print(\"Outliers in the data of the white wines:\",outlierswhite,\"lines, which represent\",(outlierswhite/dfwhite2.shape[0])*100,\"% of the data\")"
   ]
  },
  {
   "cell_type": "markdown",
   "id": "1471c76d",
   "metadata": {},
   "source": [
    "- I chose to remove these outliers, since they represent a small percentage of the data, by filtering the DataFrame: we'll select only data which are between certain limits:"
   ]
  },
  {
   "cell_type": "code",
   "execution_count": 9,
   "id": "1475d3f4",
   "metadata": {
    "ExecuteTime": {
     "end_time": "2021-12-08T19:48:56.931873Z",
     "start_time": "2021-12-08T19:48:56.919875Z"
    }
   },
   "outputs": [],
   "source": [
    "dfred3=dfred2[(dfred2[\"quality\"]>q_low)&(dfred2[\"quality\"]<q_hi)]\n",
    "dfwhite3=dfwhite2[(dfwhite2[\"quality\"]>q_low)&(dfwhite2[\"quality\"]<q_hi)]"
   ]
  },
  {
   "cell_type": "markdown",
   "id": "7adcda0b",
   "metadata": {},
   "source": [
    "- We'll use Pearson's correlation (linear correlation) to check the correlations between different variables:"
   ]
  },
  {
   "cell_type": "code",
   "execution_count": 10,
   "id": "7a6a7854",
   "metadata": {
    "ExecuteTime": {
     "end_time": "2021-12-08T19:48:57.011873Z",
     "start_time": "2021-12-08T19:48:56.933875Z"
    }
   },
   "outputs": [
    {
     "name": "stdout",
     "output_type": "stream",
     "text": [
      "*-*-*-*-*-*-*-*-*-*-*-*-*-*-*-*-*-*-*-*\n",
      "Pearson's correlation for the red wines\n",
      "*-*-*-*-*-*-*-*-*-*-*-*-*-*-*-*-*-*-*-*\n"
     ]
    },
    {
     "data": {
      "text/html": [
       "<div>\n",
       "<style scoped>\n",
       "    .dataframe tbody tr th:only-of-type {\n",
       "        vertical-align: middle;\n",
       "    }\n",
       "\n",
       "    .dataframe tbody tr th {\n",
       "        vertical-align: top;\n",
       "    }\n",
       "\n",
       "    .dataframe thead th {\n",
       "        text-align: right;\n",
       "    }\n",
       "</style>\n",
       "<table border=\"1\" class=\"dataframe\">\n",
       "  <thead>\n",
       "    <tr style=\"text-align: right;\">\n",
       "      <th></th>\n",
       "      <th>fixed acidity</th>\n",
       "      <th>volatile acidity</th>\n",
       "      <th>citric acid</th>\n",
       "      <th>residual sugar</th>\n",
       "      <th>chlorides</th>\n",
       "      <th>free sulfur dioxide</th>\n",
       "      <th>total sulfur dioxide</th>\n",
       "      <th>density</th>\n",
       "      <th>pH</th>\n",
       "      <th>sulphates</th>\n",
       "      <th>alcohol</th>\n",
       "      <th>quality</th>\n",
       "    </tr>\n",
       "  </thead>\n",
       "  <tbody>\n",
       "    <tr>\n",
       "      <th>fixed acidity</th>\n",
       "      <td>1.000000</td>\n",
       "      <td>-0.254384</td>\n",
       "      <td>0.663438</td>\n",
       "      <td>0.108343</td>\n",
       "      <td>0.085194</td>\n",
       "      <td>-0.140544</td>\n",
       "      <td>-0.101322</td>\n",
       "      <td>0.670446</td>\n",
       "      <td>-0.685602</td>\n",
       "      <td>0.193439</td>\n",
       "      <td>-0.054515</td>\n",
       "      <td>0.130699</td>\n",
       "    </tr>\n",
       "    <tr>\n",
       "      <th>volatile acidity</th>\n",
       "      <td>-0.254384</td>\n",
       "      <td>1.000000</td>\n",
       "      <td>-0.548969</td>\n",
       "      <td>-0.006197</td>\n",
       "      <td>0.047723</td>\n",
       "      <td>-0.011022</td>\n",
       "      <td>0.081793</td>\n",
       "      <td>0.025859</td>\n",
       "      <td>0.234576</td>\n",
       "      <td>-0.246979</td>\n",
       "      <td>-0.204297</td>\n",
       "      <td>-0.375562</td>\n",
       "    </tr>\n",
       "    <tr>\n",
       "      <th>citric acid</th>\n",
       "      <td>0.663438</td>\n",
       "      <td>-0.548969</td>\n",
       "      <td>1.000000</td>\n",
       "      <td>0.144952</td>\n",
       "      <td>0.217841</td>\n",
       "      <td>-0.046213</td>\n",
       "      <td>0.051770</td>\n",
       "      <td>0.357761</td>\n",
       "      <td>-0.544506</td>\n",
       "      <td>0.324559</td>\n",
       "      <td>0.107435</td>\n",
       "      <td>0.218953</td>\n",
       "    </tr>\n",
       "    <tr>\n",
       "      <th>residual sugar</th>\n",
       "      <td>0.108343</td>\n",
       "      <td>-0.006197</td>\n",
       "      <td>0.144952</td>\n",
       "      <td>1.000000</td>\n",
       "      <td>0.029864</td>\n",
       "      <td>0.171445</td>\n",
       "      <td>0.209813</td>\n",
       "      <td>0.323542</td>\n",
       "      <td>-0.085369</td>\n",
       "      <td>-0.010515</td>\n",
       "      <td>0.059854</td>\n",
       "      <td>0.015759</td>\n",
       "    </tr>\n",
       "    <tr>\n",
       "      <th>chlorides</th>\n",
       "      <td>0.085194</td>\n",
       "      <td>0.047723</td>\n",
       "      <td>0.217841</td>\n",
       "      <td>0.029864</td>\n",
       "      <td>1.000000</td>\n",
       "      <td>0.001014</td>\n",
       "      <td>0.049530</td>\n",
       "      <td>0.193453</td>\n",
       "      <td>-0.276099</td>\n",
       "      <td>0.407839</td>\n",
       "      <td>-0.218907</td>\n",
       "      <td>-0.111609</td>\n",
       "    </tr>\n",
       "    <tr>\n",
       "      <th>free sulfur dioxide</th>\n",
       "      <td>-0.140544</td>\n",
       "      <td>-0.011022</td>\n",
       "      <td>-0.046213</td>\n",
       "      <td>0.171445</td>\n",
       "      <td>0.001014</td>\n",
       "      <td>1.000000</td>\n",
       "      <td>0.666327</td>\n",
       "      <td>-0.011546</td>\n",
       "      <td>0.057721</td>\n",
       "      <td>0.054777</td>\n",
       "      <td>-0.084460</td>\n",
       "      <td>-0.060272</td>\n",
       "    </tr>\n",
       "    <tr>\n",
       "      <th>total sulfur dioxide</th>\n",
       "      <td>-0.101322</td>\n",
       "      <td>0.081793</td>\n",
       "      <td>0.051770</td>\n",
       "      <td>0.209813</td>\n",
       "      <td>0.049530</td>\n",
       "      <td>0.666327</td>\n",
       "      <td>1.000000</td>\n",
       "      <td>0.084028</td>\n",
       "      <td>-0.082761</td>\n",
       "      <td>0.035749</td>\n",
       "      <td>-0.223169</td>\n",
       "      <td>-0.199786</td>\n",
       "    </tr>\n",
       "    <tr>\n",
       "      <th>density</th>\n",
       "      <td>0.670446</td>\n",
       "      <td>0.025859</td>\n",
       "      <td>0.357761</td>\n",
       "      <td>0.323542</td>\n",
       "      <td>0.193453</td>\n",
       "      <td>-0.011546</td>\n",
       "      <td>0.084028</td>\n",
       "      <td>1.000000</td>\n",
       "      <td>-0.355692</td>\n",
       "      <td>0.156113</td>\n",
       "      <td>-0.497149</td>\n",
       "      <td>-0.161429</td>\n",
       "    </tr>\n",
       "    <tr>\n",
       "      <th>pH</th>\n",
       "      <td>-0.685602</td>\n",
       "      <td>0.234576</td>\n",
       "      <td>-0.544506</td>\n",
       "      <td>-0.085369</td>\n",
       "      <td>-0.276099</td>\n",
       "      <td>0.057721</td>\n",
       "      <td>-0.082761</td>\n",
       "      <td>-0.355692</td>\n",
       "      <td>1.000000</td>\n",
       "      <td>-0.214634</td>\n",
       "      <td>0.212390</td>\n",
       "      <td>-0.037646</td>\n",
       "    </tr>\n",
       "    <tr>\n",
       "      <th>sulphates</th>\n",
       "      <td>0.193439</td>\n",
       "      <td>-0.246979</td>\n",
       "      <td>0.324559</td>\n",
       "      <td>-0.010515</td>\n",
       "      <td>0.407839</td>\n",
       "      <td>0.054777</td>\n",
       "      <td>0.035749</td>\n",
       "      <td>0.156113</td>\n",
       "      <td>-0.214634</td>\n",
       "      <td>1.000000</td>\n",
       "      <td>0.083242</td>\n",
       "      <td>0.235981</td>\n",
       "    </tr>\n",
       "    <tr>\n",
       "      <th>alcohol</th>\n",
       "      <td>-0.054515</td>\n",
       "      <td>-0.204297</td>\n",
       "      <td>0.107435</td>\n",
       "      <td>0.059854</td>\n",
       "      <td>-0.218907</td>\n",
       "      <td>-0.084460</td>\n",
       "      <td>-0.223169</td>\n",
       "      <td>-0.497149</td>\n",
       "      <td>0.212390</td>\n",
       "      <td>0.083242</td>\n",
       "      <td>1.000000</td>\n",
       "      <td>0.467345</td>\n",
       "    </tr>\n",
       "    <tr>\n",
       "      <th>quality</th>\n",
       "      <td>0.130699</td>\n",
       "      <td>-0.375562</td>\n",
       "      <td>0.218953</td>\n",
       "      <td>0.015759</td>\n",
       "      <td>-0.111609</td>\n",
       "      <td>-0.060272</td>\n",
       "      <td>-0.199786</td>\n",
       "      <td>-0.161429</td>\n",
       "      <td>-0.037646</td>\n",
       "      <td>0.235981</td>\n",
       "      <td>0.467345</td>\n",
       "      <td>1.000000</td>\n",
       "    </tr>\n",
       "  </tbody>\n",
       "</table>\n",
       "</div>"
      ],
      "text/plain": [
       "                      fixed acidity  volatile acidity  citric acid  \\\n",
       "fixed acidity              1.000000         -0.254384     0.663438   \n",
       "volatile acidity          -0.254384          1.000000    -0.548969   \n",
       "citric acid                0.663438         -0.548969     1.000000   \n",
       "residual sugar             0.108343         -0.006197     0.144952   \n",
       "chlorides                  0.085194          0.047723     0.217841   \n",
       "free sulfur dioxide       -0.140544         -0.011022    -0.046213   \n",
       "total sulfur dioxide      -0.101322          0.081793     0.051770   \n",
       "density                    0.670446          0.025859     0.357761   \n",
       "pH                        -0.685602          0.234576    -0.544506   \n",
       "sulphates                  0.193439         -0.246979     0.324559   \n",
       "alcohol                   -0.054515         -0.204297     0.107435   \n",
       "quality                    0.130699         -0.375562     0.218953   \n",
       "\n",
       "                      residual sugar  chlorides  free sulfur dioxide  \\\n",
       "fixed acidity               0.108343   0.085194            -0.140544   \n",
       "volatile acidity           -0.006197   0.047723            -0.011022   \n",
       "citric acid                 0.144952   0.217841            -0.046213   \n",
       "residual sugar              1.000000   0.029864             0.171445   \n",
       "chlorides                   0.029864   1.000000             0.001014   \n",
       "free sulfur dioxide         0.171445   0.001014             1.000000   \n",
       "total sulfur dioxide        0.209813   0.049530             0.666327   \n",
       "density                     0.323542   0.193453            -0.011546   \n",
       "pH                         -0.085369  -0.276099             0.057721   \n",
       "sulphates                  -0.010515   0.407839             0.054777   \n",
       "alcohol                     0.059854  -0.218907            -0.084460   \n",
       "quality                     0.015759  -0.111609            -0.060272   \n",
       "\n",
       "                      total sulfur dioxide   density        pH  sulphates  \\\n",
       "fixed acidity                    -0.101322  0.670446 -0.685602   0.193439   \n",
       "volatile acidity                  0.081793  0.025859  0.234576  -0.246979   \n",
       "citric acid                       0.051770  0.357761 -0.544506   0.324559   \n",
       "residual sugar                    0.209813  0.323542 -0.085369  -0.010515   \n",
       "chlorides                         0.049530  0.193453 -0.276099   0.407839   \n",
       "free sulfur dioxide               0.666327 -0.011546  0.057721   0.054777   \n",
       "total sulfur dioxide              1.000000  0.084028 -0.082761   0.035749   \n",
       "density                           0.084028  1.000000 -0.355692   0.156113   \n",
       "pH                               -0.082761 -0.355692  1.000000  -0.214634   \n",
       "sulphates                         0.035749  0.156113 -0.214634   1.000000   \n",
       "alcohol                          -0.223169 -0.497149  0.212390   0.083242   \n",
       "quality                          -0.199786 -0.161429 -0.037646   0.235981   \n",
       "\n",
       "                       alcohol   quality  \n",
       "fixed acidity        -0.054515  0.130699  \n",
       "volatile acidity     -0.204297 -0.375562  \n",
       "citric acid           0.107435  0.218953  \n",
       "residual sugar        0.059854  0.015759  \n",
       "chlorides            -0.218907 -0.111609  \n",
       "free sulfur dioxide  -0.084460 -0.060272  \n",
       "total sulfur dioxide -0.223169 -0.199786  \n",
       "density              -0.497149 -0.161429  \n",
       "pH                    0.212390 -0.037646  \n",
       "sulphates             0.083242  0.235981  \n",
       "alcohol               1.000000  0.467345  \n",
       "quality               0.467345  1.000000  "
      ]
     },
     "metadata": {},
     "output_type": "display_data"
    },
    {
     "name": "stdout",
     "output_type": "stream",
     "text": [
      "*-*-*-*-*-*-*-*-*-*-*-*-*-*-*-*-*-*-*-*-*\n",
      "Pearson's correlation for the white wines\n",
      "*-*-*-*-*-*-*-*-*-*-*-*-*-*-*-*-*-*-*-*-*\n"
     ]
    },
    {
     "data": {
      "text/html": [
       "<div>\n",
       "<style scoped>\n",
       "    .dataframe tbody tr th:only-of-type {\n",
       "        vertical-align: middle;\n",
       "    }\n",
       "\n",
       "    .dataframe tbody tr th {\n",
       "        vertical-align: top;\n",
       "    }\n",
       "\n",
       "    .dataframe thead th {\n",
       "        text-align: right;\n",
       "    }\n",
       "</style>\n",
       "<table border=\"1\" class=\"dataframe\">\n",
       "  <thead>\n",
       "    <tr style=\"text-align: right;\">\n",
       "      <th></th>\n",
       "      <th>fixed acidity</th>\n",
       "      <th>volatile acidity</th>\n",
       "      <th>citric acid</th>\n",
       "      <th>residual sugar</th>\n",
       "      <th>chlorides</th>\n",
       "      <th>free sulfur dioxide</th>\n",
       "      <th>total sulfur dioxide</th>\n",
       "      <th>density</th>\n",
       "      <th>pH</th>\n",
       "      <th>sulphates</th>\n",
       "      <th>alcohol</th>\n",
       "      <th>quality</th>\n",
       "    </tr>\n",
       "  </thead>\n",
       "  <tbody>\n",
       "    <tr>\n",
       "      <th>fixed acidity</th>\n",
       "      <td>1.000000</td>\n",
       "      <td>-0.022253</td>\n",
       "      <td>0.303222</td>\n",
       "      <td>0.077768</td>\n",
       "      <td>0.015530</td>\n",
       "      <td>-0.057857</td>\n",
       "      <td>0.080511</td>\n",
       "      <td>0.255136</td>\n",
       "      <td>-0.426438</td>\n",
       "      <td>-0.014477</td>\n",
       "      <td>-0.097163</td>\n",
       "      <td>-0.110538</td>\n",
       "    </tr>\n",
       "    <tr>\n",
       "      <th>volatile acidity</th>\n",
       "      <td>-0.022253</td>\n",
       "      <td>1.000000</td>\n",
       "      <td>-0.164804</td>\n",
       "      <td>0.101767</td>\n",
       "      <td>0.086506</td>\n",
       "      <td>-0.106980</td>\n",
       "      <td>0.104820</td>\n",
       "      <td>0.070261</td>\n",
       "      <td>-0.046822</td>\n",
       "      <td>-0.016544</td>\n",
       "      <td>0.033039</td>\n",
       "      <td>-0.224555</td>\n",
       "    </tr>\n",
       "    <tr>\n",
       "      <th>citric acid</th>\n",
       "      <td>0.303222</td>\n",
       "      <td>-0.164804</td>\n",
       "      <td>1.000000</td>\n",
       "      <td>0.106796</td>\n",
       "      <td>0.135823</td>\n",
       "      <td>0.103914</td>\n",
       "      <td>0.128910</td>\n",
       "      <td>0.162586</td>\n",
       "      <td>-0.188686</td>\n",
       "      <td>0.054305</td>\n",
       "      <td>-0.080330</td>\n",
       "      <td>0.005756</td>\n",
       "    </tr>\n",
       "    <tr>\n",
       "      <th>residual sugar</th>\n",
       "      <td>0.077768</td>\n",
       "      <td>0.101767</td>\n",
       "      <td>0.106796</td>\n",
       "      <td>1.000000</td>\n",
       "      <td>0.070443</td>\n",
       "      <td>0.332303</td>\n",
       "      <td>0.416216</td>\n",
       "      <td>0.826449</td>\n",
       "      <td>-0.159145</td>\n",
       "      <td>-0.015767</td>\n",
       "      <td>-0.404181</td>\n",
       "      <td>-0.117752</td>\n",
       "    </tr>\n",
       "    <tr>\n",
       "      <th>chlorides</th>\n",
       "      <td>0.015530</td>\n",
       "      <td>0.086506</td>\n",
       "      <td>0.135823</td>\n",
       "      <td>0.070443</td>\n",
       "      <td>1.000000</td>\n",
       "      <td>0.108526</td>\n",
       "      <td>0.184757</td>\n",
       "      <td>0.242655</td>\n",
       "      <td>-0.082872</td>\n",
       "      <td>0.011316</td>\n",
       "      <td>-0.350274</td>\n",
       "      <td>-0.208667</td>\n",
       "    </tr>\n",
       "    <tr>\n",
       "      <th>free sulfur dioxide</th>\n",
       "      <td>-0.057857</td>\n",
       "      <td>-0.106980</td>\n",
       "      <td>0.103914</td>\n",
       "      <td>0.332303</td>\n",
       "      <td>0.108526</td>\n",
       "      <td>1.000000</td>\n",
       "      <td>0.616258</td>\n",
       "      <td>0.318636</td>\n",
       "      <td>-0.019008</td>\n",
       "      <td>0.028358</td>\n",
       "      <td>-0.274193</td>\n",
       "      <td>0.030153</td>\n",
       "    </tr>\n",
       "    <tr>\n",
       "      <th>total sulfur dioxide</th>\n",
       "      <td>0.080511</td>\n",
       "      <td>0.104820</td>\n",
       "      <td>0.128910</td>\n",
       "      <td>0.416216</td>\n",
       "      <td>0.184757</td>\n",
       "      <td>0.616258</td>\n",
       "      <td>1.000000</td>\n",
       "      <td>0.542638</td>\n",
       "      <td>0.009872</td>\n",
       "      <td>0.137063</td>\n",
       "      <td>-0.454736</td>\n",
       "      <td>-0.167747</td>\n",
       "    </tr>\n",
       "    <tr>\n",
       "      <th>density</th>\n",
       "      <td>0.255136</td>\n",
       "      <td>0.070261</td>\n",
       "      <td>0.162586</td>\n",
       "      <td>0.826449</td>\n",
       "      <td>0.242655</td>\n",
       "      <td>0.318636</td>\n",
       "      <td>0.542638</td>\n",
       "      <td>1.000000</td>\n",
       "      <td>-0.052494</td>\n",
       "      <td>0.082303</td>\n",
       "      <td>-0.755131</td>\n",
       "      <td>-0.322424</td>\n",
       "    </tr>\n",
       "    <tr>\n",
       "      <th>pH</th>\n",
       "      <td>-0.426438</td>\n",
       "      <td>-0.046822</td>\n",
       "      <td>-0.188686</td>\n",
       "      <td>-0.159145</td>\n",
       "      <td>-0.082872</td>\n",
       "      <td>-0.019008</td>\n",
       "      <td>0.009872</td>\n",
       "      <td>-0.052494</td>\n",
       "      <td>1.000000</td>\n",
       "      <td>0.138416</td>\n",
       "      <td>0.084561</td>\n",
       "      <td>0.117111</td>\n",
       "    </tr>\n",
       "    <tr>\n",
       "      <th>sulphates</th>\n",
       "      <td>-0.014477</td>\n",
       "      <td>-0.016544</td>\n",
       "      <td>0.054305</td>\n",
       "      <td>-0.015767</td>\n",
       "      <td>0.011316</td>\n",
       "      <td>0.028358</td>\n",
       "      <td>0.137063</td>\n",
       "      <td>0.082303</td>\n",
       "      <td>0.138416</td>\n",
       "      <td>1.000000</td>\n",
       "      <td>-0.017522</td>\n",
       "      <td>0.066446</td>\n",
       "    </tr>\n",
       "    <tr>\n",
       "      <th>alcohol</th>\n",
       "      <td>-0.097163</td>\n",
       "      <td>0.033039</td>\n",
       "      <td>-0.080330</td>\n",
       "      <td>-0.404181</td>\n",
       "      <td>-0.350274</td>\n",
       "      <td>-0.274193</td>\n",
       "      <td>-0.454736</td>\n",
       "      <td>-0.755131</td>\n",
       "      <td>0.084561</td>\n",
       "      <td>-0.017522</td>\n",
       "      <td>1.000000</td>\n",
       "      <td>0.443713</td>\n",
       "    </tr>\n",
       "    <tr>\n",
       "      <th>quality</th>\n",
       "      <td>-0.110538</td>\n",
       "      <td>-0.224555</td>\n",
       "      <td>0.005756</td>\n",
       "      <td>-0.117752</td>\n",
       "      <td>-0.208667</td>\n",
       "      <td>0.030153</td>\n",
       "      <td>-0.167747</td>\n",
       "      <td>-0.322424</td>\n",
       "      <td>0.117111</td>\n",
       "      <td>0.066446</td>\n",
       "      <td>0.443713</td>\n",
       "      <td>1.000000</td>\n",
       "    </tr>\n",
       "  </tbody>\n",
       "</table>\n",
       "</div>"
      ],
      "text/plain": [
       "                      fixed acidity  volatile acidity  citric acid  \\\n",
       "fixed acidity              1.000000         -0.022253     0.303222   \n",
       "volatile acidity          -0.022253          1.000000    -0.164804   \n",
       "citric acid                0.303222         -0.164804     1.000000   \n",
       "residual sugar             0.077768          0.101767     0.106796   \n",
       "chlorides                  0.015530          0.086506     0.135823   \n",
       "free sulfur dioxide       -0.057857         -0.106980     0.103914   \n",
       "total sulfur dioxide       0.080511          0.104820     0.128910   \n",
       "density                    0.255136          0.070261     0.162586   \n",
       "pH                        -0.426438         -0.046822    -0.188686   \n",
       "sulphates                 -0.014477         -0.016544     0.054305   \n",
       "alcohol                   -0.097163          0.033039    -0.080330   \n",
       "quality                   -0.110538         -0.224555     0.005756   \n",
       "\n",
       "                      residual sugar  chlorides  free sulfur dioxide  \\\n",
       "fixed acidity               0.077768   0.015530            -0.057857   \n",
       "volatile acidity            0.101767   0.086506            -0.106980   \n",
       "citric acid                 0.106796   0.135823             0.103914   \n",
       "residual sugar              1.000000   0.070443             0.332303   \n",
       "chlorides                   0.070443   1.000000             0.108526   \n",
       "free sulfur dioxide         0.332303   0.108526             1.000000   \n",
       "total sulfur dioxide        0.416216   0.184757             0.616258   \n",
       "density                     0.826449   0.242655             0.318636   \n",
       "pH                         -0.159145  -0.082872            -0.019008   \n",
       "sulphates                  -0.015767   0.011316             0.028358   \n",
       "alcohol                    -0.404181  -0.350274            -0.274193   \n",
       "quality                    -0.117752  -0.208667             0.030153   \n",
       "\n",
       "                      total sulfur dioxide   density        pH  sulphates  \\\n",
       "fixed acidity                     0.080511  0.255136 -0.426438  -0.014477   \n",
       "volatile acidity                  0.104820  0.070261 -0.046822  -0.016544   \n",
       "citric acid                       0.128910  0.162586 -0.188686   0.054305   \n",
       "residual sugar                    0.416216  0.826449 -0.159145  -0.015767   \n",
       "chlorides                         0.184757  0.242655 -0.082872   0.011316   \n",
       "free sulfur dioxide               0.616258  0.318636 -0.019008   0.028358   \n",
       "total sulfur dioxide              1.000000  0.542638  0.009872   0.137063   \n",
       "density                           0.542638  1.000000 -0.052494   0.082303   \n",
       "pH                                0.009872 -0.052494  1.000000   0.138416   \n",
       "sulphates                         0.137063  0.082303  0.138416   1.000000   \n",
       "alcohol                          -0.454736 -0.755131  0.084561  -0.017522   \n",
       "quality                          -0.167747 -0.322424  0.117111   0.066446   \n",
       "\n",
       "                       alcohol   quality  \n",
       "fixed acidity        -0.097163 -0.110538  \n",
       "volatile acidity      0.033039 -0.224555  \n",
       "citric acid          -0.080330  0.005756  \n",
       "residual sugar       -0.404181 -0.117752  \n",
       "chlorides            -0.350274 -0.208667  \n",
       "free sulfur dioxide  -0.274193  0.030153  \n",
       "total sulfur dioxide -0.454736 -0.167747  \n",
       "density              -0.755131 -0.322424  \n",
       "pH                    0.084561  0.117111  \n",
       "sulphates            -0.017522  0.066446  \n",
       "alcohol               1.000000  0.443713  \n",
       "quality               0.443713  1.000000  "
      ]
     },
     "metadata": {},
     "output_type": "display_data"
    }
   ],
   "source": [
    "print(\"*-*-*-*-*-*-*-*-*-*-*-*-*-*-*-*-*-*-*-*\\nPearson's correlation for the red wines\\n*-*-*-*-*-*-*-*-*-*-*-*-*-*-*-*-*-*-*-*\")\n",
    "display(dfred3.corr(method=\"pearson\"))\n",
    "print(\"*-*-*-*-*-*-*-*-*-*-*-*-*-*-*-*-*-*-*-*-*\\nPearson's correlation for the white wines\\n*-*-*-*-*-*-*-*-*-*-*-*-*-*-*-*-*-*-*-*-*\")\n",
    "display(dfwhite3.corr(method=\"pearson\"))"
   ]
  },
  {
   "cell_type": "markdown",
   "id": "54bbb3f0",
   "metadata": {
    "ExecuteTime": {
     "end_time": "2021-11-18T16:42:52.220066Z",
     "start_time": "2021-11-18T16:42:52.206067Z"
    }
   },
   "source": [
    "- The target variable, \"quality\", has a very low linear correlation with these variables and the highest correlation, in both databases, is between \"quality\" and \"alcohol\". There are variables wit a very low correlation (lower than 5%). Using a function to filter those variables, I tried to remove them and work with the rest of the data but the final scores for this regression model were worse than when I used all the data, so I chose to leave the function here just to show how it can be done and use all the data instead:"
   ]
  },
  {
   "cell_type": "code",
   "execution_count": 11,
   "id": "20fc3fb3",
   "metadata": {
    "ExecuteTime": {
     "end_time": "2021-12-08T19:48:57.026873Z",
     "start_time": "2021-12-08T19:48:57.013875Z"
    }
   },
   "outputs": [],
   "source": [
    "def select_features(threshold):\n",
    "    '''Using this function with a threshold of 0 will select all the DataFrame (and remove no data). \n",
    "If you want to use only part of the DataFrame, you can use a threshold which is above the absolute value of\n",
    "correlation between a given variable and the target variable.'''\n",
    "    abs_corrs = correlations.abs()\n",
    "    corr_high = abs_corrs[abs_corrs > threshold].index.values.tolist()\n",
    "    return corr_high"
   ]
  },
  {
   "cell_type": "code",
   "execution_count": 12,
   "id": "0d5738e6",
   "metadata": {
    "ExecuteTime": {
     "end_time": "2021-12-08T19:48:57.041875Z",
     "start_time": "2021-12-08T19:48:57.028875Z"
    }
   },
   "outputs": [],
   "source": [
    "correlations=dfred3.corr(method=\"pearson\")['quality'].drop('quality')"
   ]
  },
  {
   "cell_type": "code",
   "execution_count": 13,
   "id": "518650be",
   "metadata": {
    "ExecuteTime": {
     "end_time": "2021-12-08T19:48:57.057873Z",
     "start_time": "2021-12-08T19:48:57.043875Z"
    }
   },
   "outputs": [
    {
     "data": {
      "text/plain": [
       "fixed acidity           0.130699\n",
       "volatile acidity       -0.375562\n",
       "citric acid             0.218953\n",
       "residual sugar          0.015759\n",
       "chlorides              -0.111609\n",
       "free sulfur dioxide    -0.060272\n",
       "total sulfur dioxide   -0.199786\n",
       "density                -0.161429\n",
       "pH                     -0.037646\n",
       "sulphates               0.235981\n",
       "alcohol                 0.467345\n",
       "Name: quality, dtype: float64"
      ]
     },
     "execution_count": 13,
     "metadata": {},
     "output_type": "execute_result"
    }
   ],
   "source": [
    "correlations"
   ]
  },
  {
   "cell_type": "code",
   "execution_count": 14,
   "id": "a65b41ac",
   "metadata": {
    "ExecuteTime": {
     "end_time": "2021-12-08T19:48:57.073873Z",
     "start_time": "2021-12-08T19:48:57.059874Z"
    }
   },
   "outputs": [
    {
     "data": {
      "text/plain": [
       "['fixed acidity',\n",
       " 'volatile acidity',\n",
       " 'citric acid',\n",
       " 'residual sugar',\n",
       " 'chlorides',\n",
       " 'free sulfur dioxide',\n",
       " 'total sulfur dioxide',\n",
       " 'density',\n",
       " 'pH',\n",
       " 'sulphates',\n",
       " 'alcohol']"
      ]
     },
     "execution_count": 14,
     "metadata": {},
     "output_type": "execute_result"
    }
   ],
   "source": [
    "corr_red=select_features(0.00)\n",
    "corr_red #We'll use this variable to filter the DataFrame of the red wines and select only these columns:"
   ]
  },
  {
   "cell_type": "code",
   "execution_count": 15,
   "id": "833625a1",
   "metadata": {
    "ExecuteTime": {
     "end_time": "2021-12-08T19:48:57.088874Z",
     "start_time": "2021-12-08T19:48:57.075874Z"
    }
   },
   "outputs": [],
   "source": [
    "correlations_white=dfwhite3.corr()['quality'].drop('quality')"
   ]
  },
  {
   "cell_type": "code",
   "execution_count": 16,
   "id": "bc77448b",
   "metadata": {
    "ExecuteTime": {
     "end_time": "2021-12-08T19:48:57.104874Z",
     "start_time": "2021-12-08T19:48:57.090874Z"
    }
   },
   "outputs": [
    {
     "data": {
      "text/plain": [
       "fixed acidity          -0.110538\n",
       "volatile acidity       -0.224555\n",
       "citric acid             0.005756\n",
       "residual sugar         -0.117752\n",
       "chlorides              -0.208667\n",
       "free sulfur dioxide     0.030153\n",
       "total sulfur dioxide   -0.167747\n",
       "density                -0.322424\n",
       "pH                      0.117111\n",
       "sulphates               0.066446\n",
       "alcohol                 0.443713\n",
       "Name: quality, dtype: float64"
      ]
     },
     "execution_count": 16,
     "metadata": {},
     "output_type": "execute_result"
    }
   ],
   "source": [
    "correlations_white"
   ]
  },
  {
   "cell_type": "code",
   "execution_count": 17,
   "id": "7ae57eec",
   "metadata": {
    "ExecuteTime": {
     "end_time": "2021-12-08T19:48:57.119874Z",
     "start_time": "2021-12-08T19:48:57.106874Z"
    }
   },
   "outputs": [],
   "source": [
    "corr_white=select_features(0.00)"
   ]
  },
  {
   "cell_type": "code",
   "execution_count": 18,
   "id": "75d6c4df",
   "metadata": {
    "ExecuteTime": {
     "end_time": "2021-12-08T19:48:57.134874Z",
     "start_time": "2021-12-08T19:48:57.121875Z"
    }
   },
   "outputs": [
    {
     "data": {
      "text/plain": [
       "['fixed acidity',\n",
       " 'volatile acidity',\n",
       " 'citric acid',\n",
       " 'residual sugar',\n",
       " 'chlorides',\n",
       " 'free sulfur dioxide',\n",
       " 'total sulfur dioxide',\n",
       " 'density',\n",
       " 'pH',\n",
       " 'sulphates',\n",
       " 'alcohol']"
      ]
     },
     "execution_count": 18,
     "metadata": {},
     "output_type": "execute_result"
    }
   ],
   "source": [
    "corr_white #Filter for the DataFrame of the white wines"
   ]
  },
  {
   "cell_type": "markdown",
   "id": "3a3a5155",
   "metadata": {},
   "source": [
    "# Linear Regression\n"
   ]
  },
  {
   "cell_type": "markdown",
   "id": "3a05d1ab",
   "metadata": {},
   "source": [
    "- I decided to work with the datasets separately and see how the model fits each case.\n",
    "\n",
    "## Linear Regression for the dataset of the red wines:"
   ]
  },
  {
   "cell_type": "markdown",
   "id": "b5804af7",
   "metadata": {},
   "source": [
    "- Firstly, we separate the dataset in X and Y in order to separate the target variable from the other variables:"
   ]
  },
  {
   "cell_type": "code",
   "execution_count": 19,
   "id": "eb3a10b1",
   "metadata": {
    "ExecuteTime": {
     "end_time": "2021-12-08T19:48:57.150874Z",
     "start_time": "2021-12-08T19:48:57.136875Z"
    }
   },
   "outputs": [],
   "source": [
    "X=dfred3[corr_red]\n",
    "Y=dfred3[\"quality\"]"
   ]
  },
  {
   "cell_type": "markdown",
   "id": "8c02fd6e",
   "metadata": {},
   "source": [
    "- Using the train_test_split function, I separated the database in training data and test data, using the \"stratify\" parameter to mitigate the unbalance between the values of the target variable. After that, I standardized the data with StandardScaler, passed them to model and defined the prediction for the test database:"
   ]
  },
  {
   "cell_type": "code",
   "execution_count": 20,
   "id": "4ca0c565",
   "metadata": {
    "ExecuteTime": {
     "end_time": "2021-12-08T19:48:57.353874Z",
     "start_time": "2021-12-08T19:48:57.151874Z"
    }
   },
   "outputs": [],
   "source": [
    "X_train,X_test,Y_train,Y_test=train_test_split(X,Y,test_size=0.3,random_state=42,stratify=Y)\n",
    "std=StandardScaler()\n",
    "X_train_std=std.fit_transform(X_train)\n",
    "X_test_std=std.transform(X_test)\n",
    "linreg=LinearRegression()\n",
    "linreg.fit(X_train_std,Y_train)\n",
    "Y_pred=linreg.predict(X_test_std)"
   ]
  },
  {
   "cell_type": "markdown",
   "id": "da82e58e",
   "metadata": {},
   "source": [
    "- Let's plot the predicted data and compare them to the real data:"
   ]
  },
  {
   "cell_type": "code",
   "execution_count": 21,
   "id": "cf11514b",
   "metadata": {
    "ExecuteTime": {
     "end_time": "2021-12-08T19:48:57.789875Z",
     "start_time": "2021-12-08T19:48:57.355876Z"
    }
   },
   "outputs": [
    {
     "data": {
      "image/png": "[encoded data removed]",
      "text/plain": [
       "<Figure size 576x576 with 1 Axes>"
      ]
     },
     "metadata": {},
     "output_type": "display_data"
    }
   ],
   "source": [
    "fig = plt.figure(figsize=(8,8))\n",
    "l = plt.plot(Y_pred, Y_test, 'bo')\n",
    "plt.setp(l, markersize=10)\n",
    "plt.setp(l, markerfacecolor='C0')\n",
    "plt.title('Comparison Between True Values and Predicted Values', fontsize=15)\n",
    "plt.ylabel(\"True Value\", fontsize=15)\n",
    "plt.xlabel(\"Predicted Value\", fontsize=15)\n",
    "\n",
    "xl = np.arange(min(Y_test), 1.1*max(Y_test), (max(Y_test)-min(Y_test))/10)\n",
    "yl = xl\n",
    "plt.plot(xl, yl, 'r--')\n",
    "\n",
    "plt.show()"
   ]
  },
  {
   "cell_type": "markdown",
   "id": "1cd8566a",
   "metadata": {},
   "source": [
    "- Performance measures for the Linear Regression:"
   ]
  },
  {
   "cell_type": "code",
   "execution_count": 22,
   "id": "48f6212f",
   "metadata": {
    "ExecuteTime": {
     "end_time": "2021-12-08T19:48:57.805874Z",
     "start_time": "2021-12-08T19:48:57.791874Z"
    }
   },
   "outputs": [
    {
     "name": "stdout",
     "output_type": "stream",
     "text": [
      "R2: 33.3944%\n",
      "Mean Absolute Error: 49.3154%\n",
      "Mean Squared Error: 37.7882%\n",
      "Root Mean Squared Error: 61.4721%\n"
     ]
    }
   ],
   "source": [
    "r2=r2_score(Y_test,Y_pred)\n",
    "MAE=mean_absolute_error(Y_test,Y_pred)\n",
    "MSE=mean_squared_error(Y_test,Y_pred,squared=True)\n",
    "RMSE=mean_squared_error(Y_test,Y_pred,squared=False)\n",
    "print(f\"R2: {r2*100:.4f}%\")\n",
    "print(f\"Mean Absolute Error: {MAE*100:.4f}%\")\n",
    "print(f\"Mean Squared Error: {MSE*100:.4f}%\")\n",
    "print(f\"Root Mean Squared Error: {RMSE*100:.4f}%\")"
   ]
  },
  {
   "cell_type": "markdown",
   "id": "81aa90a1",
   "metadata": {},
   "source": [
    "- Let's try the regularization techniques to see if we can improve the results a bit, including the built-in cross-validation in these methods:"
   ]
  },
  {
   "cell_type": "markdown",
   "id": "9fc4e9ee",
   "metadata": {},
   "source": [
    "### Ridge:"
   ]
  },
  {
   "cell_type": "code",
   "execution_count": 23,
   "id": "d01a8e8e",
   "metadata": {
    "ExecuteTime": {
     "end_time": "2021-12-08T19:48:57.929874Z",
     "start_time": "2021-12-08T19:48:57.813874Z"
    }
   },
   "outputs": [
    {
     "name": "stdout",
     "output_type": "stream",
     "text": [
      "R2: 33.3463%\n",
      "Mean Absolute Error: 49.3937%\n",
      "Mean Squared Error: 37.8155%\n",
      "Root Mean Squared Error: 61.4943%\n"
     ]
    }
   ],
   "source": [
    "ridge = RidgeCV(cv=10)\n",
    "ridge.fit(X_train_std, Y_train)\n",
    "Y_pred_ridge = ridge.predict(X_test_std)\n",
    "R2_ridge = r2_score(Y_test, Y_pred_ridge)\n",
    "MAE_ridge=mean_absolute_error(Y_test,Y_pred_ridge)\n",
    "MSE_ridge=mean_squared_error(Y_test,Y_pred_ridge,squared=True)\n",
    "RMSE_ridge=mean_squared_error(Y_test,Y_pred_ridge,squared=False)\n",
    "print(f\"R2: {R2_ridge*100:.4f}%\")\n",
    "print(f\"Mean Absolute Error: {MAE_ridge*100:.4f}%\")\n",
    "print(f\"Mean Squared Error: {MSE_ridge*100:.4f}%\")\n",
    "print(f\"Root Mean Squared Error: {RMSE_ridge*100:.4f}%\")"
   ]
  },
  {
   "cell_type": "markdown",
   "id": "0f746453",
   "metadata": {},
   "source": [
    "### Lasso:"
   ]
  },
  {
   "cell_type": "code",
   "execution_count": 24,
   "id": "a43e555f",
   "metadata": {
    "ExecuteTime": {
     "end_time": "2021-12-08T19:48:58.177874Z",
     "start_time": "2021-12-08T19:48:57.934875Z"
    }
   },
   "outputs": [
    {
     "name": "stdout",
     "output_type": "stream",
     "text": [
      "R2: 33.2755%\n",
      "Mean Absolute Error: 49.6692%\n",
      "Mean Squared Error: 37.8557%\n",
      "Root Mean Squared Error: 61.5270%\n"
     ]
    }
   ],
   "source": [
    "lasso = LassoCV(cv=10)\n",
    "lasso.fit(X_train_std, Y_train)\n",
    "Y_pred_lasso = lasso.predict(X_test_std)\n",
    "R2_lasso = r2_score(Y_test, Y_pred_lasso)\n",
    "MAE_lasso=mean_absolute_error(Y_test,Y_pred_lasso)\n",
    "MSE_lasso=mean_squared_error(Y_test,Y_pred_lasso,squared=True)\n",
    "RMSE_lasso=mean_squared_error(Y_test,Y_pred_lasso,squared=False)\n",
    "print(f\"R2: {R2_lasso*100:.4f}%\")\n",
    "print(f\"Mean Absolute Error: {MAE_lasso*100:.4f}%\")\n",
    "print(f\"Mean Squared Error: {MSE_lasso*100:.4f}%\")\n",
    "print(f\"Root Mean Squared Error: {RMSE_lasso*100:.4f}%\")"
   ]
  },
  {
   "cell_type": "markdown",
   "id": "27359577",
   "metadata": {},
   "source": [
    "### Elastic-Net:"
   ]
  },
  {
   "cell_type": "code",
   "execution_count": 25,
   "id": "1de69820",
   "metadata": {
    "ExecuteTime": {
     "end_time": "2021-12-08T19:48:58.394875Z",
     "start_time": "2021-12-08T19:48:58.179876Z"
    }
   },
   "outputs": [
    {
     "name": "stdout",
     "output_type": "stream",
     "text": [
      "R2: 33.2989%\n",
      "Mean Absolute Error: 49.5858%\n",
      "Mean Squared Error: 37.8424%\n",
      "Root Mean Squared Error: 61.5162%\n"
     ]
    }
   ],
   "source": [
    "EN = ElasticNetCV(cv=10)\n",
    "EN.fit(X_train_std, Y_train)\n",
    "Y_pred_EN = EN.predict(X_test_std)\n",
    "R2_EN = r2_score(Y_test, Y_pred_EN)\n",
    "MAE_EN=mean_absolute_error(Y_test,Y_pred_EN)\n",
    "MSE_EN=mean_squared_error(Y_test,Y_pred_EN,squared=True)\n",
    "RMSE_EN=mean_squared_error(Y_test,Y_pred_EN,squared=False)\n",
    "print(f\"R2: {R2_EN*100:.4f}%\")\n",
    "print(f\"Mean Absolute Error: {MAE_EN*100:.4f}%\")\n",
    "print(f\"Mean Squared Error: {MSE_EN*100:.4f}%\")\n",
    "print(f\"Root Mean Squared Error: {RMSE_EN*100:.4f}%\")"
   ]
  },
  {
   "cell_type": "markdown",
   "id": "22618ed8",
   "metadata": {},
   "source": [
    "- The techniques did not improve the model's performance. Let's check the residues and the coefficients of the regression."
   ]
  },
  {
   "cell_type": "markdown",
   "id": "edf5c4c1",
   "metadata": {},
   "source": [
    "### Residues:"
   ]
  },
  {
   "cell_type": "markdown",
   "id": "6549436d",
   "metadata": {},
   "source": [
    "- For the residues, we calculate the difference between the true values and the predicted values:"
   ]
  },
  {
   "cell_type": "code",
   "execution_count": 26,
   "id": "9601439f",
   "metadata": {
    "ExecuteTime": {
     "end_time": "2021-12-08T19:48:58.927875Z",
     "start_time": "2021-12-08T19:48:58.396875Z"
    }
   },
   "outputs": [
    {
     "data": {
      "image/png": "[encoded data removed]",
      "text/plain": [
       "<Figure size 360x360 with 1 Axes>"
      ]
     },
     "metadata": {},
     "output_type": "display_data"
    }
   ],
   "source": [
    "res=Y_test-Y_pred\n",
    "sns.displot(res,kde=True,bins=20);"
   ]
  },
  {
   "cell_type": "code",
   "execution_count": 27,
   "id": "c1c3887d",
   "metadata": {
    "ExecuteTime": {
     "end_time": "2021-12-08T19:48:59.222874Z",
     "start_time": "2021-12-08T19:48:58.929875Z"
    }
   },
   "outputs": [
    {
     "data": {
      "text/plain": [
       "<AxesSubplot:xlabel='quality'>"
      ]
     },
     "execution_count": 27,
     "metadata": {},
     "output_type": "execute_result"
    },
    {
     "data": {
      "image/png": "[encoded data removed]",
      "text/plain": [
       "<Figure size 432x288 with 1 Axes>"
      ]
     },
     "metadata": {},
     "output_type": "display_data"
    }
   ],
   "source": [
    "sns.boxplot(x=res)"
   ]
  },
  {
   "cell_type": "markdown",
   "id": "b3226b91",
   "metadata": {},
   "source": [
    "- The residual values don't follow a normal distribution, but there are few outliers and the median is close to zero, which is the expected behavior for these values."
   ]
  },
  {
   "cell_type": "markdown",
   "id": "e09f01d8",
   "metadata": {},
   "source": [
    "### Coefficients for the Linear Regression:"
   ]
  },
  {
   "cell_type": "code",
   "execution_count": 28,
   "id": "a007d028",
   "metadata": {
    "ExecuteTime": {
     "end_time": "2021-12-08T19:48:59.253875Z",
     "start_time": "2021-12-08T19:48:59.224876Z"
    }
   },
   "outputs": [
    {
     "data": {
      "text/html": [
       "<div>\n",
       "<style scoped>\n",
       "    .dataframe tbody tr th:only-of-type {\n",
       "        vertical-align: middle;\n",
       "    }\n",
       "\n",
       "    .dataframe tbody tr th {\n",
       "        vertical-align: top;\n",
       "    }\n",
       "\n",
       "    .dataframe thead th {\n",
       "        text-align: right;\n",
       "    }\n",
       "</style>\n",
       "<table border=\"1\" class=\"dataframe\">\n",
       "  <thead>\n",
       "    <tr style=\"text-align: right;\">\n",
       "      <th></th>\n",
       "      <th>Features</th>\n",
       "      <th>Scores</th>\n",
       "    </tr>\n",
       "  </thead>\n",
       "  <tbody>\n",
       "    <tr>\n",
       "      <th>0</th>\n",
       "      <td>alcohol</td>\n",
       "      <td>0.263613</td>\n",
       "    </tr>\n",
       "    <tr>\n",
       "      <th>1</th>\n",
       "      <td>sulphates</td>\n",
       "      <td>0.127831</td>\n",
       "    </tr>\n",
       "    <tr>\n",
       "      <th>2</th>\n",
       "      <td>fixed acidity</td>\n",
       "      <td>0.100616</td>\n",
       "    </tr>\n",
       "    <tr>\n",
       "      <th>3</th>\n",
       "      <td>free sulfur dioxide</td>\n",
       "      <td>0.053575</td>\n",
       "    </tr>\n",
       "    <tr>\n",
       "      <th>4</th>\n",
       "      <td>residual sugar</td>\n",
       "      <td>0.001484</td>\n",
       "    </tr>\n",
       "    <tr>\n",
       "      <th>5</th>\n",
       "      <td>citric acid</td>\n",
       "      <td>-0.006488</td>\n",
       "    </tr>\n",
       "    <tr>\n",
       "      <th>6</th>\n",
       "      <td>pH</td>\n",
       "      <td>-0.008453</td>\n",
       "    </tr>\n",
       "    <tr>\n",
       "      <th>7</th>\n",
       "      <td>density</td>\n",
       "      <td>-0.043292</td>\n",
       "    </tr>\n",
       "    <tr>\n",
       "      <th>8</th>\n",
       "      <td>chlorides</td>\n",
       "      <td>-0.045001</td>\n",
       "    </tr>\n",
       "    <tr>\n",
       "      <th>9</th>\n",
       "      <td>total sulfur dioxide</td>\n",
       "      <td>-0.089067</td>\n",
       "    </tr>\n",
       "    <tr>\n",
       "      <th>10</th>\n",
       "      <td>volatile acidity</td>\n",
       "      <td>-0.164204</td>\n",
       "    </tr>\n",
       "  </tbody>\n",
       "</table>\n",
       "</div>"
      ],
      "text/plain": [
       "                Features    Scores\n",
       "0                alcohol  0.263613\n",
       "1              sulphates  0.127831\n",
       "2          fixed acidity  0.100616\n",
       "3    free sulfur dioxide  0.053575\n",
       "4         residual sugar  0.001484\n",
       "5            citric acid -0.006488\n",
       "6                     pH -0.008453\n",
       "7                density -0.043292\n",
       "8              chlorides -0.045001\n",
       "9   total sulfur dioxide -0.089067\n",
       "10      volatile acidity -0.164204"
      ]
     },
     "execution_count": 28,
     "metadata": {},
     "output_type": "execute_result"
    }
   ],
   "source": [
    "#Method which returns the coefficients\n",
    "coefs = linreg.coef_\n",
    "\n",
    "#Method which returns the names of the columns of the database\n",
    "list_columns = X_train.columns\n",
    "list_feature = []\n",
    "list_score = []\n",
    "#Creating two lists: one with the names of the features and one with the scores\n",
    "for i, v in enumerate(coefs):\n",
    "    list_feature.append(list_columns[i])\n",
    "    list_score.append(v)\n",
    "\n",
    "dictionary = {'Features': list_feature,\n",
    "              'Scores': list_score}\n",
    "\n",
    "df_features = pd.DataFrame(dictionary)\n",
    "df_features = df_features.sort_values(by=['Scores'], ascending=False)\n",
    "df_features.reset_index(inplace=True, drop=True)\n",
    "df_features"
   ]
  },
  {
   "cell_type": "markdown",
   "id": "80caf07e",
   "metadata": {},
   "source": [
    "## Linear Regression for the white wines, following the same proccess:"
   ]
  },
  {
   "cell_type": "markdown",
   "id": "276d2b88",
   "metadata": {},
   "source": [
    "- First, we separate the database:"
   ]
  },
  {
   "cell_type": "code",
   "execution_count": 29,
   "id": "f36b4885",
   "metadata": {
    "ExecuteTime": {
     "end_time": "2021-12-08T19:48:59.269874Z",
     "start_time": "2021-12-08T19:48:59.255876Z"
    }
   },
   "outputs": [],
   "source": [
    "X=dfwhite3[corr_white]\n",
    "Y=dfwhite3[\"quality\"]"
   ]
  },
  {
   "cell_type": "markdown",
   "id": "a29ee1f0",
   "metadata": {},
   "source": [
    "- Then, we train the model and make the prediction:"
   ]
  },
  {
   "cell_type": "code",
   "execution_count": 30,
   "id": "66c3e835",
   "metadata": {
    "ExecuteTime": {
     "end_time": "2021-12-08T19:48:59.301875Z",
     "start_time": "2021-12-08T19:48:59.271876Z"
    }
   },
   "outputs": [],
   "source": [
    "X_train,X_test,Y_train,Y_test=train_test_split(X,Y,test_size=0.3,random_state=42,stratify=Y)\n",
    "std=StandardScaler()\n",
    "X_train_std=std.fit_transform(X_train)\n",
    "X_test_std=std.transform(X_test)\n",
    "linreg=LinearRegression()\n",
    "linreg.fit(X_train_std,Y_train)\n",
    "Y_pred=linreg.predict(X_test_std)"
   ]
  },
  {
   "cell_type": "markdown",
   "id": "24ef41a1",
   "metadata": {},
   "source": [
    "- Let's compare the true and the predicted values:"
   ]
  },
  {
   "cell_type": "code",
   "execution_count": 31,
   "id": "faf27f6a",
   "metadata": {
    "ExecuteTime": {
     "end_time": "2021-12-08T19:48:59.724874Z",
     "start_time": "2021-12-08T19:48:59.303876Z"
    }
   },
   "outputs": [
    {
     "data": {
      "image/png": "[encoded data removed]",
      "text/plain": [
       "<Figure size 576x576 with 1 Axes>"
      ]
     },
     "metadata": {},
     "output_type": "display_data"
    }
   ],
   "source": [
    "fig = plt.figure(figsize=(8,8))\n",
    "\n",
    "l = plt.plot(Y_pred, Y_test, 'bo')\n",
    "plt.setp(l, markersize=10)\n",
    "plt.setp(l, markerfacecolor='C0')\n",
    "plt.title('Comparison Between True Values and Predicted Values', fontsize=15)\n",
    "plt.ylabel(\"True Value\", fontsize=15)\n",
    "plt.xlabel(\"Predicted Value\", fontsize=15)\n",
    "\n",
    "\n",
    "xl = np.arange(min(Y_test), 1.1*max(Y_test), (max(Y_test)-min(Y_test))/10)\n",
    "yl = xl\n",
    "plt.plot(xl, yl, 'r--')\n",
    "\n",
    "plt.show()"
   ]
  },
  {
   "cell_type": "markdown",
   "id": "20b45d6f",
   "metadata": {},
   "source": [
    "- Let's calculate the scores for this regression:"
   ]
  },
  {
   "cell_type": "code",
   "execution_count": 32,
   "id": "d0527ae8",
   "metadata": {
    "ExecuteTime": {
     "end_time": "2021-12-08T19:48:59.739875Z",
     "start_time": "2021-12-08T19:48:59.726875Z"
    }
   },
   "outputs": [
    {
     "name": "stdout",
     "output_type": "stream",
     "text": [
      "R2: 27.0785%\n",
      "Mean Absolute Error: 53.2353%\n",
      "Mean Squared Error: 44.3403%\n",
      "Root Mean Squared Error: 66.5885%\n"
     ]
    }
   ],
   "source": [
    "r2=r2_score(Y_test,Y_pred)\n",
    "MAE=mean_absolute_error(Y_test,Y_pred)\n",
    "MSE=mean_squared_error(Y_test,Y_pred,squared=True)\n",
    "RMSE=mean_squared_error(Y_test,Y_pred,squared=False)\n",
    "print(f\"R2: {r2*100:.4f}%\")\n",
    "print(f\"Mean Absolute Error: {MAE*100:.4f}%\")\n",
    "print(f\"Mean Squared Error: {MSE*100:.4f}%\")\n",
    "print(f\"Root Mean Squared Error: {RMSE*100:.4f}%\")"
   ]
  },
  {
   "cell_type": "markdown",
   "id": "6215e442",
   "metadata": {},
   "source": [
    "- Regularization methods with Cross Validation:"
   ]
  },
  {
   "cell_type": "markdown",
   "id": "900a0e2c",
   "metadata": {},
   "source": [
    "### Ridge:"
   ]
  },
  {
   "cell_type": "code",
   "execution_count": 33,
   "id": "f616d42a",
   "metadata": {
    "ExecuteTime": {
     "end_time": "2021-12-08T19:48:59.849874Z",
     "start_time": "2021-12-08T19:48:59.741874Z"
    }
   },
   "outputs": [
    {
     "name": "stdout",
     "output_type": "stream",
     "text": [
      "R2: 27.1771%\n",
      "Mean Absolute Error: 53.2318%\n",
      "Mean Squared Error: 44.2803%\n",
      "Root Mean Squared Error: 66.5435%\n"
     ]
    }
   ],
   "source": [
    "ridge = RidgeCV(cv=10)\n",
    "ridge.fit(X_train_std, Y_train)\n",
    "Y_pred_ridge = ridge.predict(X_test_std)\n",
    "R2_ridge = r2_score(Y_test, Y_pred_ridge)\n",
    "MAE_ridge=mean_absolute_error(Y_test,Y_pred_ridge)\n",
    "MSE_ridge=mean_squared_error(Y_test,Y_pred_ridge,squared=True)\n",
    "RMSE_ridge=mean_squared_error(Y_test,Y_pred_ridge,squared=False)\n",
    "print(f\"R2: {R2_ridge*100:.4f}%\")\n",
    "print(f\"Mean Absolute Error: {MAE_ridge*100:.4f}%\")\n",
    "print(f\"Mean Squared Error: {MSE_ridge*100:.4f}%\")\n",
    "print(f\"Root Mean Squared Error: {RMSE_ridge*100:.4f}%\")"
   ]
  },
  {
   "cell_type": "markdown",
   "id": "d59e3e04",
   "metadata": {},
   "source": [
    "### Lasso:"
   ]
  },
  {
   "cell_type": "code",
   "execution_count": 34,
   "id": "e8afcc78",
   "metadata": {
    "ExecuteTime": {
     "end_time": "2021-12-08T19:49:00.145925Z",
     "start_time": "2021-12-08T19:48:59.851876Z"
    }
   },
   "outputs": [
    {
     "name": "stdout",
     "output_type": "stream",
     "text": [
      "R2: 27.5252%\n",
      "Mean Absolute Error: 53.2204%\n",
      "Mean Squared Error: 44.0687%\n",
      "Root Mean Squared Error: 66.3843%\n"
     ]
    }
   ],
   "source": [
    "lasso = LassoCV(cv=10)\n",
    "lasso.fit(X_train_std, Y_train)\n",
    "Y_pred_lasso = lasso.predict(X_test_std)\n",
    "R2_lasso = r2_score(Y_test, Y_pred_lasso)\n",
    "MAE_lasso=mean_absolute_error(Y_test,Y_pred_lasso)\n",
    "MSE_lasso=mean_squared_error(Y_test,Y_pred_lasso,squared=True)\n",
    "RMSE_lasso=mean_squared_error(Y_test,Y_pred_lasso,squared=False)\n",
    "print(f\"R2: {R2_lasso*100:.4f}%\")\n",
    "print(f\"Mean Absolute Error: {MAE_lasso*100:.4f}%\")\n",
    "print(f\"Mean Squared Error: {MSE_lasso*100:.4f}%\")\n",
    "print(f\"Root Mean Squared Error: {RMSE_lasso*100:.4f}%\")"
   ]
  },
  {
   "cell_type": "markdown",
   "id": "76cb9352",
   "metadata": {},
   "source": [
    "### Elastic-Net:"
   ]
  },
  {
   "cell_type": "code",
   "execution_count": 35,
   "id": "9fb1aa92",
   "metadata": {
    "ExecuteTime": {
     "end_time": "2021-12-08T19:49:00.455874Z",
     "start_time": "2021-12-08T19:49:00.148875Z"
    }
   },
   "outputs": [
    {
     "name": "stdout",
     "output_type": "stream",
     "text": [
      "R2: 27.4460%\n",
      "Mean Absolute Error: 53.2230%\n",
      "Mean Squared Error: 44.1169%\n",
      "Root Mean Squared Error: 66.4205%\n"
     ]
    }
   ],
   "source": [
    "EN = ElasticNetCV(cv=10)\n",
    "EN.fit(X_train_std, Y_train)\n",
    "Y_pred_EN = EN.predict(X_test_std)\n",
    "R2_EN = r2_score(Y_test, Y_pred_EN)\n",
    "MAE_EN=mean_absolute_error(Y_test,Y_pred_EN)\n",
    "MSE_EN=mean_squared_error(Y_test,Y_pred_EN,squared=True)\n",
    "RMSE_EN=mean_squared_error(Y_test,Y_pred_EN,squared=False)\n",
    "print(f\"R2: {R2_EN*100:.4f}%\")\n",
    "print(f\"Mean Absolute Error: {MAE_EN*100:.4f}%\")\n",
    "print(f\"Mean Squared Error: {MSE_EN*100:.4f}%\")\n",
    "print(f\"Root Mean Squared Error: {RMSE_EN*100:.4f}%\")"
   ]
  },
  {
   "cell_type": "markdown",
   "id": "f56fc2a0",
   "metadata": {},
   "source": [
    "- The Lasso method produced slightly better measures, but still they're very far from ideal numbers. \n",
    "\n",
    "### Residues:"
   ]
  },
  {
   "cell_type": "code",
   "execution_count": 36,
   "id": "e108593d",
   "metadata": {
    "ExecuteTime": {
     "end_time": "2021-12-08T19:49:01.079874Z",
     "start_time": "2021-12-08T19:49:00.457875Z"
    }
   },
   "outputs": [
    {
     "data": {
      "image/png": "[encoded data removed]",
      "text/plain": [
       "<Figure size 360x360 with 1 Axes>"
      ]
     },
     "metadata": {},
     "output_type": "display_data"
    }
   ],
   "source": [
    "res=Y_test-Y_pred_lasso\n",
    "sns.displot(res,kde=True, bins=50);"
   ]
  },
  {
   "cell_type": "code",
   "execution_count": 37,
   "id": "ab026d9a",
   "metadata": {
    "ExecuteTime": {
     "end_time": "2021-12-08T19:49:01.297874Z",
     "start_time": "2021-12-08T19:49:01.081875Z"
    }
   },
   "outputs": [
    {
     "data": {
      "text/plain": [
       "<AxesSubplot:xlabel='quality'>"
      ]
     },
     "execution_count": 37,
     "metadata": {},
     "output_type": "execute_result"
    },
    {
     "data": {
      "image/png": "[encoded data removed]",
      "text/plain": [
       "<Figure size 432x288 with 1 Axes>"
      ]
     },
     "metadata": {},
     "output_type": "display_data"
    }
   ],
   "source": [
    "sns.boxplot(x=res)"
   ]
  },
  {
   "cell_type": "markdown",
   "id": "4fa8377e",
   "metadata": {},
   "source": [
    "- The distribution is has its median close to zero, it's \"close\" to a normal distribution, and it has few outliers."
   ]
  },
  {
   "cell_type": "markdown",
   "id": "b06e428e",
   "metadata": {},
   "source": [
    "### Coefficients for the Linear Regression:"
   ]
  },
  {
   "cell_type": "code",
   "execution_count": 38,
   "id": "15627cdc",
   "metadata": {
    "ExecuteTime": {
     "end_time": "2021-12-08T19:49:01.327874Z",
     "start_time": "2021-12-08T19:49:01.299875Z"
    }
   },
   "outputs": [
    {
     "data": {
      "text/html": [
       "<div>\n",
       "<style scoped>\n",
       "    .dataframe tbody tr th:only-of-type {\n",
       "        vertical-align: middle;\n",
       "    }\n",
       "\n",
       "    .dataframe tbody tr th {\n",
       "        vertical-align: top;\n",
       "    }\n",
       "\n",
       "    .dataframe thead th {\n",
       "        text-align: right;\n",
       "    }\n",
       "</style>\n",
       "<table border=\"1\" class=\"dataframe\">\n",
       "  <thead>\n",
       "    <tr style=\"text-align: right;\">\n",
       "      <th></th>\n",
       "      <th>Features</th>\n",
       "      <th>Scores</th>\n",
       "    </tr>\n",
       "  </thead>\n",
       "  <tbody>\n",
       "    <tr>\n",
       "      <th>0</th>\n",
       "      <td>residual sugar</td>\n",
       "      <td>0.355765</td>\n",
       "    </tr>\n",
       "    <tr>\n",
       "      <th>1</th>\n",
       "      <td>alcohol</td>\n",
       "      <td>0.146252</td>\n",
       "    </tr>\n",
       "    <tr>\n",
       "      <th>2</th>\n",
       "      <td>pH</td>\n",
       "      <td>0.134474</td>\n",
       "    </tr>\n",
       "    <tr>\n",
       "      <th>3</th>\n",
       "      <td>free sulfur dioxide</td>\n",
       "      <td>0.090756</td>\n",
       "    </tr>\n",
       "    <tr>\n",
       "      <th>4</th>\n",
       "      <td>sulphates</td>\n",
       "      <td>0.073881</td>\n",
       "    </tr>\n",
       "    <tr>\n",
       "      <th>5</th>\n",
       "      <td>fixed acidity</td>\n",
       "      <td>0.073486</td>\n",
       "    </tr>\n",
       "    <tr>\n",
       "      <th>6</th>\n",
       "      <td>citric acid</td>\n",
       "      <td>0.026558</td>\n",
       "    </tr>\n",
       "    <tr>\n",
       "      <th>7</th>\n",
       "      <td>total sulfur dioxide</td>\n",
       "      <td>0.002235</td>\n",
       "    </tr>\n",
       "    <tr>\n",
       "      <th>8</th>\n",
       "      <td>chlorides</td>\n",
       "      <td>-0.002321</td>\n",
       "    </tr>\n",
       "    <tr>\n",
       "      <th>9</th>\n",
       "      <td>volatile acidity</td>\n",
       "      <td>-0.156797</td>\n",
       "    </tr>\n",
       "    <tr>\n",
       "      <th>10</th>\n",
       "      <td>density</td>\n",
       "      <td>-0.479014</td>\n",
       "    </tr>\n",
       "  </tbody>\n",
       "</table>\n",
       "</div>"
      ],
      "text/plain": [
       "                Features    Scores\n",
       "0         residual sugar  0.355765\n",
       "1                alcohol  0.146252\n",
       "2                     pH  0.134474\n",
       "3    free sulfur dioxide  0.090756\n",
       "4              sulphates  0.073881\n",
       "5          fixed acidity  0.073486\n",
       "6            citric acid  0.026558\n",
       "7   total sulfur dioxide  0.002235\n",
       "8              chlorides -0.002321\n",
       "9       volatile acidity -0.156797\n",
       "10               density -0.479014"
      ]
     },
     "execution_count": 38,
     "metadata": {},
     "output_type": "execute_result"
    }
   ],
   "source": [
    "coefs = lasso.coef_\n",
    "\n",
    "list_columns = X_train.columns\n",
    "list_feature = []\n",
    "list_score = []\n",
    "\n",
    "for i, v in enumerate(coefs):\n",
    "    list_feature.append(list_columns[i])\n",
    "    list_score.append(v)\n",
    "\n",
    "dictionary = {'Features': list_feature,\n",
    "              'Scores': list_score}\n",
    "\n",
    "df_features = pd.DataFrame(dictionary)\n",
    "df_features = df_features.sort_values(by=['Scores'], ascending=False)\n",
    "df_features.reset_index(inplace=True, drop=True)\n",
    "df_features"
   ]
  },
  {
   "cell_type": "markdown",
   "id": "ad666724",
   "metadata": {},
   "source": [
    "## Conclusions:"
   ]
  },
  {
   "cell_type": "markdown",
   "id": "81fd5f5d",
   "metadata": {},
   "source": [
    "- From the results obtained, it's observed that this is not the most adequate model to work with this sort of problem or, at least, all the techniques used did not produce adequate results. Even when using only features which had a minimum of correlation with the target feature or when using regularization methods with cross validation, the measures of the regression model are still far from ideal, which means the model is unable to predict the results accurately. A few observations:\n",
    "\n",
    "\n",
    "- 1) A high Pearson's correlation score between features does not necessarily mean a relationship of causality. Note that the model used, for the white wines, a higher coefficient for \"residual sugar\" than the one it used for \"alcohol\", which was the feature with the highest absolute Pearson's correlation score.\n",
    "\n",
    "\n",
    "- 2) The database is unbalanced: we have too many wines with quality scores of 5 or 6 and too few wines with other scores, which makes it difficult for the model to \"learn\" how to predict every case. The most appropriate course of action, regarding this, would be to gather more data and make a more balanced batabase. However, this alone would not allow us to make an efficient linear regression model because of the other problems with the data.\n",
    "\n",
    "\n",
    "- 3) The target variable, \"quality\", is a qualitative variable and not exactly a quantitative one. Despite the fact that we represent it through numbers, there is a degree of subjectivity associated with this variable, which makes it hard for the model to find an adequate relationship between the variables.\n",
    "\n",
    "\n",
    "- 4) Finally, the target variable is also a discrete variable while the rest of the date are continuous variables and this also creates problems for the model, as it is rounding the results."
   ]
  },
  {
   "cell_type": "markdown",
   "id": "7b052e4a",
   "metadata": {},
   "source": [
    "# Logistic Regression\n",
    "\n"
   ]
  },
  {
   "cell_type": "markdown",
   "id": "f50b3b02",
   "metadata": {},
   "source": [
    "- Firstly, let's change the values in the \"quality\" column to 1 (for \"good\") or 0 (for \"bad\") in both databases:"
   ]
  },
  {
   "cell_type": "code",
   "execution_count": 39,
   "id": "e2264be1",
   "metadata": {
    "ExecuteTime": {
     "end_time": "2021-12-08T19:49:01.343874Z",
     "start_time": "2021-12-08T19:49:01.329875Z"
    }
   },
   "outputs": [
    {
     "data": {
      "text/plain": [
       "5    577\n",
       "6    535\n",
       "7    167\n",
       "4     53\n",
       "Name: quality, dtype: int64"
      ]
     },
     "execution_count": 39,
     "metadata": {},
     "output_type": "execute_result"
    }
   ],
   "source": [
    "#Counting the number of each different score in the database of the red wines:\n",
    "dfred3[\"quality\"].value_counts()"
   ]
  },
  {
   "cell_type": "code",
   "execution_count": 40,
   "id": "7ac6fe6f",
   "metadata": {
    "ExecuteTime": {
     "end_time": "2021-12-08T19:49:01.373874Z",
     "start_time": "2021-12-08T19:49:01.346876Z"
    }
   },
   "outputs": [
    {
     "name": "stderr",
     "output_type": "stream",
     "text": [
      "<ipython-input-40-26aa77e7297b>:4: SettingWithCopyWarning: \n",
      "A value is trying to be set on a copy of a slice from a DataFrame.\n",
      "Try using .loc[row_indexer,col_indexer] = value instead\n",
      "\n",
      "See the caveats in the documentation: https://pandas.pydata.org/pandas-docs/stable/user_guide/indexing.html#returning-a-view-versus-a-copy\n",
      "  dfred3['quality_boolean']=pd.cut(dfred3['quality'],bins=bins, labels=labels)\n"
     ]
    },
    {
     "data": {
      "text/plain": [
       "1    702\n",
       "0    630\n",
       "Name: quality_boolean, dtype: int64"
      ]
     },
     "execution_count": 40,
     "metadata": {},
     "output_type": "execute_result"
    }
   ],
   "source": [
    "#Changing the values to 1, when equal to or higher than 6, or to 0, when lower than 6:\n",
    "bins = [0,5.5,11]\n",
    "labels= [0,1]\n",
    "dfred3['quality_boolean']=pd.cut(dfred3['quality'],bins=bins, labels=labels)\n",
    "dfred3=dfred3.drop(\"quality\",axis=1)\n",
    "dfred3['quality_boolean'].value_counts()"
   ]
  },
  {
   "cell_type": "code",
   "execution_count": 41,
   "id": "c637eb53",
   "metadata": {
    "ExecuteTime": {
     "end_time": "2021-12-08T19:49:01.561873Z",
     "start_time": "2021-12-08T19:49:01.375876Z"
    }
   },
   "outputs": [
    {
     "data": {
      "text/plain": [
       "<AxesSubplot:xlabel='quality_boolean', ylabel='count'>"
      ]
     },
     "execution_count": 41,
     "metadata": {},
     "output_type": "execute_result"
    },
    {
     "data": {
      "image/png": "[encoded data removed]",
      "text/plain": [
       "<Figure size 432x288 with 1 Axes>"
      ]
     },
     "metadata": {},
     "output_type": "display_data"
    }
   ],
   "source": [
    "#Plotting the result:\n",
    "sns.countplot(x=dfred3[\"quality_boolean\"])"
   ]
  },
  {
   "cell_type": "code",
   "execution_count": 42,
   "id": "edadc6a8",
   "metadata": {
    "ExecuteTime": {
     "end_time": "2021-12-08T19:49:01.576875Z",
     "start_time": "2021-12-08T19:49:01.563875Z"
    }
   },
   "outputs": [
    {
     "data": {
      "text/plain": [
       "6    1788\n",
       "5    1175\n",
       "7     689\n",
       "4     153\n",
       "Name: quality, dtype: int64"
      ]
     },
     "execution_count": 42,
     "metadata": {},
     "output_type": "execute_result"
    }
   ],
   "source": [
    "#Counting the values in the column \"quality\" for the white wines:\n",
    "dfwhite3[\"quality\"].value_counts()"
   ]
  },
  {
   "cell_type": "code",
   "execution_count": 43,
   "id": "d4d9d9c0",
   "metadata": {
    "ExecuteTime": {
     "end_time": "2021-12-08T19:49:01.607874Z",
     "start_time": "2021-12-08T19:49:01.578875Z"
    }
   },
   "outputs": [
    {
     "name": "stderr",
     "output_type": "stream",
     "text": [
      "<ipython-input-43-01dd61c47456>:4: SettingWithCopyWarning: \n",
      "A value is trying to be set on a copy of a slice from a DataFrame.\n",
      "Try using .loc[row_indexer,col_indexer] = value instead\n",
      "\n",
      "See the caveats in the documentation: https://pandas.pydata.org/pandas-docs/stable/user_guide/indexing.html#returning-a-view-versus-a-copy\n",
      "  dfwhite3['quality_boolean']=pd.cut(dfwhite3['quality'],bins=bins, labels=labels)\n"
     ]
    },
    {
     "data": {
      "text/plain": [
       "1    2477\n",
       "0    1328\n",
       "Name: quality_boolean, dtype: int64"
      ]
     },
     "execution_count": 43,
     "metadata": {},
     "output_type": "execute_result"
    }
   ],
   "source": [
    "#Changing the values to 1 or 0 like we did for the red wines:\n",
    "bins = [0,5.5,11]\n",
    "labels= [0,1]\n",
    "dfwhite3['quality_boolean']=pd.cut(dfwhite3['quality'],bins=bins, labels=labels)\n",
    "dfwhite3=dfwhite3.drop(\"quality\",axis=1)\n",
    "dfwhite3['quality_boolean'].value_counts()"
   ]
  },
  {
   "cell_type": "code",
   "execution_count": 44,
   "id": "beadcbf0",
   "metadata": {
    "ExecuteTime": {
     "end_time": "2021-12-08T19:49:01.828874Z",
     "start_time": "2021-12-08T19:49:01.609875Z"
    }
   },
   "outputs": [
    {
     "data": {
      "text/plain": [
       "<AxesSubplot:xlabel='quality_boolean', ylabel='count'>"
      ]
     },
     "execution_count": 44,
     "metadata": {},
     "output_type": "execute_result"
    },
    {
     "data": {
      "image/png": "[encoded data removed]",
      "text/plain": [
       "<Figure size 432x288 with 1 Axes>"
      ]
     },
     "metadata": {},
     "output_type": "display_data"
    }
   ],
   "source": [
    "#Plotting the result:\n",
    "sns.countplot(x=dfwhite3[\"quality_boolean\"])"
   ]
  },
  {
   "cell_type": "markdown",
   "id": "98a630de",
   "metadata": {
    "ExecuteTime": {
     "end_time": "2021-11-19T20:21:43.911957Z",
     "start_time": "2021-11-19T20:21:43.897956Z"
    }
   },
   "source": [
    "## Logistic Regression for the red wines:"
   ]
  },
  {
   "cell_type": "markdown",
   "id": "2a424ac7",
   "metadata": {},
   "source": [
    "- Firstly, we separate the database in X and Y, leaving only the target feature in Y:"
   ]
  },
  {
   "cell_type": "code",
   "execution_count": 45,
   "id": "a96c4faf",
   "metadata": {
    "ExecuteTime": {
     "end_time": "2021-12-08T19:49:01.843874Z",
     "start_time": "2021-12-08T19:49:01.830875Z"
    }
   },
   "outputs": [],
   "source": [
    "X=dfred3[corr_red]\n",
    "Y=dfred3[\"quality_boolean\"]"
   ]
  },
  {
   "cell_type": "markdown",
   "id": "549c3dba",
   "metadata": {},
   "source": [
    "- We separate the batabase between training data and test data:"
   ]
  },
  {
   "cell_type": "code",
   "execution_count": 46,
   "id": "aca13ade",
   "metadata": {
    "ExecuteTime": {
     "end_time": "2021-12-08T19:49:01.859875Z",
     "start_time": "2021-12-08T19:49:01.845899Z"
    }
   },
   "outputs": [],
   "source": [
    "X_train,X_test,Y_train,Y_test=train_test_split(X,Y,test_size=0.30,random_state=42,stratify=Y)"
   ]
  },
  {
   "cell_type": "markdown",
   "id": "7abfe791",
   "metadata": {},
   "source": [
    "- We standardize the data before applying the model:"
   ]
  },
  {
   "cell_type": "code",
   "execution_count": 47,
   "id": "171a831d",
   "metadata": {
    "ExecuteTime": {
     "end_time": "2021-12-08T19:49:01.875874Z",
     "start_time": "2021-12-08T19:49:01.861874Z"
    }
   },
   "outputs": [],
   "source": [
    "std=StandardScaler()\n",
    "X_train_std=std.fit_transform(X_train)\n",
    "X_test_std=std.transform(X_test)"
   ]
  },
  {
   "cell_type": "markdown",
   "id": "42c3e5f7",
   "metadata": {},
   "source": [
    "- Passing the data to the model:"
   ]
  },
  {
   "cell_type": "code",
   "execution_count": 48,
   "id": "6037d06f",
   "metadata": {
    "ExecuteTime": {
     "end_time": "2021-12-08T19:49:01.921874Z",
     "start_time": "2021-12-08T19:49:01.877875Z"
    }
   },
   "outputs": [
    {
     "data": {
      "text/plain": [
       "LogisticRegression(max_iter=1000)"
      ]
     },
     "execution_count": 48,
     "metadata": {},
     "output_type": "execute_result"
    }
   ],
   "source": [
    "logregred=LogisticRegression(max_iter=1000)\n",
    "logregred.fit(X_train_std,Y_train)"
   ]
  },
  {
   "cell_type": "markdown",
   "id": "5ed5e8bd",
   "metadata": {},
   "source": [
    "- Predicting with the test data:"
   ]
  },
  {
   "cell_type": "code",
   "execution_count": 49,
   "id": "e188201c",
   "metadata": {
    "ExecuteTime": {
     "end_time": "2021-12-08T19:49:01.937874Z",
     "start_time": "2021-12-08T19:49:01.923876Z"
    }
   },
   "outputs": [],
   "source": [
    "Y_pred=logregred.predict(X_test_std)"
   ]
  },
  {
   "cell_type": "markdown",
   "id": "f6dcd48f",
   "metadata": {},
   "source": [
    "### Confusion matrix for the red wines \n",
    "- This will allow us to see the True Positive and False Positive values"
   ]
  },
  {
   "cell_type": "code",
   "execution_count": 50,
   "id": "e8accd1d",
   "metadata": {
    "ExecuteTime": {
     "end_time": "2021-12-08T19:49:02.142874Z",
     "start_time": "2021-12-08T19:49:01.939875Z"
    }
   },
   "outputs": [
    {
     "data": {
      "image/png": "[encoded data removed]",
      "text/plain": [
       "<Figure size 432x288 with 1 Axes>"
      ]
     },
     "metadata": {},
     "output_type": "display_data"
    }
   ],
   "source": [
    "cm=confusion_matrix(Y_test,Y_pred)\n",
    "plot_confusion_matrix(conf_mat=cm)\n",
    "plt.show()"
   ]
  },
  {
   "cell_type": "markdown",
   "id": "aca936df",
   "metadata": {},
   "source": [
    "- The model predicted more false negatives than false positives (it predicted more \"bad\" labels for good wines than \"good\" labels for bad wines. Therefore, the model's precision is higher than its recall.\n",
    "### The measure scores for the regression are:"
   ]
  },
  {
   "cell_type": "code",
   "execution_count": 51,
   "id": "44a017cb",
   "metadata": {
    "ExecuteTime": {
     "end_time": "2021-12-08T19:49:02.173874Z",
     "start_time": "2021-12-08T19:49:02.144874Z"
    }
   },
   "outputs": [
    {
     "name": "stdout",
     "output_type": "stream",
     "text": [
      "Accuracy:  0.715\n",
      "Precision:  0.7593582887700535\n",
      "Recall:  0.6729857819905213\n",
      "F1-Score:  0.7135678391959799\n"
     ]
    }
   ],
   "source": [
    "print('Accuracy: ', accuracy_score(Y_test, Y_pred))\n",
    "print('Precision: ', precision_score(Y_test, Y_pred))\n",
    "print('Recall: ', recall_score(Y_test, Y_pred))\n",
    "print('F1-Score: ', f1_score(Y_test, Y_pred))"
   ]
  },
  {
   "cell_type": "markdown",
   "id": "ff5286e9",
   "metadata": {},
   "source": [
    "### Let's see how the model behaves with different thresholds other than the standard of 0.5 before we pick the best one:"
   ]
  },
  {
   "cell_type": "code",
   "execution_count": 52,
   "id": "e5f77138",
   "metadata": {
    "ExecuteTime": {
     "end_time": "2021-12-08T19:49:02.189874Z",
     "start_time": "2021-12-08T19:49:02.175876Z"
    }
   },
   "outputs": [],
   "source": [
    "Y_proba_test = logregred.predict_proba(X_test_std)"
   ]
  },
  {
   "cell_type": "code",
   "execution_count": 53,
   "id": "2cf4ce7e",
   "metadata": {
    "ExecuteTime": {
     "end_time": "2021-12-08T19:49:02.220874Z",
     "start_time": "2021-12-08T19:49:02.191875Z"
    }
   },
   "outputs": [
    {
     "data": {
      "text/html": [
       "<div>\n",
       "<style scoped>\n",
       "    .dataframe tbody tr th:only-of-type {\n",
       "        vertical-align: middle;\n",
       "    }\n",
       "\n",
       "    .dataframe tbody tr th {\n",
       "        vertical-align: top;\n",
       "    }\n",
       "\n",
       "    .dataframe thead th {\n",
       "        text-align: right;\n",
       "    }\n",
       "</style>\n",
       "<table border=\"1\" class=\"dataframe\">\n",
       "  <thead>\n",
       "    <tr style=\"text-align: right;\">\n",
       "      <th></th>\n",
       "      <th>quality_boolean</th>\n",
       "      <th>proba</th>\n",
       "    </tr>\n",
       "  </thead>\n",
       "  <tbody>\n",
       "    <tr>\n",
       "      <th>604</th>\n",
       "      <td>1</td>\n",
       "      <td>0.175</td>\n",
       "    </tr>\n",
       "    <tr>\n",
       "      <th>641</th>\n",
       "      <td>0</td>\n",
       "      <td>0.263</td>\n",
       "    </tr>\n",
       "    <tr>\n",
       "      <th>1215</th>\n",
       "      <td>1</td>\n",
       "      <td>0.842</td>\n",
       "    </tr>\n",
       "    <tr>\n",
       "      <th>98</th>\n",
       "      <td>0</td>\n",
       "      <td>0.224</td>\n",
       "    </tr>\n",
       "    <tr>\n",
       "      <th>303</th>\n",
       "      <td>0</td>\n",
       "      <td>0.147</td>\n",
       "    </tr>\n",
       "    <tr>\n",
       "      <th>...</th>\n",
       "      <td>...</td>\n",
       "      <td>...</td>\n",
       "    </tr>\n",
       "    <tr>\n",
       "      <th>1313</th>\n",
       "      <td>1</td>\n",
       "      <td>0.433</td>\n",
       "    </tr>\n",
       "    <tr>\n",
       "      <th>1414</th>\n",
       "      <td>0</td>\n",
       "      <td>0.628</td>\n",
       "    </tr>\n",
       "    <tr>\n",
       "      <th>509</th>\n",
       "      <td>1</td>\n",
       "      <td>0.911</td>\n",
       "    </tr>\n",
       "    <tr>\n",
       "      <th>243</th>\n",
       "      <td>1</td>\n",
       "      <td>0.831</td>\n",
       "    </tr>\n",
       "    <tr>\n",
       "      <th>891</th>\n",
       "      <td>0</td>\n",
       "      <td>0.172</td>\n",
       "    </tr>\n",
       "  </tbody>\n",
       "</table>\n",
       "<p>400 rows × 2 columns</p>\n",
       "</div>"
      ],
      "text/plain": [
       "     quality_boolean  proba\n",
       "604                1  0.175\n",
       "641                0  0.263\n",
       "1215               1  0.842\n",
       "98                 0  0.224\n",
       "303                0  0.147\n",
       "...              ...    ...\n",
       "1313               1  0.433\n",
       "1414               0  0.628\n",
       "509                1  0.911\n",
       "243                1  0.831\n",
       "891                0  0.172\n",
       "\n",
       "[400 rows x 2 columns]"
      ]
     },
     "execution_count": 53,
     "metadata": {},
     "output_type": "execute_result"
    }
   ],
   "source": [
    "results_test = pd.DataFrame(Y_test)\n",
    "results_test['proba'] = np.round(Y_proba_test[:,1], 3)\n",
    "results_test"
   ]
  },
  {
   "cell_type": "code",
   "execution_count": 54,
   "id": "f680eadf",
   "metadata": {
    "ExecuteTime": {
     "end_time": "2021-12-08T19:49:02.764875Z",
     "start_time": "2021-12-08T19:49:02.222874Z"
    }
   },
   "outputs": [
    {
     "name": "stdout",
     "output_type": "stream",
     "text": [
      "0.01 0.02 0.03 0.04 0.05 0.06 0.07 0.08 0.09 0.1 0.11 0.12 0.13 0.14 0.15 0.16 0.17 0.18 0.19 0.2 0.21 0.22 0.23 0.24 0.25 0.26 0.27 0.28 0.29 0.3 0.31 0.32 0.33 0.34 0.35 0.36 0.37 0.38 0.39 0.4 0.41 0.42 0.43 0.44 0.45 0.46 0.47 0.48 0.49 0.5 0.51 0.52 0.53 0.54 0.55 0.56 0.57 0.58 0.59 0.6 0.61 0.62 0.63 0.64 0.65 0.66 0.67 0.68 0.69 0.7 0.71 0.72 0.73 0.74 0.75 0.76 0.77 0.78 0.79 0.8 0.81 0.82 0.83 0.84 0.85 0.86 0.87 0.88 0.89 0.9 0.91 0.92 0.93 0.94 0.95 0.96 0.97 0.98 0.99 1.0 "
     ]
    },
    {
     "name": "stderr",
     "output_type": "stream",
     "text": [
      "<ipython-input-54-b38f0d0cb034>:37: RuntimeWarning: invalid value encountered in double_scalars\n",
      "  f1_scoredf = np.where((precisiondf + recalldf) > 0, (2 * precisiondf * recalldf)/(precisiondf + recalldf), 0)\n",
      "<ipython-input-54-b38f0d0cb034>:33: RuntimeWarning: invalid value encountered in longlong_scalars\n",
      "  precisiondf = np.where((TP + FP) > 0, TP / (TP + FP), 0)\n"
     ]
    }
   ],
   "source": [
    "#Defining the parameters for the loop\n",
    "threshold_increment  = 0.01\n",
    "threshold_begin = threshold_increment\n",
    "threshold_end    = 1.0\n",
    "\n",
    "# For each threshold, the loop will calculate TN, FN, FP, TP and other scores\n",
    "\n",
    "list_threshold  = []\n",
    "list_TN         = []\n",
    "list_FN         = []\n",
    "list_FP         = []\n",
    "list_TP         = []\n",
    "list_precision  = []\n",
    "list_recall     = []\n",
    "list_accuracy   = []\n",
    "list_f1_score   = []\n",
    "\n",
    "for i in np.arange(threshold_begin, threshold_end + threshold_increment, threshold_increment):\n",
    "    i_threshold = np.round(i, 2)\n",
    "    print(str(i_threshold) + ' ', end = '')\n",
    "    \n",
    "    results_test['y_pred'] = results_test['proba'].apply(lambda x: 1 if x >= i_threshold else 0)\n",
    "    results_test['flag_TN'] = np.where((results_test['y_pred'] == 0) & (results_test['quality_boolean'] == 0), 1, 0)\n",
    "    results_test['flag_FN'] = np.where((results_test['y_pred'] == 0) & (results_test['quality_boolean'] == 1), 1, 0)\n",
    "    results_test['flag_TP'] = np.where((results_test['y_pred'] == 1) & (results_test['quality_boolean'] == 1), 1, 0)\n",
    "    results_test['flag_FP'] = np.where((results_test['y_pred'] == 1) & (results_test['quality_boolean'] == 0), 1, 0)\n",
    "  \n",
    "    TN = results_test['flag_TN'].sum()\n",
    "    FN = results_test['flag_FN'].sum()\n",
    "    TP = results_test['flag_TP'].sum()\n",
    "    FP = results_test['flag_FP'].sum()\n",
    "    \n",
    "    precisiondf = np.where((TP + FP) > 0, TP / (TP + FP), 0)\n",
    "    recalldf = np.where((TP + FN) > 0, TP / (TP + FN), 0)\n",
    "    accuracydf = np.where((TN + FN + TP + FP) > 0, \n",
    "                         (TP + TN)/(TN + FN + TP + FP), 0)\n",
    "    f1_scoredf = np.where((precisiondf + recalldf) > 0, (2 * precisiondf * recalldf)/(precisiondf + recalldf), 0)\n",
    "    \n",
    "    list_threshold.append(i_threshold)\n",
    "    list_TN.append(TN)\n",
    "    list_FN.append(FN)\n",
    "    list_FP.append(FP)\n",
    "    list_TP.append(TP)\n",
    "    list_precision.append(np.round(precisiondf, 6))\n",
    "    list_recall.append(np.round(recalldf, 6))\n",
    "    list_accuracy.append(np.round(accuracydf, 6))\n",
    "    list_f1_score.append(np.round(f1_scoredf, 6))\n",
    "\n",
    "#---------------------\n",
    "dict_output = {\n",
    "  \"threshold\" : list_threshold, \n",
    "  \"TN\" : list_TN,\n",
    "  \"FN\" : list_FN,\n",
    "  \"FP\" : list_FP,\n",
    "  \"TP\" : list_TP,\n",
    "  \"precision\" : list_precision,\n",
    "  \"recall\" : list_recall,\n",
    "  \"accuracy\" : list_accuracy,\n",
    "  \"f1_score\" : list_f1_score\n",
    "}\n",
    "\n",
    "df_results = pd.DataFrame(dict_output)"
   ]
  },
  {
   "cell_type": "code",
   "execution_count": 55,
   "id": "ae62f73e",
   "metadata": {
    "ExecuteTime": {
     "end_time": "2021-12-08T19:49:02.810875Z",
     "start_time": "2021-12-08T19:49:02.766874Z"
    }
   },
   "outputs": [
    {
     "data": {
      "text/html": [
       "<div>\n",
       "<style scoped>\n",
       "    .dataframe tbody tr th:only-of-type {\n",
       "        vertical-align: middle;\n",
       "    }\n",
       "\n",
       "    .dataframe tbody tr th {\n",
       "        vertical-align: top;\n",
       "    }\n",
       "\n",
       "    .dataframe thead th {\n",
       "        text-align: right;\n",
       "    }\n",
       "</style>\n",
       "<table border=\"1\" class=\"dataframe\">\n",
       "  <thead>\n",
       "    <tr style=\"text-align: right;\">\n",
       "      <th></th>\n",
       "      <th>threshold</th>\n",
       "      <th>TN</th>\n",
       "      <th>FN</th>\n",
       "      <th>FP</th>\n",
       "      <th>TP</th>\n",
       "      <th>precision</th>\n",
       "      <th>recall</th>\n",
       "      <th>accuracy</th>\n",
       "      <th>f1_score</th>\n",
       "    </tr>\n",
       "  </thead>\n",
       "  <tbody>\n",
       "    <tr>\n",
       "      <th>0</th>\n",
       "      <td>0.01</td>\n",
       "      <td>0</td>\n",
       "      <td>0</td>\n",
       "      <td>189</td>\n",
       "      <td>211</td>\n",
       "      <td>0.527500</td>\n",
       "      <td>1.000000</td>\n",
       "      <td>0.5275</td>\n",
       "      <td>0.690671</td>\n",
       "    </tr>\n",
       "    <tr>\n",
       "      <th>1</th>\n",
       "      <td>0.02</td>\n",
       "      <td>0</td>\n",
       "      <td>0</td>\n",
       "      <td>189</td>\n",
       "      <td>211</td>\n",
       "      <td>0.527500</td>\n",
       "      <td>1.000000</td>\n",
       "      <td>0.5275</td>\n",
       "      <td>0.690671</td>\n",
       "    </tr>\n",
       "    <tr>\n",
       "      <th>2</th>\n",
       "      <td>0.03</td>\n",
       "      <td>0</td>\n",
       "      <td>0</td>\n",
       "      <td>189</td>\n",
       "      <td>211</td>\n",
       "      <td>0.527500</td>\n",
       "      <td>1.000000</td>\n",
       "      <td>0.5275</td>\n",
       "      <td>0.690671</td>\n",
       "    </tr>\n",
       "    <tr>\n",
       "      <th>3</th>\n",
       "      <td>0.04</td>\n",
       "      <td>1</td>\n",
       "      <td>0</td>\n",
       "      <td>188</td>\n",
       "      <td>211</td>\n",
       "      <td>0.528822</td>\n",
       "      <td>1.000000</td>\n",
       "      <td>0.5300</td>\n",
       "      <td>0.691803</td>\n",
       "    </tr>\n",
       "    <tr>\n",
       "      <th>4</th>\n",
       "      <td>0.05</td>\n",
       "      <td>2</td>\n",
       "      <td>0</td>\n",
       "      <td>187</td>\n",
       "      <td>211</td>\n",
       "      <td>0.530151</td>\n",
       "      <td>1.000000</td>\n",
       "      <td>0.5325</td>\n",
       "      <td>0.692939</td>\n",
       "    </tr>\n",
       "    <tr>\n",
       "      <th>5</th>\n",
       "      <td>0.06</td>\n",
       "      <td>2</td>\n",
       "      <td>0</td>\n",
       "      <td>187</td>\n",
       "      <td>211</td>\n",
       "      <td>0.530151</td>\n",
       "      <td>1.000000</td>\n",
       "      <td>0.5325</td>\n",
       "      <td>0.692939</td>\n",
       "    </tr>\n",
       "    <tr>\n",
       "      <th>6</th>\n",
       "      <td>0.07</td>\n",
       "      <td>3</td>\n",
       "      <td>0</td>\n",
       "      <td>186</td>\n",
       "      <td>211</td>\n",
       "      <td>0.531486</td>\n",
       "      <td>1.000000</td>\n",
       "      <td>0.5350</td>\n",
       "      <td>0.694079</td>\n",
       "    </tr>\n",
       "    <tr>\n",
       "      <th>7</th>\n",
       "      <td>0.08</td>\n",
       "      <td>6</td>\n",
       "      <td>0</td>\n",
       "      <td>183</td>\n",
       "      <td>211</td>\n",
       "      <td>0.535533</td>\n",
       "      <td>1.000000</td>\n",
       "      <td>0.5425</td>\n",
       "      <td>0.697521</td>\n",
       "    </tr>\n",
       "    <tr>\n",
       "      <th>8</th>\n",
       "      <td>0.09</td>\n",
       "      <td>8</td>\n",
       "      <td>1</td>\n",
       "      <td>181</td>\n",
       "      <td>210</td>\n",
       "      <td>0.537084</td>\n",
       "      <td>0.995261</td>\n",
       "      <td>0.5450</td>\n",
       "      <td>0.697674</td>\n",
       "    </tr>\n",
       "    <tr>\n",
       "      <th>9</th>\n",
       "      <td>0.10</td>\n",
       "      <td>13</td>\n",
       "      <td>2</td>\n",
       "      <td>176</td>\n",
       "      <td>209</td>\n",
       "      <td>0.542857</td>\n",
       "      <td>0.990521</td>\n",
       "      <td>0.5550</td>\n",
       "      <td>0.701342</td>\n",
       "    </tr>\n",
       "    <tr>\n",
       "      <th>10</th>\n",
       "      <td>0.11</td>\n",
       "      <td>15</td>\n",
       "      <td>2</td>\n",
       "      <td>174</td>\n",
       "      <td>209</td>\n",
       "      <td>0.545692</td>\n",
       "      <td>0.990521</td>\n",
       "      <td>0.5600</td>\n",
       "      <td>0.703704</td>\n",
       "    </tr>\n",
       "    <tr>\n",
       "      <th>11</th>\n",
       "      <td>0.12</td>\n",
       "      <td>20</td>\n",
       "      <td>2</td>\n",
       "      <td>169</td>\n",
       "      <td>209</td>\n",
       "      <td>0.552910</td>\n",
       "      <td>0.990521</td>\n",
       "      <td>0.5725</td>\n",
       "      <td>0.709677</td>\n",
       "    </tr>\n",
       "    <tr>\n",
       "      <th>12</th>\n",
       "      <td>0.13</td>\n",
       "      <td>23</td>\n",
       "      <td>4</td>\n",
       "      <td>166</td>\n",
       "      <td>207</td>\n",
       "      <td>0.554960</td>\n",
       "      <td>0.981043</td>\n",
       "      <td>0.5750</td>\n",
       "      <td>0.708904</td>\n",
       "    </tr>\n",
       "    <tr>\n",
       "      <th>13</th>\n",
       "      <td>0.14</td>\n",
       "      <td>25</td>\n",
       "      <td>7</td>\n",
       "      <td>164</td>\n",
       "      <td>204</td>\n",
       "      <td>0.554348</td>\n",
       "      <td>0.966825</td>\n",
       "      <td>0.5725</td>\n",
       "      <td>0.704663</td>\n",
       "    </tr>\n",
       "    <tr>\n",
       "      <th>14</th>\n",
       "      <td>0.15</td>\n",
       "      <td>31</td>\n",
       "      <td>8</td>\n",
       "      <td>158</td>\n",
       "      <td>203</td>\n",
       "      <td>0.562327</td>\n",
       "      <td>0.962085</td>\n",
       "      <td>0.5850</td>\n",
       "      <td>0.709790</td>\n",
       "    </tr>\n",
       "    <tr>\n",
       "      <th>15</th>\n",
       "      <td>0.16</td>\n",
       "      <td>37</td>\n",
       "      <td>9</td>\n",
       "      <td>152</td>\n",
       "      <td>202</td>\n",
       "      <td>0.570621</td>\n",
       "      <td>0.957346</td>\n",
       "      <td>0.5975</td>\n",
       "      <td>0.715044</td>\n",
       "    </tr>\n",
       "    <tr>\n",
       "      <th>16</th>\n",
       "      <td>0.17</td>\n",
       "      <td>45</td>\n",
       "      <td>10</td>\n",
       "      <td>144</td>\n",
       "      <td>201</td>\n",
       "      <td>0.582609</td>\n",
       "      <td>0.952607</td>\n",
       "      <td>0.6150</td>\n",
       "      <td>0.723022</td>\n",
       "    </tr>\n",
       "    <tr>\n",
       "      <th>17</th>\n",
       "      <td>0.18</td>\n",
       "      <td>55</td>\n",
       "      <td>12</td>\n",
       "      <td>134</td>\n",
       "      <td>199</td>\n",
       "      <td>0.597598</td>\n",
       "      <td>0.943128</td>\n",
       "      <td>0.6350</td>\n",
       "      <td>0.731618</td>\n",
       "    </tr>\n",
       "    <tr>\n",
       "      <th>18</th>\n",
       "      <td>0.19</td>\n",
       "      <td>60</td>\n",
       "      <td>12</td>\n",
       "      <td>129</td>\n",
       "      <td>199</td>\n",
       "      <td>0.606707</td>\n",
       "      <td>0.943128</td>\n",
       "      <td>0.6475</td>\n",
       "      <td>0.738404</td>\n",
       "    </tr>\n",
       "    <tr>\n",
       "      <th>19</th>\n",
       "      <td>0.20</td>\n",
       "      <td>61</td>\n",
       "      <td>13</td>\n",
       "      <td>128</td>\n",
       "      <td>198</td>\n",
       "      <td>0.607362</td>\n",
       "      <td>0.938389</td>\n",
       "      <td>0.6475</td>\n",
       "      <td>0.737430</td>\n",
       "    </tr>\n",
       "    <tr>\n",
       "      <th>20</th>\n",
       "      <td>0.21</td>\n",
       "      <td>65</td>\n",
       "      <td>14</td>\n",
       "      <td>124</td>\n",
       "      <td>197</td>\n",
       "      <td>0.613707</td>\n",
       "      <td>0.933649</td>\n",
       "      <td>0.6550</td>\n",
       "      <td>0.740602</td>\n",
       "    </tr>\n",
       "    <tr>\n",
       "      <th>21</th>\n",
       "      <td>0.22</td>\n",
       "      <td>69</td>\n",
       "      <td>17</td>\n",
       "      <td>120</td>\n",
       "      <td>194</td>\n",
       "      <td>0.617834</td>\n",
       "      <td>0.919431</td>\n",
       "      <td>0.6575</td>\n",
       "      <td>0.739048</td>\n",
       "    </tr>\n",
       "    <tr>\n",
       "      <th>22</th>\n",
       "      <td>0.23</td>\n",
       "      <td>72</td>\n",
       "      <td>18</td>\n",
       "      <td>117</td>\n",
       "      <td>193</td>\n",
       "      <td>0.622581</td>\n",
       "      <td>0.914692</td>\n",
       "      <td>0.6625</td>\n",
       "      <td>0.740883</td>\n",
       "    </tr>\n",
       "    <tr>\n",
       "      <th>23</th>\n",
       "      <td>0.24</td>\n",
       "      <td>74</td>\n",
       "      <td>20</td>\n",
       "      <td>115</td>\n",
       "      <td>191</td>\n",
       "      <td>0.624183</td>\n",
       "      <td>0.905213</td>\n",
       "      <td>0.6625</td>\n",
       "      <td>0.738878</td>\n",
       "    </tr>\n",
       "    <tr>\n",
       "      <th>24</th>\n",
       "      <td>0.25</td>\n",
       "      <td>77</td>\n",
       "      <td>21</td>\n",
       "      <td>112</td>\n",
       "      <td>190</td>\n",
       "      <td>0.629139</td>\n",
       "      <td>0.900474</td>\n",
       "      <td>0.6675</td>\n",
       "      <td>0.740741</td>\n",
       "    </tr>\n",
       "    <tr>\n",
       "      <th>25</th>\n",
       "      <td>0.26</td>\n",
       "      <td>81</td>\n",
       "      <td>21</td>\n",
       "      <td>108</td>\n",
       "      <td>190</td>\n",
       "      <td>0.637584</td>\n",
       "      <td>0.900474</td>\n",
       "      <td>0.6775</td>\n",
       "      <td>0.746562</td>\n",
       "    </tr>\n",
       "    <tr>\n",
       "      <th>26</th>\n",
       "      <td>0.27</td>\n",
       "      <td>88</td>\n",
       "      <td>21</td>\n",
       "      <td>101</td>\n",
       "      <td>190</td>\n",
       "      <td>0.652921</td>\n",
       "      <td>0.900474</td>\n",
       "      <td>0.6950</td>\n",
       "      <td>0.756972</td>\n",
       "    </tr>\n",
       "    <tr>\n",
       "      <th>27</th>\n",
       "      <td>0.28</td>\n",
       "      <td>92</td>\n",
       "      <td>21</td>\n",
       "      <td>97</td>\n",
       "      <td>190</td>\n",
       "      <td>0.662021</td>\n",
       "      <td>0.900474</td>\n",
       "      <td>0.7050</td>\n",
       "      <td>0.763052</td>\n",
       "    </tr>\n",
       "    <tr>\n",
       "      <th>28</th>\n",
       "      <td>0.29</td>\n",
       "      <td>98</td>\n",
       "      <td>22</td>\n",
       "      <td>91</td>\n",
       "      <td>189</td>\n",
       "      <td>0.675000</td>\n",
       "      <td>0.895735</td>\n",
       "      <td>0.7175</td>\n",
       "      <td>0.769857</td>\n",
       "    </tr>\n",
       "    <tr>\n",
       "      <th>29</th>\n",
       "      <td>0.30</td>\n",
       "      <td>100</td>\n",
       "      <td>23</td>\n",
       "      <td>89</td>\n",
       "      <td>188</td>\n",
       "      <td>0.678700</td>\n",
       "      <td>0.890995</td>\n",
       "      <td>0.7200</td>\n",
       "      <td>0.770492</td>\n",
       "    </tr>\n",
       "    <tr>\n",
       "      <th>30</th>\n",
       "      <td>0.31</td>\n",
       "      <td>104</td>\n",
       "      <td>23</td>\n",
       "      <td>85</td>\n",
       "      <td>188</td>\n",
       "      <td>0.688645</td>\n",
       "      <td>0.890995</td>\n",
       "      <td>0.7300</td>\n",
       "      <td>0.776860</td>\n",
       "    </tr>\n",
       "    <tr>\n",
       "      <th>31</th>\n",
       "      <td>0.32</td>\n",
       "      <td>107</td>\n",
       "      <td>25</td>\n",
       "      <td>82</td>\n",
       "      <td>186</td>\n",
       "      <td>0.694030</td>\n",
       "      <td>0.881517</td>\n",
       "      <td>0.7325</td>\n",
       "      <td>0.776618</td>\n",
       "    </tr>\n",
       "    <tr>\n",
       "      <th>32</th>\n",
       "      <td>0.33</td>\n",
       "      <td>110</td>\n",
       "      <td>27</td>\n",
       "      <td>79</td>\n",
       "      <td>184</td>\n",
       "      <td>0.699620</td>\n",
       "      <td>0.872038</td>\n",
       "      <td>0.7350</td>\n",
       "      <td>0.776371</td>\n",
       "    </tr>\n",
       "    <tr>\n",
       "      <th>33</th>\n",
       "      <td>0.34</td>\n",
       "      <td>112</td>\n",
       "      <td>29</td>\n",
       "      <td>77</td>\n",
       "      <td>182</td>\n",
       "      <td>0.702703</td>\n",
       "      <td>0.862559</td>\n",
       "      <td>0.7350</td>\n",
       "      <td>0.774468</td>\n",
       "    </tr>\n",
       "    <tr>\n",
       "      <th>34</th>\n",
       "      <td>0.35</td>\n",
       "      <td>116</td>\n",
       "      <td>33</td>\n",
       "      <td>73</td>\n",
       "      <td>178</td>\n",
       "      <td>0.709163</td>\n",
       "      <td>0.843602</td>\n",
       "      <td>0.7350</td>\n",
       "      <td>0.770563</td>\n",
       "    </tr>\n",
       "    <tr>\n",
       "      <th>35</th>\n",
       "      <td>0.36</td>\n",
       "      <td>121</td>\n",
       "      <td>39</td>\n",
       "      <td>68</td>\n",
       "      <td>172</td>\n",
       "      <td>0.716667</td>\n",
       "      <td>0.815166</td>\n",
       "      <td>0.7325</td>\n",
       "      <td>0.762749</td>\n",
       "    </tr>\n",
       "    <tr>\n",
       "      <th>36</th>\n",
       "      <td>0.37</td>\n",
       "      <td>123</td>\n",
       "      <td>40</td>\n",
       "      <td>66</td>\n",
       "      <td>171</td>\n",
       "      <td>0.721519</td>\n",
       "      <td>0.810427</td>\n",
       "      <td>0.7350</td>\n",
       "      <td>0.763393</td>\n",
       "    </tr>\n",
       "    <tr>\n",
       "      <th>37</th>\n",
       "      <td>0.38</td>\n",
       "      <td>123</td>\n",
       "      <td>40</td>\n",
       "      <td>66</td>\n",
       "      <td>171</td>\n",
       "      <td>0.721519</td>\n",
       "      <td>0.810427</td>\n",
       "      <td>0.7350</td>\n",
       "      <td>0.763393</td>\n",
       "    </tr>\n",
       "    <tr>\n",
       "      <th>38</th>\n",
       "      <td>0.39</td>\n",
       "      <td>125</td>\n",
       "      <td>43</td>\n",
       "      <td>64</td>\n",
       "      <td>168</td>\n",
       "      <td>0.724138</td>\n",
       "      <td>0.796209</td>\n",
       "      <td>0.7325</td>\n",
       "      <td>0.758465</td>\n",
       "    </tr>\n",
       "    <tr>\n",
       "      <th>39</th>\n",
       "      <td>0.40</td>\n",
       "      <td>128</td>\n",
       "      <td>47</td>\n",
       "      <td>61</td>\n",
       "      <td>164</td>\n",
       "      <td>0.728889</td>\n",
       "      <td>0.777251</td>\n",
       "      <td>0.7300</td>\n",
       "      <td>0.752294</td>\n",
       "    </tr>\n",
       "    <tr>\n",
       "      <th>40</th>\n",
       "      <td>0.41</td>\n",
       "      <td>129</td>\n",
       "      <td>50</td>\n",
       "      <td>60</td>\n",
       "      <td>161</td>\n",
       "      <td>0.728507</td>\n",
       "      <td>0.763033</td>\n",
       "      <td>0.7250</td>\n",
       "      <td>0.745370</td>\n",
       "    </tr>\n",
       "    <tr>\n",
       "      <th>41</th>\n",
       "      <td>0.42</td>\n",
       "      <td>131</td>\n",
       "      <td>50</td>\n",
       "      <td>58</td>\n",
       "      <td>161</td>\n",
       "      <td>0.735160</td>\n",
       "      <td>0.763033</td>\n",
       "      <td>0.7300</td>\n",
       "      <td>0.748837</td>\n",
       "    </tr>\n",
       "    <tr>\n",
       "      <th>42</th>\n",
       "      <td>0.43</td>\n",
       "      <td>134</td>\n",
       "      <td>51</td>\n",
       "      <td>55</td>\n",
       "      <td>160</td>\n",
       "      <td>0.744186</td>\n",
       "      <td>0.758294</td>\n",
       "      <td>0.7350</td>\n",
       "      <td>0.751174</td>\n",
       "    </tr>\n",
       "    <tr>\n",
       "      <th>43</th>\n",
       "      <td>0.44</td>\n",
       "      <td>135</td>\n",
       "      <td>54</td>\n",
       "      <td>54</td>\n",
       "      <td>157</td>\n",
       "      <td>0.744076</td>\n",
       "      <td>0.744076</td>\n",
       "      <td>0.7300</td>\n",
       "      <td>0.744076</td>\n",
       "    </tr>\n",
       "    <tr>\n",
       "      <th>44</th>\n",
       "      <td>0.45</td>\n",
       "      <td>136</td>\n",
       "      <td>58</td>\n",
       "      <td>53</td>\n",
       "      <td>153</td>\n",
       "      <td>0.742718</td>\n",
       "      <td>0.725118</td>\n",
       "      <td>0.7225</td>\n",
       "      <td>0.733813</td>\n",
       "    </tr>\n",
       "    <tr>\n",
       "      <th>45</th>\n",
       "      <td>0.46</td>\n",
       "      <td>136</td>\n",
       "      <td>61</td>\n",
       "      <td>53</td>\n",
       "      <td>150</td>\n",
       "      <td>0.738916</td>\n",
       "      <td>0.710900</td>\n",
       "      <td>0.7150</td>\n",
       "      <td>0.724638</td>\n",
       "    </tr>\n",
       "    <tr>\n",
       "      <th>46</th>\n",
       "      <td>0.47</td>\n",
       "      <td>137</td>\n",
       "      <td>63</td>\n",
       "      <td>52</td>\n",
       "      <td>148</td>\n",
       "      <td>0.740000</td>\n",
       "      <td>0.701422</td>\n",
       "      <td>0.7125</td>\n",
       "      <td>0.720195</td>\n",
       "    </tr>\n",
       "    <tr>\n",
       "      <th>47</th>\n",
       "      <td>0.48</td>\n",
       "      <td>139</td>\n",
       "      <td>65</td>\n",
       "      <td>50</td>\n",
       "      <td>146</td>\n",
       "      <td>0.744898</td>\n",
       "      <td>0.691943</td>\n",
       "      <td>0.7125</td>\n",
       "      <td>0.717445</td>\n",
       "    </tr>\n",
       "    <tr>\n",
       "      <th>48</th>\n",
       "      <td>0.49</td>\n",
       "      <td>144</td>\n",
       "      <td>68</td>\n",
       "      <td>45</td>\n",
       "      <td>143</td>\n",
       "      <td>0.760638</td>\n",
       "      <td>0.677725</td>\n",
       "      <td>0.7175</td>\n",
       "      <td>0.716792</td>\n",
       "    </tr>\n",
       "    <tr>\n",
       "      <th>49</th>\n",
       "      <td>0.50</td>\n",
       "      <td>144</td>\n",
       "      <td>69</td>\n",
       "      <td>45</td>\n",
       "      <td>142</td>\n",
       "      <td>0.759358</td>\n",
       "      <td>0.672986</td>\n",
       "      <td>0.7150</td>\n",
       "      <td>0.713568</td>\n",
       "    </tr>\n",
       "  </tbody>\n",
       "</table>\n",
       "</div>"
      ],
      "text/plain": [
       "    threshold   TN  FN   FP   TP  precision    recall  accuracy  f1_score\n",
       "0        0.01    0   0  189  211   0.527500  1.000000    0.5275  0.690671\n",
       "1        0.02    0   0  189  211   0.527500  1.000000    0.5275  0.690671\n",
       "2        0.03    0   0  189  211   0.527500  1.000000    0.5275  0.690671\n",
       "3        0.04    1   0  188  211   0.528822  1.000000    0.5300  0.691803\n",
       "4        0.05    2   0  187  211   0.530151  1.000000    0.5325  0.692939\n",
       "5        0.06    2   0  187  211   0.530151  1.000000    0.5325  0.692939\n",
       "6        0.07    3   0  186  211   0.531486  1.000000    0.5350  0.694079\n",
       "7        0.08    6   0  183  211   0.535533  1.000000    0.5425  0.697521\n",
       "8        0.09    8   1  181  210   0.537084  0.995261    0.5450  0.697674\n",
       "9        0.10   13   2  176  209   0.542857  0.990521    0.5550  0.701342\n",
       "10       0.11   15   2  174  209   0.545692  0.990521    0.5600  0.703704\n",
       "11       0.12   20   2  169  209   0.552910  0.990521    0.5725  0.709677\n",
       "12       0.13   23   4  166  207   0.554960  0.981043    0.5750  0.708904\n",
       "13       0.14   25   7  164  204   0.554348  0.966825    0.5725  0.704663\n",
       "14       0.15   31   8  158  203   0.562327  0.962085    0.5850  0.709790\n",
       "15       0.16   37   9  152  202   0.570621  0.957346    0.5975  0.715044\n",
       "16       0.17   45  10  144  201   0.582609  0.952607    0.6150  0.723022\n",
       "17       0.18   55  12  134  199   0.597598  0.943128    0.6350  0.731618\n",
       "18       0.19   60  12  129  199   0.606707  0.943128    0.6475  0.738404\n",
       "19       0.20   61  13  128  198   0.607362  0.938389    0.6475  0.737430\n",
       "20       0.21   65  14  124  197   0.613707  0.933649    0.6550  0.740602\n",
       "21       0.22   69  17  120  194   0.617834  0.919431    0.6575  0.739048\n",
       "22       0.23   72  18  117  193   0.622581  0.914692    0.6625  0.740883\n",
       "23       0.24   74  20  115  191   0.624183  0.905213    0.6625  0.738878\n",
       "24       0.25   77  21  112  190   0.629139  0.900474    0.6675  0.740741\n",
       "25       0.26   81  21  108  190   0.637584  0.900474    0.6775  0.746562\n",
       "26       0.27   88  21  101  190   0.652921  0.900474    0.6950  0.756972\n",
       "27       0.28   92  21   97  190   0.662021  0.900474    0.7050  0.763052\n",
       "28       0.29   98  22   91  189   0.675000  0.895735    0.7175  0.769857\n",
       "29       0.30  100  23   89  188   0.678700  0.890995    0.7200  0.770492\n",
       "30       0.31  104  23   85  188   0.688645  0.890995    0.7300  0.776860\n",
       "31       0.32  107  25   82  186   0.694030  0.881517    0.7325  0.776618\n",
       "32       0.33  110  27   79  184   0.699620  0.872038    0.7350  0.776371\n",
       "33       0.34  112  29   77  182   0.702703  0.862559    0.7350  0.774468\n",
       "34       0.35  116  33   73  178   0.709163  0.843602    0.7350  0.770563\n",
       "35       0.36  121  39   68  172   0.716667  0.815166    0.7325  0.762749\n",
       "36       0.37  123  40   66  171   0.721519  0.810427    0.7350  0.763393\n",
       "37       0.38  123  40   66  171   0.721519  0.810427    0.7350  0.763393\n",
       "38       0.39  125  43   64  168   0.724138  0.796209    0.7325  0.758465\n",
       "39       0.40  128  47   61  164   0.728889  0.777251    0.7300  0.752294\n",
       "40       0.41  129  50   60  161   0.728507  0.763033    0.7250  0.745370\n",
       "41       0.42  131  50   58  161   0.735160  0.763033    0.7300  0.748837\n",
       "42       0.43  134  51   55  160   0.744186  0.758294    0.7350  0.751174\n",
       "43       0.44  135  54   54  157   0.744076  0.744076    0.7300  0.744076\n",
       "44       0.45  136  58   53  153   0.742718  0.725118    0.7225  0.733813\n",
       "45       0.46  136  61   53  150   0.738916  0.710900    0.7150  0.724638\n",
       "46       0.47  137  63   52  148   0.740000  0.701422    0.7125  0.720195\n",
       "47       0.48  139  65   50  146   0.744898  0.691943    0.7125  0.717445\n",
       "48       0.49  144  68   45  143   0.760638  0.677725    0.7175  0.716792\n",
       "49       0.50  144  69   45  142   0.759358  0.672986    0.7150  0.713568"
      ]
     },
     "execution_count": 55,
     "metadata": {},
     "output_type": "execute_result"
    }
   ],
   "source": [
    "df_results.head(50)"
   ]
  },
  {
   "cell_type": "markdown",
   "id": "930b4e1f",
   "metadata": {},
   "source": [
    "- Plotting the F1-score matching each value of threshold:"
   ]
  },
  {
   "cell_type": "code",
   "execution_count": 56,
   "id": "e607b459",
   "metadata": {
    "ExecuteTime": {
     "end_time": "2021-12-08T19:49:03.168874Z",
     "start_time": "2021-12-08T19:49:02.812874Z"
    }
   },
   "outputs": [
    {
     "name": "stderr",
     "output_type": "stream",
     "text": [
      "*c* argument looks like a single numeric RGB or RGBA sequence, which should be avoided as value-mapping will have precedence in case its length matches with *x* & *y*.  Please use the *color* keyword-argument or provide a 2-D array with a single row if you intend to specify the same RGB or RGBA value for all points.\n"
     ]
    },
    {
     "data": {
      "image/png": "[encoded data removed]",
      "text/plain": [
       "<Figure size 576x432 with 1 Axes>"
      ]
     },
     "metadata": {},
     "output_type": "display_data"
    }
   ],
   "source": [
    "grap = df_results[df_results[\"threshold\"] > 0.0].plot(kind=\"scatter\", \n",
    "                                                         x=\"threshold\", \n",
    "                                                         y=\"f1_score\", \n",
    "                                                         grid=True, \n",
    "                                                         legend=True, \n",
    "                                                         title=\"F1-Score\",\n",
    "                                                         figsize=[8,6])\n",
    "grap.set(xlabel=\"Threshold\", \n",
    "            ylabel=\"F1 Score\", \n",
    "            xlim=(0.0,1.02), \n",
    "            ylim=(0.0,1.0));\n"
   ]
  },
  {
   "cell_type": "markdown",
   "id": "7d230feb",
   "metadata": {},
   "source": [
    "- Plotting the Precision-Recall curve:"
   ]
  },
  {
   "cell_type": "code",
   "execution_count": 57,
   "id": "9743aa62",
   "metadata": {
    "ExecuteTime": {
     "end_time": "2021-12-08T19:49:03.526873Z",
     "start_time": "2021-12-08T19:49:03.170876Z"
    }
   },
   "outputs": [
    {
     "data": {
      "image/png": "[encoded data removed]",
      "text/plain": [
       "<Figure size 576x432 with 1 Axes>"
      ]
     },
     "metadata": {},
     "output_type": "display_data"
    }
   ],
   "source": [
    "k = 2\n",
    "fig = plt.figure(figsize = (k*4,k*3))\n",
    "ax1 = fig.add_subplot(111)\n",
    "ax1.scatter(df_results['threshold'], df_results['precision'], color = 'b', s = 7)\n",
    "ax1.scatter(df_results['threshold'], df_results['recall']   , color = 'g', s = 7)\n",
    "ax1.set_xlabel('Threshold', fontsize = 15)\n",
    "ax1.set_ylabel('Proportion', fontsize = 15)\n",
    "plt.title(\"Precision and Recall\", fontsize = 15);"
   ]
  },
  {
   "cell_type": "markdown",
   "id": "e3f72725",
   "metadata": {},
   "source": [
    "- Plotting the ROC (receiver operating characteristic) curve. The ROC curve is produced calculating and plotting the rate of True Positives against the rate of False Positives for a single classifier in a variety of thresholds. The area under this curve (calculated using an integer), is called the AUC (Area Under Curve), which gives us a performance measure for the classifier for the problem we're trying to solve with it."
   ]
  },
  {
   "cell_type": "code",
   "execution_count": 58,
   "id": "d78b6f02",
   "metadata": {
    "ExecuteTime": {
     "end_time": "2021-12-08T19:49:03.900874Z",
     "start_time": "2021-12-08T19:49:03.528876Z"
    }
   },
   "outputs": [
    {
     "data": {
      "image/png": "[encoded data removed]",
      "text/plain": [
       "<Figure size 576x576 with 1 Axes>"
      ]
     },
     "metadata": {},
     "output_type": "display_data"
    }
   ],
   "source": [
    "Y_proba_test = logregred.predict_proba(X_test_std)[::,1]\n",
    "fpr, tpr, _ = roc_curve(Y_test, Y_proba_test)\n",
    "auc = roc_auc_score(Y_test, Y_proba_test)\n",
    "plt.figure(figsize=(8,8))\n",
    "plt.plot(fpr,tpr,label=\"AUC=\"+str(np.round(auc,4)*100)+\"%\")\n",
    "plt.xlabel(\"Rate of False Positives\")\n",
    "plt.ylabel(\"Rate of True Positives\")\n",
    "plt.legend(loc=4)\n",
    "plt.show()"
   ]
  },
  {
   "cell_type": "markdown",
   "id": "1ca1d648",
   "metadata": {},
   "source": [
    "### Choosing the threshold for the regression model:\n",
    "- False Positives are bad wines which the model labeled as good while False Negatives are good wines which the model labeled as bad.\n",
    "\n",
    "\n",
    "- Depending on the business model a wine producer wishes to employ, they may wish to obtain more False Positives than False Negatives or vice-versa. A third option is a model in which these rates are balanced and we minimize both False Positives and False Negatives, as much as possible as it is possible to minimize them without damaging the other measures.\n",
    "\n",
    "\n",
    "- I chose to use a threshold which minimizes both False Negatives and False Positives (a threshold with the smallest sum of both in which they are not very unbalanced) because, in this particular problem, I interpret that both the rate of False Positives and the rate of False Negatives, when high, would bring high losses/disadvantages to the business. On one side, we would be selling good wines for the price of bad wines, which is simply a loss of money; on the other side, we would be selling bad wines for the price of good wines, which would make us lose consumers."
   ]
  },
  {
   "cell_type": "markdown",
   "id": "2bb19685",
   "metadata": {
    "ExecuteTime": {
     "end_time": "2021-11-22T17:01:21.320872Z",
     "start_time": "2021-11-22T17:01:21.299873Z"
    }
   },
   "source": [
    "### Parameters of the chosen threshold:"
   ]
  },
  {
   "cell_type": "code",
   "execution_count": 59,
   "id": "3ee3937e",
   "metadata": {
    "ExecuteTime": {
     "end_time": "2021-12-08T19:49:03.915873Z",
     "start_time": "2021-12-08T19:49:03.902875Z"
    }
   },
   "outputs": [
    {
     "data": {
      "text/plain": [
       "threshold      0.430000\n",
       "TN           134.000000\n",
       "FN            51.000000\n",
       "FP            55.000000\n",
       "TP           160.000000\n",
       "precision      0.744186\n",
       "recall         0.758294\n",
       "accuracy       0.735000\n",
       "f1_score       0.751174\n",
       "Name: 42, dtype: float64"
      ]
     },
     "execution_count": 59,
     "metadata": {},
     "output_type": "execute_result"
    }
   ],
   "source": [
    "df_results.loc[42]"
   ]
  },
  {
   "cell_type": "markdown",
   "id": "03fb2deb",
   "metadata": {},
   "source": [
    "- Let's create a new y_pred with the chosen threshold and see how the model behaves with it:"
   ]
  },
  {
   "cell_type": "code",
   "execution_count": 60,
   "id": "b0b4c8c9",
   "metadata": {
    "ExecuteTime": {
     "end_time": "2021-12-08T19:49:03.931874Z",
     "start_time": "2021-12-08T19:49:03.917875Z"
    }
   },
   "outputs": [],
   "source": [
    "Y_proba_test = logregred.predict_proba(X_test_std)\n",
    "y_pred2 = np.where(Y_proba_test[:,1] >= 0.43, 1, 0)"
   ]
  },
  {
   "cell_type": "code",
   "execution_count": 61,
   "id": "48692f16",
   "metadata": {
    "ExecuteTime": {
     "end_time": "2021-12-08T19:49:04.134874Z",
     "start_time": "2021-12-08T19:49:03.933875Z"
    }
   },
   "outputs": [
    {
     "data": {
      "image/png": "[encoded data removed]",
      "text/plain": [
       "<Figure size 432x288 with 1 Axes>"
      ]
     },
     "metadata": {},
     "output_type": "display_data"
    }
   ],
   "source": [
    "cm = confusion_matrix(Y_test, y_pred2)\n",
    "\n",
    "plot_confusion_matrix(conf_mat=cm)\n",
    "plt.show()"
   ]
  },
  {
   "cell_type": "markdown",
   "id": "00216275",
   "metadata": {},
   "source": [
    "### Scores of the Logistic Regression of the red wines with the new threshold:"
   ]
  },
  {
   "cell_type": "code",
   "execution_count": 62,
   "id": "0771565f",
   "metadata": {
    "ExecuteTime": {
     "end_time": "2021-12-08T19:49:04.165875Z",
     "start_time": "2021-12-08T19:49:04.136876Z"
    }
   },
   "outputs": [
    {
     "name": "stdout",
     "output_type": "stream",
     "text": [
      "Accuracy:  0.735\n",
      "Precision:  0.7441860465116279\n",
      "Recall:  0.7582938388625592\n",
      "F1-Score:  0.7511737089201879\n"
     ]
    }
   ],
   "source": [
    "print('Accuracy: ', accuracy_score(Y_test, y_pred2))\n",
    "print('Precision: ', precision_score(Y_test, y_pred2))\n",
    "print('Recall: ', recall_score(Y_test, y_pred2))\n",
    "print('F1-Score: ', f1_score(Y_test, y_pred2))"
   ]
  },
  {
   "cell_type": "markdown",
   "id": "700dae6a",
   "metadata": {},
   "source": [
    "### Coefficients for the Logistic Regression of the Red Wines:"
   ]
  },
  {
   "cell_type": "code",
   "execution_count": 63,
   "id": "0852ad68",
   "metadata": {
    "ExecuteTime": {
     "end_time": "2021-12-08T19:49:04.212875Z",
     "start_time": "2021-12-08T19:49:04.167876Z"
    }
   },
   "outputs": [
    {
     "data": {
      "text/html": [
       "<div>\n",
       "<style scoped>\n",
       "    .dataframe tbody tr th:only-of-type {\n",
       "        vertical-align: middle;\n",
       "    }\n",
       "\n",
       "    .dataframe tbody tr th {\n",
       "        vertical-align: top;\n",
       "    }\n",
       "\n",
       "    .dataframe thead th {\n",
       "        text-align: right;\n",
       "    }\n",
       "</style>\n",
       "<table border=\"1\" class=\"dataframe\">\n",
       "  <thead>\n",
       "    <tr style=\"text-align: right;\">\n",
       "      <th></th>\n",
       "      <th>Features</th>\n",
       "      <th>Scores</th>\n",
       "    </tr>\n",
       "  </thead>\n",
       "  <tbody>\n",
       "    <tr>\n",
       "      <th>0</th>\n",
       "      <td>alcohol</td>\n",
       "      <td>0.9259</td>\n",
       "    </tr>\n",
       "    <tr>\n",
       "      <th>1</th>\n",
       "      <td>sulphates</td>\n",
       "      <td>0.5091</td>\n",
       "    </tr>\n",
       "    <tr>\n",
       "      <th>2</th>\n",
       "      <td>fixed acidity</td>\n",
       "      <td>0.3055</td>\n",
       "    </tr>\n",
       "    <tr>\n",
       "      <th>3</th>\n",
       "      <td>free sulfur dioxide</td>\n",
       "      <td>0.1830</td>\n",
       "    </tr>\n",
       "    <tr>\n",
       "      <th>4</th>\n",
       "      <td>residual sugar</td>\n",
       "      <td>0.0590</td>\n",
       "    </tr>\n",
       "    <tr>\n",
       "      <th>5</th>\n",
       "      <td>pH</td>\n",
       "      <td>0.0361</td>\n",
       "    </tr>\n",
       "    <tr>\n",
       "      <th>6</th>\n",
       "      <td>density</td>\n",
       "      <td>-0.1104</td>\n",
       "    </tr>\n",
       "    <tr>\n",
       "      <th>7</th>\n",
       "      <td>citric acid</td>\n",
       "      <td>-0.1475</td>\n",
       "    </tr>\n",
       "    <tr>\n",
       "      <th>8</th>\n",
       "      <td>chlorides</td>\n",
       "      <td>-0.2834</td>\n",
       "    </tr>\n",
       "    <tr>\n",
       "      <th>9</th>\n",
       "      <td>total sulfur dioxide</td>\n",
       "      <td>-0.4655</td>\n",
       "    </tr>\n",
       "    <tr>\n",
       "      <th>10</th>\n",
       "      <td>volatile acidity</td>\n",
       "      <td>-0.4877</td>\n",
       "    </tr>\n",
       "  </tbody>\n",
       "</table>\n",
       "</div>"
      ],
      "text/plain": [
       "                Features  Scores\n",
       "0                alcohol  0.9259\n",
       "1              sulphates  0.5091\n",
       "2          fixed acidity  0.3055\n",
       "3    free sulfur dioxide  0.1830\n",
       "4         residual sugar  0.0590\n",
       "5                     pH  0.0361\n",
       "6                density -0.1104\n",
       "7            citric acid -0.1475\n",
       "8              chlorides -0.2834\n",
       "9   total sulfur dioxide -0.4655\n",
       "10      volatile acidity -0.4877"
      ]
     },
     "execution_count": 63,
     "metadata": {},
     "output_type": "execute_result"
    }
   ],
   "source": [
    "coefs=[]\n",
    "for x in np.nditer(logregred.coef_):\n",
    "    coefs.append(np.round(x,4))\n",
    "\n",
    "list_columns = list(X_train.columns)\n",
    "\n",
    "dictionary = {'Features': list_columns,\n",
    "              'Scores': coefs}\n",
    "\n",
    "df_features = pd.DataFrame(dictionary)\n",
    "df_features = df_features.sort_values(by=['Scores'], ascending=False)\n",
    "df_features.reset_index(inplace=True, drop=True)\n",
    "df_features"
   ]
  },
  {
   "cell_type": "markdown",
   "id": "eee2bfad",
   "metadata": {},
   "source": [
    "- According to these parameters, a wine producer who would like to produce a better wine should focus on making the wine have a lower quantity of the negative parameters and a higher quantity of the positive ones."
   ]
  },
  {
   "cell_type": "markdown",
   "id": "eafd1298",
   "metadata": {},
   "source": [
    "## Logistic Regression for the white wines:"
   ]
  },
  {
   "cell_type": "markdown",
   "id": "63c36217",
   "metadata": {
    "ExecuteTime": {
     "end_time": "2021-11-22T17:30:44.943421Z",
     "start_time": "2021-11-22T17:30:44.926421Z"
    }
   },
   "source": [
    "- Separating the database in X and Y:"
   ]
  },
  {
   "cell_type": "code",
   "execution_count": 64,
   "id": "f4590500",
   "metadata": {
    "ExecuteTime": {
     "end_time": "2021-12-08T19:49:04.227875Z",
     "start_time": "2021-12-08T19:49:04.214875Z"
    }
   },
   "outputs": [],
   "source": [
    "X=dfwhite3[corr_white]\n",
    "Y=dfwhite3[\"quality_boolean\"]"
   ]
  },
  {
   "cell_type": "markdown",
   "id": "188a3757",
   "metadata": {
    "ExecuteTime": {
     "end_time": "2021-11-22T17:29:10.988339Z",
     "start_time": "2021-11-22T17:29:10.979338Z"
    }
   },
   "source": [
    "- Separating the database in training data and test data:"
   ]
  },
  {
   "cell_type": "code",
   "execution_count": 65,
   "id": "f6407414",
   "metadata": {
    "ExecuteTime": {
     "end_time": "2021-12-08T19:49:04.243874Z",
     "start_time": "2021-12-08T19:49:04.229875Z"
    }
   },
   "outputs": [],
   "source": [
    "X_train,X_test,Y_train,Y_test=train_test_split(X,Y,test_size=0.30,random_state=42,stratify=Y)"
   ]
  },
  {
   "cell_type": "markdown",
   "id": "a96f54cd",
   "metadata": {},
   "source": [
    "- Standardizing the training data before applying the model:"
   ]
  },
  {
   "cell_type": "code",
   "execution_count": 66,
   "id": "210b291f",
   "metadata": {
    "ExecuteTime": {
     "end_time": "2021-12-08T19:49:04.258875Z",
     "start_time": "2021-12-08T19:49:04.245875Z"
    }
   },
   "outputs": [],
   "source": [
    "std=StandardScaler()\n",
    "X_train_std=std.fit_transform(X_train)\n",
    "X_test_std=std.transform(X_test)"
   ]
  },
  {
   "cell_type": "markdown",
   "id": "af785382",
   "metadata": {},
   "source": [
    "- Passing the data to the model:"
   ]
  },
  {
   "cell_type": "code",
   "execution_count": 67,
   "id": "26838675",
   "metadata": {
    "ExecuteTime": {
     "end_time": "2021-12-08T19:49:04.289874Z",
     "start_time": "2021-12-08T19:49:04.260876Z"
    }
   },
   "outputs": [
    {
     "data": {
      "text/plain": [
       "LogisticRegression(max_iter=1000)"
      ]
     },
     "execution_count": 67,
     "metadata": {},
     "output_type": "execute_result"
    }
   ],
   "source": [
    "logregwhite=LogisticRegression(max_iter=1000)\n",
    "logregwhite.fit(X_train_std,Y_train)"
   ]
  },
  {
   "cell_type": "markdown",
   "id": "a5e0f436",
   "metadata": {},
   "source": [
    "- Defining the prediction for the test data:"
   ]
  },
  {
   "cell_type": "code",
   "execution_count": 68,
   "id": "350b8e6d",
   "metadata": {
    "ExecuteTime": {
     "end_time": "2021-12-08T19:49:04.305875Z",
     "start_time": "2021-12-08T19:49:04.300873Z"
    }
   },
   "outputs": [],
   "source": [
    "Y_pred=logregwhite.predict(X_test_std)"
   ]
  },
  {
   "cell_type": "markdown",
   "id": "d63104f8",
   "metadata": {},
   "source": [
    "### Confusion matrix for the white wines:"
   ]
  },
  {
   "cell_type": "code",
   "execution_count": 69,
   "id": "5b12af2f",
   "metadata": {
    "ExecuteTime": {
     "end_time": "2021-12-08T19:49:04.523874Z",
     "start_time": "2021-12-08T19:49:04.308875Z"
    }
   },
   "outputs": [
    {
     "data": {
      "image/png": "[encoded data removed]",
      "text/plain": [
       "<Figure size 432x288 with 1 Axes>"
      ]
     },
     "metadata": {},
     "output_type": "display_data"
    }
   ],
   "source": [
    "cm=confusion_matrix(Y_test,Y_pred)\n",
    "plot_confusion_matrix(conf_mat=cm)\n",
    "plt.show()"
   ]
  },
  {
   "cell_type": "markdown",
   "id": "1b75fe5b",
   "metadata": {},
   "source": [
    "- There is a high rate of True Positives relative to True Negatives. There are also more False Positives than False Negatives. Therefore, recall is higher than precision."
   ]
  },
  {
   "cell_type": "code",
   "execution_count": 70,
   "id": "9b38774a",
   "metadata": {
    "ExecuteTime": {
     "end_time": "2021-12-08T19:49:04.554873Z",
     "start_time": "2021-12-08T19:49:04.525875Z"
    }
   },
   "outputs": [
    {
     "name": "stdout",
     "output_type": "stream",
     "text": [
      "Accuracy:  0.7495621716287215\n",
      "Precision:  0.785982478097622\n",
      "Recall:  0.845222072678331\n",
      "F1-Score:  0.814526588845655\n"
     ]
    }
   ],
   "source": [
    "print('Accuracy: ', accuracy_score(Y_test, Y_pred))\n",
    "print('Precision: ', precision_score(Y_test, Y_pred))\n",
    "print('Recall: ', recall_score(Y_test, Y_pred))\n",
    "print('F1-Score: ', f1_score(Y_test, Y_pred))"
   ]
  },
  {
   "cell_type": "markdown",
   "id": "229ab8ef",
   "metadata": {},
   "source": [
    "### Let's observe how different thresholds change the behavior of the model:"
   ]
  },
  {
   "cell_type": "code",
   "execution_count": 71,
   "id": "c94cd0c7",
   "metadata": {
    "ExecuteTime": {
     "end_time": "2021-12-08T19:49:04.570874Z",
     "start_time": "2021-12-08T19:49:04.556874Z"
    }
   },
   "outputs": [],
   "source": [
    "Y_proba_test = logregwhite.predict_proba(X_test_std)"
   ]
  },
  {
   "cell_type": "code",
   "execution_count": 72,
   "id": "3161d1e3",
   "metadata": {
    "ExecuteTime": {
     "end_time": "2021-12-08T19:49:04.601873Z",
     "start_time": "2021-12-08T19:49:04.572875Z"
    }
   },
   "outputs": [
    {
     "data": {
      "text/html": [
       "<div>\n",
       "<style scoped>\n",
       "    .dataframe tbody tr th:only-of-type {\n",
       "        vertical-align: middle;\n",
       "    }\n",
       "\n",
       "    .dataframe tbody tr th {\n",
       "        vertical-align: top;\n",
       "    }\n",
       "\n",
       "    .dataframe thead th {\n",
       "        text-align: right;\n",
       "    }\n",
       "</style>\n",
       "<table border=\"1\" class=\"dataframe\">\n",
       "  <thead>\n",
       "    <tr style=\"text-align: right;\">\n",
       "      <th></th>\n",
       "      <th>quality_boolean</th>\n",
       "      <th>proba</th>\n",
       "    </tr>\n",
       "  </thead>\n",
       "  <tbody>\n",
       "    <tr>\n",
       "      <th>1199</th>\n",
       "      <td>1</td>\n",
       "      <td>0.655</td>\n",
       "    </tr>\n",
       "    <tr>\n",
       "      <th>4135</th>\n",
       "      <td>0</td>\n",
       "      <td>0.913</td>\n",
       "    </tr>\n",
       "    <tr>\n",
       "      <th>3883</th>\n",
       "      <td>1</td>\n",
       "      <td>0.884</td>\n",
       "    </tr>\n",
       "    <tr>\n",
       "      <th>923</th>\n",
       "      <td>1</td>\n",
       "      <td>0.713</td>\n",
       "    </tr>\n",
       "    <tr>\n",
       "      <th>4651</th>\n",
       "      <td>1</td>\n",
       "      <td>0.963</td>\n",
       "    </tr>\n",
       "    <tr>\n",
       "      <th>...</th>\n",
       "      <td>...</td>\n",
       "      <td>...</td>\n",
       "    </tr>\n",
       "    <tr>\n",
       "      <th>4509</th>\n",
       "      <td>0</td>\n",
       "      <td>0.472</td>\n",
       "    </tr>\n",
       "    <tr>\n",
       "      <th>1675</th>\n",
       "      <td>0</td>\n",
       "      <td>0.444</td>\n",
       "    </tr>\n",
       "    <tr>\n",
       "      <th>2746</th>\n",
       "      <td>1</td>\n",
       "      <td>0.615</td>\n",
       "    </tr>\n",
       "    <tr>\n",
       "      <th>3052</th>\n",
       "      <td>1</td>\n",
       "      <td>0.827</td>\n",
       "    </tr>\n",
       "    <tr>\n",
       "      <th>1852</th>\n",
       "      <td>1</td>\n",
       "      <td>0.867</td>\n",
       "    </tr>\n",
       "  </tbody>\n",
       "</table>\n",
       "<p>1142 rows × 2 columns</p>\n",
       "</div>"
      ],
      "text/plain": [
       "     quality_boolean  proba\n",
       "1199               1  0.655\n",
       "4135               0  0.913\n",
       "3883               1  0.884\n",
       "923                1  0.713\n",
       "4651               1  0.963\n",
       "...              ...    ...\n",
       "4509               0  0.472\n",
       "1675               0  0.444\n",
       "2746               1  0.615\n",
       "3052               1  0.827\n",
       "1852               1  0.867\n",
       "\n",
       "[1142 rows x 2 columns]"
      ]
     },
     "execution_count": 72,
     "metadata": {},
     "output_type": "execute_result"
    }
   ],
   "source": [
    "results_test = pd.DataFrame(Y_test)\n",
    "results_test['proba'] = np.round(Y_proba_test[:,1], 3)\n",
    "results_test"
   ]
  },
  {
   "cell_type": "code",
   "execution_count": 73,
   "id": "9dd1700d",
   "metadata": {
    "ExecuteTime": {
     "end_time": "2021-12-08T19:49:05.283874Z",
     "start_time": "2021-12-08T19:49:04.603875Z"
    }
   },
   "outputs": [
    {
     "name": "stdout",
     "output_type": "stream",
     "text": [
      "0.01 0.02 0.03 0.04 0.05 0.06 0.07 0.08 0.09 0.1 0.11 0.12 0.13 0.14 0.15 0.16 0.17 0.18 0.19 0.2 0.21 0.22 0.23 0.24 0.25 0.26 0.27 0.28 0.29 0.3 0.31 0.32 0.33 0.34 0.35 0.36 0.37 0.38 0.39 0.4 0.41 0.42 0.43 0.44 0.45 0.46 0.47 0.48 0.49 0.5 0.51 0.52 0.53 0.54 0.55 0.56 0.57 0.58 0.59 0.6 0.61 0.62 0.63 0.64 0.65 0.66 0.67 0.68 0.69 0.7 0.71 0.72 0.73 0.74 0.75 0.76 0.77 0.78 0.79 0.8 0.81 0.82 0.83 0.84 0.85 0.86 0.87 0.88 0.89 0.9 0.91 0.92 0.93 0.94 0.95 0.96 0.97 0.98 0.99 1.0 "
     ]
    },
    {
     "name": "stderr",
     "output_type": "stream",
     "text": [
      "<ipython-input-73-b68959bcece3>:33: RuntimeWarning: invalid value encountered in longlong_scalars\n",
      "  precisiondf = np.where((TP + FP) > 0, TP / (TP + FP), 0)\n",
      "<ipython-input-73-b68959bcece3>:37: RuntimeWarning: invalid value encountered in double_scalars\n",
      "  f1_scoredf = np.where((precisiondf + recalldf) > 0, (2 * precisiondf * recalldf)/(precisiondf + recalldf), 0)\n"
     ]
    }
   ],
   "source": [
    "#Parameters of the loop\n",
    "threshold_increment  = 0.01\n",
    "threshold_begin = threshold_increment\n",
    "threshold_end    = 1.0\n",
    "\n",
    "# For each threshold, calculate TN, FN, FP, TP and other measures\n",
    "\n",
    "list_threshold  = []\n",
    "list_TN         = []\n",
    "list_FN         = []\n",
    "list_FP         = []\n",
    "list_TP         = []\n",
    "list_precision  = []\n",
    "list_recall     = []\n",
    "list_accuracy   = []\n",
    "list_f1_score   = []\n",
    "\n",
    "for i in np.arange(threshold_begin, threshold_end + threshold_increment, threshold_increment):\n",
    "    i_threshold = np.round(i, 2)\n",
    "    print(str(i_threshold) + ' ', end = '')\n",
    "    \n",
    "    results_test['y_pred'] = results_test['proba'].apply(lambda x: 1 if x >= i_threshold else 0)\n",
    "    results_test['flag_TN'] = np.where((results_test['y_pred'] == 0) & (results_test['quality_boolean'] == 0), 1, 0)\n",
    "    results_test['flag_FN'] = np.where((results_test['y_pred'] == 0) & (results_test['quality_boolean'] == 1), 1, 0)\n",
    "    results_test['flag_TP'] = np.where((results_test['y_pred'] == 1) & (results_test['quality_boolean'] == 1), 1, 0)\n",
    "    results_test['flag_FP'] = np.where((results_test['y_pred'] == 1) & (results_test['quality_boolean'] == 0), 1, 0)\n",
    "  \n",
    "    TN = results_test['flag_TN'].sum()\n",
    "    FN = results_test['flag_FN'].sum()\n",
    "    TP = results_test['flag_TP'].sum()\n",
    "    FP = results_test['flag_FP'].sum()\n",
    "    \n",
    "    precisiondf = np.where((TP + FP) > 0, TP / (TP + FP), 0)\n",
    "    recalldf = np.where((TP + FN) > 0, TP / (TP + FN), 0)\n",
    "    accuracydf = np.where((TN + FN + TP + FP) > 0, \n",
    "                         (TP + TN)/(TN + FN + TP + FP), 0)\n",
    "    f1_scoredf = np.where((precisiondf + recalldf) > 0, (2 * precisiondf * recalldf)/(precisiondf + recalldf), 0)\n",
    "    \n",
    "    list_threshold.append(i_threshold)\n",
    "    list_TN.append(TN)\n",
    "    list_FN.append(FN)\n",
    "    list_FP.append(FP)\n",
    "    list_TP.append(TP)\n",
    "    list_precision.append(np.round(precisiondf, 6))\n",
    "    list_recall.append(np.round(recalldf, 6))\n",
    "    list_accuracy.append(np.round(accuracydf, 6))\n",
    "    list_f1_score.append(np.round(f1_scoredf, 6))\n",
    "\n",
    "#---------------------\n",
    "dict_output = {\n",
    "  \"threshold\" : list_threshold, \n",
    "  \"TN\" : list_TN,\n",
    "  \"FN\" : list_FN,\n",
    "  \"FP\" : list_FP,\n",
    "  \"TP\" : list_TP,\n",
    "  \"precision\" : list_precision,\n",
    "  \"recall\" : list_recall,\n",
    "  \"accuracy\" : list_accuracy,\n",
    "  \"f1_score\" : list_f1_score\n",
    "}\n",
    "\n",
    "df_results = pd.DataFrame(dict_output)"
   ]
  },
  {
   "cell_type": "code",
   "execution_count": 74,
   "id": "1e4a622d",
   "metadata": {
    "ExecuteTime": {
     "end_time": "2021-12-08T19:49:05.330877Z",
     "start_time": "2021-12-08T19:49:05.285875Z"
    }
   },
   "outputs": [
    {
     "data": {
      "text/html": [
       "<div>\n",
       "<style scoped>\n",
       "    .dataframe tbody tr th:only-of-type {\n",
       "        vertical-align: middle;\n",
       "    }\n",
       "\n",
       "    .dataframe tbody tr th {\n",
       "        vertical-align: top;\n",
       "    }\n",
       "\n",
       "    .dataframe thead th {\n",
       "        text-align: right;\n",
       "    }\n",
       "</style>\n",
       "<table border=\"1\" class=\"dataframe\">\n",
       "  <thead>\n",
       "    <tr style=\"text-align: right;\">\n",
       "      <th></th>\n",
       "      <th>threshold</th>\n",
       "      <th>TN</th>\n",
       "      <th>FN</th>\n",
       "      <th>FP</th>\n",
       "      <th>TP</th>\n",
       "      <th>precision</th>\n",
       "      <th>recall</th>\n",
       "      <th>accuracy</th>\n",
       "      <th>f1_score</th>\n",
       "    </tr>\n",
       "  </thead>\n",
       "  <tbody>\n",
       "    <tr>\n",
       "      <th>0</th>\n",
       "      <td>0.01</td>\n",
       "      <td>1</td>\n",
       "      <td>1</td>\n",
       "      <td>398</td>\n",
       "      <td>742</td>\n",
       "      <td>0.650877</td>\n",
       "      <td>0.998654</td>\n",
       "      <td>0.650613</td>\n",
       "      <td>0.788104</td>\n",
       "    </tr>\n",
       "    <tr>\n",
       "      <th>1</th>\n",
       "      <td>0.02</td>\n",
       "      <td>2</td>\n",
       "      <td>1</td>\n",
       "      <td>397</td>\n",
       "      <td>742</td>\n",
       "      <td>0.651449</td>\n",
       "      <td>0.998654</td>\n",
       "      <td>0.651489</td>\n",
       "      <td>0.788523</td>\n",
       "    </tr>\n",
       "    <tr>\n",
       "      <th>2</th>\n",
       "      <td>0.03</td>\n",
       "      <td>3</td>\n",
       "      <td>1</td>\n",
       "      <td>396</td>\n",
       "      <td>742</td>\n",
       "      <td>0.652021</td>\n",
       "      <td>0.998654</td>\n",
       "      <td>0.652364</td>\n",
       "      <td>0.788942</td>\n",
       "    </tr>\n",
       "    <tr>\n",
       "      <th>3</th>\n",
       "      <td>0.04</td>\n",
       "      <td>5</td>\n",
       "      <td>2</td>\n",
       "      <td>394</td>\n",
       "      <td>741</td>\n",
       "      <td>0.652863</td>\n",
       "      <td>0.997308</td>\n",
       "      <td>0.653240</td>\n",
       "      <td>0.789137</td>\n",
       "    </tr>\n",
       "    <tr>\n",
       "      <th>4</th>\n",
       "      <td>0.05</td>\n",
       "      <td>5</td>\n",
       "      <td>3</td>\n",
       "      <td>394</td>\n",
       "      <td>740</td>\n",
       "      <td>0.652557</td>\n",
       "      <td>0.995962</td>\n",
       "      <td>0.652364</td>\n",
       "      <td>0.788492</td>\n",
       "    </tr>\n",
       "    <tr>\n",
       "      <th>5</th>\n",
       "      <td>0.06</td>\n",
       "      <td>5</td>\n",
       "      <td>3</td>\n",
       "      <td>394</td>\n",
       "      <td>740</td>\n",
       "      <td>0.652557</td>\n",
       "      <td>0.995962</td>\n",
       "      <td>0.652364</td>\n",
       "      <td>0.788492</td>\n",
       "    </tr>\n",
       "    <tr>\n",
       "      <th>6</th>\n",
       "      <td>0.07</td>\n",
       "      <td>6</td>\n",
       "      <td>3</td>\n",
       "      <td>393</td>\n",
       "      <td>740</td>\n",
       "      <td>0.653133</td>\n",
       "      <td>0.995962</td>\n",
       "      <td>0.653240</td>\n",
       "      <td>0.788913</td>\n",
       "    </tr>\n",
       "    <tr>\n",
       "      <th>7</th>\n",
       "      <td>0.08</td>\n",
       "      <td>8</td>\n",
       "      <td>4</td>\n",
       "      <td>391</td>\n",
       "      <td>739</td>\n",
       "      <td>0.653982</td>\n",
       "      <td>0.994616</td>\n",
       "      <td>0.654116</td>\n",
       "      <td>0.789108</td>\n",
       "    </tr>\n",
       "    <tr>\n",
       "      <th>8</th>\n",
       "      <td>0.09</td>\n",
       "      <td>9</td>\n",
       "      <td>4</td>\n",
       "      <td>390</td>\n",
       "      <td>739</td>\n",
       "      <td>0.654562</td>\n",
       "      <td>0.994616</td>\n",
       "      <td>0.654991</td>\n",
       "      <td>0.789530</td>\n",
       "    </tr>\n",
       "    <tr>\n",
       "      <th>9</th>\n",
       "      <td>0.10</td>\n",
       "      <td>16</td>\n",
       "      <td>4</td>\n",
       "      <td>383</td>\n",
       "      <td>739</td>\n",
       "      <td>0.658645</td>\n",
       "      <td>0.994616</td>\n",
       "      <td>0.661121</td>\n",
       "      <td>0.792493</td>\n",
       "    </tr>\n",
       "    <tr>\n",
       "      <th>10</th>\n",
       "      <td>0.11</td>\n",
       "      <td>21</td>\n",
       "      <td>4</td>\n",
       "      <td>378</td>\n",
       "      <td>739</td>\n",
       "      <td>0.661594</td>\n",
       "      <td>0.994616</td>\n",
       "      <td>0.665499</td>\n",
       "      <td>0.794624</td>\n",
       "    </tr>\n",
       "    <tr>\n",
       "      <th>11</th>\n",
       "      <td>0.12</td>\n",
       "      <td>22</td>\n",
       "      <td>4</td>\n",
       "      <td>377</td>\n",
       "      <td>739</td>\n",
       "      <td>0.662186</td>\n",
       "      <td>0.994616</td>\n",
       "      <td>0.666375</td>\n",
       "      <td>0.795051</td>\n",
       "    </tr>\n",
       "    <tr>\n",
       "      <th>12</th>\n",
       "      <td>0.13</td>\n",
       "      <td>24</td>\n",
       "      <td>4</td>\n",
       "      <td>375</td>\n",
       "      <td>739</td>\n",
       "      <td>0.663375</td>\n",
       "      <td>0.994616</td>\n",
       "      <td>0.668126</td>\n",
       "      <td>0.795907</td>\n",
       "    </tr>\n",
       "    <tr>\n",
       "      <th>13</th>\n",
       "      <td>0.14</td>\n",
       "      <td>26</td>\n",
       "      <td>5</td>\n",
       "      <td>373</td>\n",
       "      <td>738</td>\n",
       "      <td>0.664266</td>\n",
       "      <td>0.993271</td>\n",
       "      <td>0.669002</td>\n",
       "      <td>0.796117</td>\n",
       "    </tr>\n",
       "    <tr>\n",
       "      <th>14</th>\n",
       "      <td>0.15</td>\n",
       "      <td>28</td>\n",
       "      <td>5</td>\n",
       "      <td>371</td>\n",
       "      <td>738</td>\n",
       "      <td>0.665464</td>\n",
       "      <td>0.993271</td>\n",
       "      <td>0.670753</td>\n",
       "      <td>0.796976</td>\n",
       "    </tr>\n",
       "    <tr>\n",
       "      <th>15</th>\n",
       "      <td>0.16</td>\n",
       "      <td>34</td>\n",
       "      <td>6</td>\n",
       "      <td>365</td>\n",
       "      <td>737</td>\n",
       "      <td>0.668784</td>\n",
       "      <td>0.991925</td>\n",
       "      <td>0.675131</td>\n",
       "      <td>0.798916</td>\n",
       "    </tr>\n",
       "    <tr>\n",
       "      <th>16</th>\n",
       "      <td>0.17</td>\n",
       "      <td>35</td>\n",
       "      <td>6</td>\n",
       "      <td>364</td>\n",
       "      <td>737</td>\n",
       "      <td>0.669391</td>\n",
       "      <td>0.991925</td>\n",
       "      <td>0.676007</td>\n",
       "      <td>0.799349</td>\n",
       "    </tr>\n",
       "    <tr>\n",
       "      <th>17</th>\n",
       "      <td>0.18</td>\n",
       "      <td>38</td>\n",
       "      <td>6</td>\n",
       "      <td>361</td>\n",
       "      <td>737</td>\n",
       "      <td>0.671220</td>\n",
       "      <td>0.991925</td>\n",
       "      <td>0.678634</td>\n",
       "      <td>0.800652</td>\n",
       "    </tr>\n",
       "    <tr>\n",
       "      <th>18</th>\n",
       "      <td>0.19</td>\n",
       "      <td>41</td>\n",
       "      <td>8</td>\n",
       "      <td>358</td>\n",
       "      <td>735</td>\n",
       "      <td>0.672461</td>\n",
       "      <td>0.989233</td>\n",
       "      <td>0.679510</td>\n",
       "      <td>0.800654</td>\n",
       "    </tr>\n",
       "    <tr>\n",
       "      <th>19</th>\n",
       "      <td>0.20</td>\n",
       "      <td>45</td>\n",
       "      <td>10</td>\n",
       "      <td>354</td>\n",
       "      <td>733</td>\n",
       "      <td>0.674333</td>\n",
       "      <td>0.986541</td>\n",
       "      <td>0.681261</td>\n",
       "      <td>0.801093</td>\n",
       "    </tr>\n",
       "    <tr>\n",
       "      <th>20</th>\n",
       "      <td>0.21</td>\n",
       "      <td>47</td>\n",
       "      <td>10</td>\n",
       "      <td>352</td>\n",
       "      <td>733</td>\n",
       "      <td>0.675576</td>\n",
       "      <td>0.986541</td>\n",
       "      <td>0.683012</td>\n",
       "      <td>0.801969</td>\n",
       "    </tr>\n",
       "    <tr>\n",
       "      <th>21</th>\n",
       "      <td>0.22</td>\n",
       "      <td>51</td>\n",
       "      <td>12</td>\n",
       "      <td>348</td>\n",
       "      <td>731</td>\n",
       "      <td>0.677479</td>\n",
       "      <td>0.983849</td>\n",
       "      <td>0.684764</td>\n",
       "      <td>0.802415</td>\n",
       "    </tr>\n",
       "    <tr>\n",
       "      <th>22</th>\n",
       "      <td>0.23</td>\n",
       "      <td>56</td>\n",
       "      <td>12</td>\n",
       "      <td>343</td>\n",
       "      <td>731</td>\n",
       "      <td>0.680633</td>\n",
       "      <td>0.983849</td>\n",
       "      <td>0.689142</td>\n",
       "      <td>0.804623</td>\n",
       "    </tr>\n",
       "    <tr>\n",
       "      <th>23</th>\n",
       "      <td>0.24</td>\n",
       "      <td>60</td>\n",
       "      <td>17</td>\n",
       "      <td>339</td>\n",
       "      <td>726</td>\n",
       "      <td>0.681690</td>\n",
       "      <td>0.977120</td>\n",
       "      <td>0.688266</td>\n",
       "      <td>0.803097</td>\n",
       "    </tr>\n",
       "    <tr>\n",
       "      <th>24</th>\n",
       "      <td>0.25</td>\n",
       "      <td>70</td>\n",
       "      <td>19</td>\n",
       "      <td>329</td>\n",
       "      <td>724</td>\n",
       "      <td>0.687559</td>\n",
       "      <td>0.974428</td>\n",
       "      <td>0.695271</td>\n",
       "      <td>0.806236</td>\n",
       "    </tr>\n",
       "    <tr>\n",
       "      <th>25</th>\n",
       "      <td>0.26</td>\n",
       "      <td>76</td>\n",
       "      <td>21</td>\n",
       "      <td>323</td>\n",
       "      <td>722</td>\n",
       "      <td>0.690909</td>\n",
       "      <td>0.971736</td>\n",
       "      <td>0.698774</td>\n",
       "      <td>0.807606</td>\n",
       "    </tr>\n",
       "    <tr>\n",
       "      <th>26</th>\n",
       "      <td>0.27</td>\n",
       "      <td>80</td>\n",
       "      <td>24</td>\n",
       "      <td>319</td>\n",
       "      <td>719</td>\n",
       "      <td>0.692678</td>\n",
       "      <td>0.967699</td>\n",
       "      <td>0.699650</td>\n",
       "      <td>0.807412</td>\n",
       "    </tr>\n",
       "    <tr>\n",
       "      <th>27</th>\n",
       "      <td>0.28</td>\n",
       "      <td>87</td>\n",
       "      <td>28</td>\n",
       "      <td>312</td>\n",
       "      <td>715</td>\n",
       "      <td>0.696203</td>\n",
       "      <td>0.962315</td>\n",
       "      <td>0.702277</td>\n",
       "      <td>0.807910</td>\n",
       "    </tr>\n",
       "    <tr>\n",
       "      <th>28</th>\n",
       "      <td>0.29</td>\n",
       "      <td>89</td>\n",
       "      <td>31</td>\n",
       "      <td>310</td>\n",
       "      <td>712</td>\n",
       "      <td>0.696673</td>\n",
       "      <td>0.958277</td>\n",
       "      <td>0.701401</td>\n",
       "      <td>0.806799</td>\n",
       "    </tr>\n",
       "    <tr>\n",
       "      <th>29</th>\n",
       "      <td>0.30</td>\n",
       "      <td>93</td>\n",
       "      <td>36</td>\n",
       "      <td>306</td>\n",
       "      <td>707</td>\n",
       "      <td>0.697927</td>\n",
       "      <td>0.951548</td>\n",
       "      <td>0.700525</td>\n",
       "      <td>0.805239</td>\n",
       "    </tr>\n",
       "    <tr>\n",
       "      <th>30</th>\n",
       "      <td>0.31</td>\n",
       "      <td>100</td>\n",
       "      <td>37</td>\n",
       "      <td>299</td>\n",
       "      <td>706</td>\n",
       "      <td>0.702488</td>\n",
       "      <td>0.950202</td>\n",
       "      <td>0.705779</td>\n",
       "      <td>0.807780</td>\n",
       "    </tr>\n",
       "    <tr>\n",
       "      <th>31</th>\n",
       "      <td>0.32</td>\n",
       "      <td>107</td>\n",
       "      <td>38</td>\n",
       "      <td>292</td>\n",
       "      <td>705</td>\n",
       "      <td>0.707121</td>\n",
       "      <td>0.948856</td>\n",
       "      <td>0.711033</td>\n",
       "      <td>0.810345</td>\n",
       "    </tr>\n",
       "    <tr>\n",
       "      <th>32</th>\n",
       "      <td>0.33</td>\n",
       "      <td>111</td>\n",
       "      <td>41</td>\n",
       "      <td>288</td>\n",
       "      <td>702</td>\n",
       "      <td>0.709091</td>\n",
       "      <td>0.944818</td>\n",
       "      <td>0.711909</td>\n",
       "      <td>0.810156</td>\n",
       "    </tr>\n",
       "    <tr>\n",
       "      <th>33</th>\n",
       "      <td>0.34</td>\n",
       "      <td>114</td>\n",
       "      <td>43</td>\n",
       "      <td>285</td>\n",
       "      <td>700</td>\n",
       "      <td>0.710660</td>\n",
       "      <td>0.942127</td>\n",
       "      <td>0.712785</td>\n",
       "      <td>0.810185</td>\n",
       "    </tr>\n",
       "    <tr>\n",
       "      <th>34</th>\n",
       "      <td>0.35</td>\n",
       "      <td>118</td>\n",
       "      <td>49</td>\n",
       "      <td>281</td>\n",
       "      <td>694</td>\n",
       "      <td>0.711795</td>\n",
       "      <td>0.934051</td>\n",
       "      <td>0.711033</td>\n",
       "      <td>0.807916</td>\n",
       "    </tr>\n",
       "    <tr>\n",
       "      <th>35</th>\n",
       "      <td>0.36</td>\n",
       "      <td>125</td>\n",
       "      <td>51</td>\n",
       "      <td>274</td>\n",
       "      <td>692</td>\n",
       "      <td>0.716356</td>\n",
       "      <td>0.931359</td>\n",
       "      <td>0.715412</td>\n",
       "      <td>0.809830</td>\n",
       "    </tr>\n",
       "    <tr>\n",
       "      <th>36</th>\n",
       "      <td>0.37</td>\n",
       "      <td>132</td>\n",
       "      <td>57</td>\n",
       "      <td>267</td>\n",
       "      <td>686</td>\n",
       "      <td>0.719832</td>\n",
       "      <td>0.923284</td>\n",
       "      <td>0.716287</td>\n",
       "      <td>0.808962</td>\n",
       "    </tr>\n",
       "    <tr>\n",
       "      <th>37</th>\n",
       "      <td>0.38</td>\n",
       "      <td>141</td>\n",
       "      <td>62</td>\n",
       "      <td>258</td>\n",
       "      <td>681</td>\n",
       "      <td>0.725240</td>\n",
       "      <td>0.916555</td>\n",
       "      <td>0.719790</td>\n",
       "      <td>0.809750</td>\n",
       "    </tr>\n",
       "    <tr>\n",
       "      <th>38</th>\n",
       "      <td>0.39</td>\n",
       "      <td>145</td>\n",
       "      <td>66</td>\n",
       "      <td>254</td>\n",
       "      <td>677</td>\n",
       "      <td>0.727175</td>\n",
       "      <td>0.911171</td>\n",
       "      <td>0.719790</td>\n",
       "      <td>0.808841</td>\n",
       "    </tr>\n",
       "    <tr>\n",
       "      <th>39</th>\n",
       "      <td>0.40</td>\n",
       "      <td>150</td>\n",
       "      <td>69</td>\n",
       "      <td>249</td>\n",
       "      <td>674</td>\n",
       "      <td>0.730228</td>\n",
       "      <td>0.907133</td>\n",
       "      <td>0.721541</td>\n",
       "      <td>0.809124</td>\n",
       "    </tr>\n",
       "    <tr>\n",
       "      <th>40</th>\n",
       "      <td>0.41</td>\n",
       "      <td>157</td>\n",
       "      <td>72</td>\n",
       "      <td>242</td>\n",
       "      <td>671</td>\n",
       "      <td>0.734940</td>\n",
       "      <td>0.903096</td>\n",
       "      <td>0.725044</td>\n",
       "      <td>0.810386</td>\n",
       "    </tr>\n",
       "    <tr>\n",
       "      <th>41</th>\n",
       "      <td>0.42</td>\n",
       "      <td>168</td>\n",
       "      <td>79</td>\n",
       "      <td>231</td>\n",
       "      <td>664</td>\n",
       "      <td>0.741899</td>\n",
       "      <td>0.893674</td>\n",
       "      <td>0.728546</td>\n",
       "      <td>0.810745</td>\n",
       "    </tr>\n",
       "    <tr>\n",
       "      <th>42</th>\n",
       "      <td>0.43</td>\n",
       "      <td>177</td>\n",
       "      <td>81</td>\n",
       "      <td>222</td>\n",
       "      <td>662</td>\n",
       "      <td>0.748869</td>\n",
       "      <td>0.890983</td>\n",
       "      <td>0.734676</td>\n",
       "      <td>0.813768</td>\n",
       "    </tr>\n",
       "    <tr>\n",
       "      <th>43</th>\n",
       "      <td>0.44</td>\n",
       "      <td>187</td>\n",
       "      <td>83</td>\n",
       "      <td>212</td>\n",
       "      <td>660</td>\n",
       "      <td>0.756881</td>\n",
       "      <td>0.888291</td>\n",
       "      <td>0.741681</td>\n",
       "      <td>0.817337</td>\n",
       "    </tr>\n",
       "    <tr>\n",
       "      <th>44</th>\n",
       "      <td>0.45</td>\n",
       "      <td>191</td>\n",
       "      <td>90</td>\n",
       "      <td>208</td>\n",
       "      <td>653</td>\n",
       "      <td>0.758420</td>\n",
       "      <td>0.878869</td>\n",
       "      <td>0.739054</td>\n",
       "      <td>0.814214</td>\n",
       "    </tr>\n",
       "    <tr>\n",
       "      <th>45</th>\n",
       "      <td>0.46</td>\n",
       "      <td>201</td>\n",
       "      <td>94</td>\n",
       "      <td>198</td>\n",
       "      <td>649</td>\n",
       "      <td>0.766234</td>\n",
       "      <td>0.873486</td>\n",
       "      <td>0.744308</td>\n",
       "      <td>0.816352</td>\n",
       "    </tr>\n",
       "    <tr>\n",
       "      <th>46</th>\n",
       "      <td>0.47</td>\n",
       "      <td>205</td>\n",
       "      <td>96</td>\n",
       "      <td>194</td>\n",
       "      <td>647</td>\n",
       "      <td>0.769322</td>\n",
       "      <td>0.870794</td>\n",
       "      <td>0.746060</td>\n",
       "      <td>0.816919</td>\n",
       "    </tr>\n",
       "    <tr>\n",
       "      <th>47</th>\n",
       "      <td>0.48</td>\n",
       "      <td>209</td>\n",
       "      <td>98</td>\n",
       "      <td>190</td>\n",
       "      <td>645</td>\n",
       "      <td>0.772455</td>\n",
       "      <td>0.868102</td>\n",
       "      <td>0.747811</td>\n",
       "      <td>0.817490</td>\n",
       "    </tr>\n",
       "    <tr>\n",
       "      <th>48</th>\n",
       "      <td>0.49</td>\n",
       "      <td>222</td>\n",
       "      <td>106</td>\n",
       "      <td>177</td>\n",
       "      <td>637</td>\n",
       "      <td>0.782555</td>\n",
       "      <td>0.857335</td>\n",
       "      <td>0.752189</td>\n",
       "      <td>0.818240</td>\n",
       "    </tr>\n",
       "    <tr>\n",
       "      <th>49</th>\n",
       "      <td>0.50</td>\n",
       "      <td>227</td>\n",
       "      <td>115</td>\n",
       "      <td>172</td>\n",
       "      <td>628</td>\n",
       "      <td>0.785000</td>\n",
       "      <td>0.845222</td>\n",
       "      <td>0.748687</td>\n",
       "      <td>0.813999</td>\n",
       "    </tr>\n",
       "  </tbody>\n",
       "</table>\n",
       "</div>"
      ],
      "text/plain": [
       "    threshold   TN   FN   FP   TP  precision    recall  accuracy  f1_score\n",
       "0        0.01    1    1  398  742   0.650877  0.998654  0.650613  0.788104\n",
       "1        0.02    2    1  397  742   0.651449  0.998654  0.651489  0.788523\n",
       "2        0.03    3    1  396  742   0.652021  0.998654  0.652364  0.788942\n",
       "3        0.04    5    2  394  741   0.652863  0.997308  0.653240  0.789137\n",
       "4        0.05    5    3  394  740   0.652557  0.995962  0.652364  0.788492\n",
       "5        0.06    5    3  394  740   0.652557  0.995962  0.652364  0.788492\n",
       "6        0.07    6    3  393  740   0.653133  0.995962  0.653240  0.788913\n",
       "7        0.08    8    4  391  739   0.653982  0.994616  0.654116  0.789108\n",
       "8        0.09    9    4  390  739   0.654562  0.994616  0.654991  0.789530\n",
       "9        0.10   16    4  383  739   0.658645  0.994616  0.661121  0.792493\n",
       "10       0.11   21    4  378  739   0.661594  0.994616  0.665499  0.794624\n",
       "11       0.12   22    4  377  739   0.662186  0.994616  0.666375  0.795051\n",
       "12       0.13   24    4  375  739   0.663375  0.994616  0.668126  0.795907\n",
       "13       0.14   26    5  373  738   0.664266  0.993271  0.669002  0.796117\n",
       "14       0.15   28    5  371  738   0.665464  0.993271  0.670753  0.796976\n",
       "15       0.16   34    6  365  737   0.668784  0.991925  0.675131  0.798916\n",
       "16       0.17   35    6  364  737   0.669391  0.991925  0.676007  0.799349\n",
       "17       0.18   38    6  361  737   0.671220  0.991925  0.678634  0.800652\n",
       "18       0.19   41    8  358  735   0.672461  0.989233  0.679510  0.800654\n",
       "19       0.20   45   10  354  733   0.674333  0.986541  0.681261  0.801093\n",
       "20       0.21   47   10  352  733   0.675576  0.986541  0.683012  0.801969\n",
       "21       0.22   51   12  348  731   0.677479  0.983849  0.684764  0.802415\n",
       "22       0.23   56   12  343  731   0.680633  0.983849  0.689142  0.804623\n",
       "23       0.24   60   17  339  726   0.681690  0.977120  0.688266  0.803097\n",
       "24       0.25   70   19  329  724   0.687559  0.974428  0.695271  0.806236\n",
       "25       0.26   76   21  323  722   0.690909  0.971736  0.698774  0.807606\n",
       "26       0.27   80   24  319  719   0.692678  0.967699  0.699650  0.807412\n",
       "27       0.28   87   28  312  715   0.696203  0.962315  0.702277  0.807910\n",
       "28       0.29   89   31  310  712   0.696673  0.958277  0.701401  0.806799\n",
       "29       0.30   93   36  306  707   0.697927  0.951548  0.700525  0.805239\n",
       "30       0.31  100   37  299  706   0.702488  0.950202  0.705779  0.807780\n",
       "31       0.32  107   38  292  705   0.707121  0.948856  0.711033  0.810345\n",
       "32       0.33  111   41  288  702   0.709091  0.944818  0.711909  0.810156\n",
       "33       0.34  114   43  285  700   0.710660  0.942127  0.712785  0.810185\n",
       "34       0.35  118   49  281  694   0.711795  0.934051  0.711033  0.807916\n",
       "35       0.36  125   51  274  692   0.716356  0.931359  0.715412  0.809830\n",
       "36       0.37  132   57  267  686   0.719832  0.923284  0.716287  0.808962\n",
       "37       0.38  141   62  258  681   0.725240  0.916555  0.719790  0.809750\n",
       "38       0.39  145   66  254  677   0.727175  0.911171  0.719790  0.808841\n",
       "39       0.40  150   69  249  674   0.730228  0.907133  0.721541  0.809124\n",
       "40       0.41  157   72  242  671   0.734940  0.903096  0.725044  0.810386\n",
       "41       0.42  168   79  231  664   0.741899  0.893674  0.728546  0.810745\n",
       "42       0.43  177   81  222  662   0.748869  0.890983  0.734676  0.813768\n",
       "43       0.44  187   83  212  660   0.756881  0.888291  0.741681  0.817337\n",
       "44       0.45  191   90  208  653   0.758420  0.878869  0.739054  0.814214\n",
       "45       0.46  201   94  198  649   0.766234  0.873486  0.744308  0.816352\n",
       "46       0.47  205   96  194  647   0.769322  0.870794  0.746060  0.816919\n",
       "47       0.48  209   98  190  645   0.772455  0.868102  0.747811  0.817490\n",
       "48       0.49  222  106  177  637   0.782555  0.857335  0.752189  0.818240\n",
       "49       0.50  227  115  172  628   0.785000  0.845222  0.748687  0.813999"
      ]
     },
     "execution_count": 74,
     "metadata": {},
     "output_type": "execute_result"
    }
   ],
   "source": [
    "df_results.head(50)"
   ]
  },
  {
   "cell_type": "markdown",
   "id": "5a785191",
   "metadata": {},
   "source": [
    "- Plotting the curve which relates F1-score and the different thresholds:"
   ]
  },
  {
   "cell_type": "code",
   "execution_count": 75,
   "id": "51c64a25",
   "metadata": {
    "ExecuteTime": {
     "end_time": "2021-12-08T19:49:05.687875Z",
     "start_time": "2021-12-08T19:49:05.332875Z"
    }
   },
   "outputs": [
    {
     "name": "stderr",
     "output_type": "stream",
     "text": [
      "*c* argument looks like a single numeric RGB or RGBA sequence, which should be avoided as value-mapping will have precedence in case its length matches with *x* & *y*.  Please use the *color* keyword-argument or provide a 2-D array with a single row if you intend to specify the same RGB or RGBA value for all points.\n"
     ]
    },
    {
     "data": {
      "image/png": "[encoded data removed]",
      "text/plain": [
       "<Figure size 576x432 with 1 Axes>"
      ]
     },
     "metadata": {},
     "output_type": "display_data"
    }
   ],
   "source": [
    "grap = df_results[df_results[\"threshold\"] > 0.0].plot(kind=\"scatter\", \n",
    "                                                         x=\"threshold\", \n",
    "                                                         y=\"f1_score\", \n",
    "                                                         grid=True, \n",
    "                                                         legend=True, \n",
    "                                                         title=\"F1-Score\",\n",
    "                                                         figsize=[8,6])\n",
    "grap.set(xlabel=\"Threshold\", \n",
    "            ylabel=\"F1 Score\", \n",
    "            xlim=(0.0,1.02), \n",
    "            ylim=(0.0,1.0));\n"
   ]
  },
  {
   "cell_type": "markdown",
   "id": "6296b122",
   "metadata": {},
   "source": [
    "- Plotting the Precision-Recall curve:"
   ]
  },
  {
   "cell_type": "code",
   "execution_count": 76,
   "id": "43a6c36d",
   "metadata": {
    "ExecuteTime": {
     "end_time": "2021-12-08T19:49:06.047874Z",
     "start_time": "2021-12-08T19:49:05.690876Z"
    }
   },
   "outputs": [
    {
     "data": {
      "image/png": "[encoded data removed]",
      "text/plain": [
       "<Figure size 576x432 with 1 Axes>"
      ]
     },
     "metadata": {},
     "output_type": "display_data"
    }
   ],
   "source": [
    "k = 2\n",
    "fig = plt.figure(figsize = (k*4,k*3))\n",
    "ax1 = fig.add_subplot(111)\n",
    "ax1.scatter(df_results['threshold'], df_results['precision'], color = 'b', s = 7)\n",
    "ax1.scatter(df_results['threshold'], df_results['recall']   , color = 'g', s = 7)\n",
    "ax1.set_xlabel('Threshold', fontsize = 15)\n",
    "ax1.set_ylabel('Proportion', fontsize = 15)\n",
    "plt.title(\"Precision and Recall\", fontsize = 15);"
   ]
  },
  {
   "cell_type": "markdown",
   "id": "9a728b28",
   "metadata": {},
   "source": [
    "- Plotting the ROC curve and calculating AUC:"
   ]
  },
  {
   "cell_type": "code",
   "execution_count": 77,
   "id": "51bd6cff",
   "metadata": {
    "ExecuteTime": {
     "end_time": "2021-12-08T19:49:06.403873Z",
     "start_time": "2021-12-08T19:49:06.049875Z"
    }
   },
   "outputs": [
    {
     "data": {
      "image/png": "[encoded data removed]",
      "text/plain": [
       "<Figure size 576x576 with 1 Axes>"
      ]
     },
     "metadata": {},
     "output_type": "display_data"
    }
   ],
   "source": [
    "Y_proba_test = logregred.predict_proba(X_test_std)[::,1]\n",
    "fpr, tpr, _ = roc_curve(Y_test, Y_proba_test)\n",
    "auc = roc_auc_score(Y_test, Y_proba_test)\n",
    "plt.figure(figsize=(8,8))\n",
    "plt.plot(fpr,tpr,label=\"AUC=\"+str(np.round(auc,4)*100)+\"%\")\n",
    "plt.xlabel(\"Rate of False Positives\")\n",
    "plt.ylabel(\"Rate of True Positives\")\n",
    "plt.legend(loc=4)\n",
    "plt.show()"
   ]
  },
  {
   "cell_type": "markdown",
   "id": "72503d1b",
   "metadata": {},
   "source": [
    "### Choosing the threshold for the regression:"
   ]
  },
  {
   "cell_type": "markdown",
   "id": "d0e588f8",
   "metadata": {},
   "source": [
    "- Again, I chose to work with the threshold which produces the lowest number of false labels"
   ]
  },
  {
   "cell_type": "code",
   "execution_count": 78,
   "id": "f20249ad",
   "metadata": {
    "ExecuteTime": {
     "end_time": "2021-12-08T19:49:06.419874Z",
     "start_time": "2021-12-08T19:49:06.405875Z"
    }
   },
   "outputs": [
    {
     "name": "stdout",
     "output_type": "stream",
     "text": [
      "[283, 48]\n"
     ]
    }
   ],
   "source": [
    "#Finding the threshold with the lowest sum of FN and FP:\n",
    "menor=[800,0]\n",
    "for i in range(len(df_results[\"FN\"])):\n",
    "    abc=df_results[\"FN\"][i]+df_results[\"FP\"][i]\n",
    "    if abc<menor[0]:\n",
    "        menor[0]=abc\n",
    "        menor[1]=i\n",
    "print(menor)"
   ]
  },
  {
   "cell_type": "markdown",
   "id": "915d9c17",
   "metadata": {},
   "source": [
    "### Parameters of the new threshold:"
   ]
  },
  {
   "cell_type": "code",
   "execution_count": 79,
   "id": "0c3e3d4d",
   "metadata": {
    "ExecuteTime": {
     "end_time": "2021-12-08T19:49:06.435873Z",
     "start_time": "2021-12-08T19:49:06.421876Z"
    }
   },
   "outputs": [
    {
     "data": {
      "text/plain": [
       "threshold      0.490000\n",
       "TN           222.000000\n",
       "FN           106.000000\n",
       "FP           177.000000\n",
       "TP           637.000000\n",
       "precision      0.782555\n",
       "recall         0.857335\n",
       "accuracy       0.752189\n",
       "f1_score       0.818240\n",
       "Name: 48, dtype: float64"
      ]
     },
     "execution_count": 79,
     "metadata": {},
     "output_type": "execute_result"
    }
   ],
   "source": [
    "df_results.loc[48]"
   ]
  },
  {
   "cell_type": "code",
   "execution_count": 80,
   "id": "3f25111f",
   "metadata": {
    "ExecuteTime": {
     "end_time": "2021-12-08T19:49:06.450874Z",
     "start_time": "2021-12-08T19:49:06.437875Z"
    }
   },
   "outputs": [],
   "source": [
    "Y_proba_test = logregwhite.predict_proba(X_test_std)\n",
    "y_pred2 = np.where(Y_proba_test[:,1] >= 0.49, 1, 0)"
   ]
  },
  {
   "cell_type": "code",
   "execution_count": 81,
   "id": "8cb3044c",
   "metadata": {
    "ExecuteTime": {
     "end_time": "2021-12-08T19:49:06.639874Z",
     "start_time": "2021-12-08T19:49:06.452875Z"
    }
   },
   "outputs": [
    {
     "data": {
      "image/png": "[encoded data removed]",
      "text/plain": [
       "<Figure size 432x288 with 1 Axes>"
      ]
     },
     "metadata": {},
     "output_type": "display_data"
    }
   ],
   "source": [
    "cm = confusion_matrix(Y_test, y_pred2)\n",
    "\n",
    "plot_confusion_matrix(conf_mat=cm)\n",
    "plt.show()"
   ]
  },
  {
   "cell_type": "markdown",
   "id": "451e860d",
   "metadata": {},
   "source": [
    "### Scores for the Logistic Regression of the white wines with the new threshold:"
   ]
  },
  {
   "cell_type": "code",
   "execution_count": 82,
   "id": "a3cb1e84",
   "metadata": {
    "ExecuteTime": {
     "end_time": "2021-12-08T19:49:06.669874Z",
     "start_time": "2021-12-08T19:49:06.640874Z"
    }
   },
   "outputs": [
    {
     "name": "stdout",
     "output_type": "stream",
     "text": [
      "Accuracy:  0.7521891418563923\n",
      "Precision:  0.7825552825552825\n",
      "Recall:  0.857335127860027\n",
      "F1-Score:  0.8182402055234425\n"
     ]
    }
   ],
   "source": [
    "print('Accuracy: ', accuracy_score(Y_test, y_pred2))\n",
    "print('Precision: ', precision_score(Y_test, y_pred2))\n",
    "print('Recall: ', recall_score(Y_test, y_pred2))\n",
    "print('F1-Score: ', f1_score(Y_test, y_pred2))"
   ]
  },
  {
   "cell_type": "code",
   "execution_count": 83,
   "id": "2b022868",
   "metadata": {
    "ExecuteTime": {
     "end_time": "2021-12-08T19:49:06.685874Z",
     "start_time": "2021-12-08T19:49:06.671875Z"
    }
   },
   "outputs": [
    {
     "data": {
      "text/html": [
       "<div>\n",
       "<style scoped>\n",
       "    .dataframe tbody tr th:only-of-type {\n",
       "        vertical-align: middle;\n",
       "    }\n",
       "\n",
       "    .dataframe tbody tr th {\n",
       "        vertical-align: top;\n",
       "    }\n",
       "\n",
       "    .dataframe thead th {\n",
       "        text-align: right;\n",
       "    }\n",
       "</style>\n",
       "<table border=\"1\" class=\"dataframe\">\n",
       "  <thead>\n",
       "    <tr style=\"text-align: right;\">\n",
       "      <th></th>\n",
       "      <th>Features</th>\n",
       "      <th>Scores</th>\n",
       "    </tr>\n",
       "  </thead>\n",
       "  <tbody>\n",
       "    <tr>\n",
       "      <th>0</th>\n",
       "      <td>residual sugar</td>\n",
       "      <td>1.0400</td>\n",
       "    </tr>\n",
       "    <tr>\n",
       "      <th>1</th>\n",
       "      <td>alcohol</td>\n",
       "      <td>0.4700</td>\n",
       "    </tr>\n",
       "    <tr>\n",
       "      <th>2</th>\n",
       "      <td>pH</td>\n",
       "      <td>0.3648</td>\n",
       "    </tr>\n",
       "    <tr>\n",
       "      <th>3</th>\n",
       "      <td>free sulfur dioxide</td>\n",
       "      <td>0.2260</td>\n",
       "    </tr>\n",
       "    <tr>\n",
       "      <th>4</th>\n",
       "      <td>fixed acidity</td>\n",
       "      <td>0.2064</td>\n",
       "    </tr>\n",
       "    <tr>\n",
       "      <th>5</th>\n",
       "      <td>sulphates</td>\n",
       "      <td>0.2005</td>\n",
       "    </tr>\n",
       "    <tr>\n",
       "      <th>6</th>\n",
       "      <td>citric acid</td>\n",
       "      <td>0.0339</td>\n",
       "    </tr>\n",
       "    <tr>\n",
       "      <th>7</th>\n",
       "      <td>chlorides</td>\n",
       "      <td>0.0277</td>\n",
       "    </tr>\n",
       "    <tr>\n",
       "      <th>8</th>\n",
       "      <td>total sulfur dioxide</td>\n",
       "      <td>-0.0533</td>\n",
       "    </tr>\n",
       "    <tr>\n",
       "      <th>9</th>\n",
       "      <td>volatile acidity</td>\n",
       "      <td>-0.6186</td>\n",
       "    </tr>\n",
       "    <tr>\n",
       "      <th>10</th>\n",
       "      <td>density</td>\n",
       "      <td>-1.3943</td>\n",
       "    </tr>\n",
       "  </tbody>\n",
       "</table>\n",
       "</div>"
      ],
      "text/plain": [
       "                Features  Scores\n",
       "0         residual sugar  1.0400\n",
       "1                alcohol  0.4700\n",
       "2                     pH  0.3648\n",
       "3    free sulfur dioxide  0.2260\n",
       "4          fixed acidity  0.2064\n",
       "5              sulphates  0.2005\n",
       "6            citric acid  0.0339\n",
       "7              chlorides  0.0277\n",
       "8   total sulfur dioxide -0.0533\n",
       "9       volatile acidity -0.6186\n",
       "10               density -1.3943"
      ]
     },
     "execution_count": 83,
     "metadata": {},
     "output_type": "execute_result"
    }
   ],
   "source": [
    "coefs=[]\n",
    "for x in np.nditer(logregwhite.coef_):\n",
    "    coefs.append(np.round(x,4))\n",
    "\n",
    "list_columns = list(X_train.columns)\n",
    "\n",
    "dictionary = {'Features': list_columns,\n",
    "              'Scores': coefs}\n",
    "\n",
    "df_features = pd.DataFrame(dictionary)\n",
    "df_features = df_features.sort_values(by=['Scores'], ascending=False)\n",
    "df_features.reset_index(inplace=True, drop=True)\n",
    "df_features"
   ]
  },
  {
   "cell_type": "markdown",
   "id": "e806fedf",
   "metadata": {},
   "source": [
    "- According to these parameters, a wine producer who would like to produce a better wine should focus on making the wine have a lower quantity of the negative parameters and a higher quantity of the positive ones."
   ]
  },
  {
   "cell_type": "markdown",
   "id": "b16060bb",
   "metadata": {},
   "source": [
    "## Conclusions about the Logistic Regression:"
   ]
  },
  {
   "cell_type": "markdown",
   "id": "aab2a665",
   "metadata": {},
   "source": [
    "- The model apparently manages to work better with the data than the linear regression and produced measures which are way better, both for the red wines and the white wines.\n",
    "\n",
    "- The white wines, in the Logistic Regression, produced, again, coefficients which are very different than those of the red wines. The databases are very different, of course, but what I mean is, for example: for the red wines, the feature \"alcohol\" has the highest absolute value while, for the white wines, the feature which the model sets the highest absolute coefficient to is \"residual sugar\"). It's probably a better choice to work with these data bases separately to obtain better predictions and avoid causing a bias in the model."
   ]
  }
 ],
 "metadata": {
  "kernelspec": {
   "display_name": "Python 3",
   "language": "python",
   "name": "python3"
  },
  "language_info": {
   "codemirror_mode": {
    "name": "ipython",
    "version": 3
   },
   "file_extension": ".py",
   "mimetype": "text/x-python",
   "name": "python",
   "nbconvert_exporter": "python",
   "pygments_lexer": "ipython3",
   "version": "3.8.8"
  },
  "toc": {
   "base_numbering": 1,
   "nav_menu": {},
   "number_sections": true,
   "sideBar": true,
   "skip_h1_title": false,
   "title_cell": "Table of Contents",
   "title_sidebar": "Contents",
   "toc_cell": false,
   "toc_position": {
    "height": "calc(100% - 180px)",
    "left": "10px",
    "top": "150px",
    "width": "307.2px"
   },
   "toc_section_display": true,
   "toc_window_display": true
  },
  "varInspector": {
   "cols": {
    "lenName": 16,
    "lenType": 16,
    "lenVar": 40
   },
   "kernels_config": {
    "python": {
     "delete_cmd_postfix": "",
     "delete_cmd_prefix": "del ",
     "library": "var_list.py",
     "varRefreshCmd": "print(var_dic_list())"
    },
    "r": {
     "delete_cmd_postfix": ") ",
     "delete_cmd_prefix": "rm(",
     "library": "var_list.r",
     "varRefreshCmd": "cat(var_dic_list()) "
    }
   },
   "types_to_exclude": [
    "module",
    "function",
    "builtin_function_or_method",
    "instance",
    "_Feature"
   ],
   "window_display": false
  }
 },
 "nbformat": 4,
 "nbformat_minor": 5
}
